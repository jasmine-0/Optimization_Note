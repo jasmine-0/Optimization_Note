{
 "cells": [
  {
   "cell_type": "markdown",
   "metadata": {},
   "source": [
    "# 第11章 拟牛顿法"
   ]
  },
  {
   "cell_type": "markdown",
   "metadata": {},
   "source": [
    "## 11.1 引言"
   ]
  },
  {
   "cell_type": "markdown",
   "metadata": {},
   "source": [
    "拟牛顿法的思路是通过设计牛顿法中的$\\mathbf{F}\\left(\\mathbf{x}^{\\left(k\\right)}\\right)^{-1}$的近似矩阵来代替$\\mathbf{F}\\left(\\mathbf{x}^{\\left(k\\right)}\\right)^{-1}$。$\\mathbf{F}\\left(\\mathbf{x}^{\\left(k\\right)}\\right)^{-1}$的近似矩阵随着迭代的进行不断更新，使其至少拥有$\\mathbf{F}\\left(\\mathbf{x}^{\\left(k\\right)}\\right)^{-1}$的的部分性质。"
   ]
  },
  {
   "cell_type": "markdown",
   "metadata": {},
   "source": [
    "引入等式\n",
    "$$\\mathbf{x}^{\\left(k+1\\right)}=\\mathbf{x}^{\\left(k\\right)}-\\alpha\\mathbf{H}_k\\mathbf{g}^{\\left(k\\right)}$$\n",
    "其中，$\\mathbf{H}_k$是$n\\times n$实矩阵，是$\\mathbf{F}\\left(\\mathbf{x}^{\\left(k\\right)}\\right)^{-1}$的替代矩阵，$\\alpha>0$为搜索步长。"
   ]
  },
  {
   "cell_type": "markdown",
   "metadata": {},
   "source": [
    "在$\\mathbf{x}^{\\left(k\\right)}$处对$f$进行一阶泰勒展开，并将$\\mathbf{x}^{\\left(k+1\\right)}$带入后，可得\n",
    "$$f\\left(\\mathbf{x}^{\\left(k+1\\right)}\\right)=f\\left(\\mathbf{x}^{\\left(k\\right)}\\right)+\\mathbf{g}^{\\left(k\\right)\\top}\\left(\\mathbf{x}^{\\left(k+1\\right)}-\\mathbf{x}^{\\left(k\\right)}\\right)+o\\left(\\|\\mathbf{x}^{\\left(k+1\\right)}-\\mathbf{x}^{\\left(k\\right)}\\|\\right)  \\\\\n",
    "=f\\left(\\mathbf{x}^{\\left(k\\right)}\\right)-\\alpha\\mathbf{g}^{\\left(k\\right)\\top}\\mathbf{H}_k\\mathbf{g}^{\\left(k\\right)}+o\\left(\\alpha\\|\\mathbf{H}_k\\mathbf{g}^{\\left(k\\right)}\\|\\right)$$"
   ]
  },
  {
   "cell_type": "markdown",
   "metadata": {},
   "source": [
    "当$\\alpha$趋向于$0$时，上式等号右侧的第2项主导了第3项。因此，当$\\alpha$比较小时，为保证函数$f$从$\\mathbf{x}^{\\left(k\\right)}$到$\\mathbf{x}^{\\left(k+1\\right)}$是下降的，必须有\n",
    "$$\\mathbf{g}^{\\left(k\\right)\\top}\\mathbf{H}_k\\mathbf{g}^{\\left(k\\right)}>0$$\n",
    "为保证上式成立，最简单的方法就是保证$\\mathbf{H}_k$是正定的。"
   ]
  },
  {
   "cell_type": "markdown",
   "metadata": {},
   "source": [
    "## 11.2 黑塞矩阵逆矩阵的近似"
   ]
  },
  {
   "cell_type": "markdown",
   "metadata": {},
   "source": [
    "令$\\mathbf{H}_0,\\mathbf{H}_1,\\dots$表示黑塞矩阵逆矩阵$\\mathbf{F}\\left(\\mathbf{x}^{\\left(k\\right)}\\right)^{-1}$的一系列近似矩阵。假定目标函数$f$的黑塞矩阵$\\mathbf{F}\\left(\\mathbf{x}\\right)$是常数矩阵，与$\\mathbf{x}$的取值无关，即目标函数是二次型函数，$\\mathbf{F}\\left(\\mathbf{x}\\right)=\\mathbf{Q}$，且$\\mathbf{Q}=\\mathbf{Q}^\\top$，则有\n",
    "$$\\mathbf{g}^{\\left(k+1\\right)}-\\mathbf{g}^{\\left(k\\right)}=\\mathbf{Q}\\left(\\mathbf{x}^{\\left(k+1\\right)}-\\mathbf{x}^{\\left(k\\right)}\\right)$$"
   ]
  },
  {
   "cell_type": "markdown",
   "metadata": {},
   "source": [
    "令\n",
    "$$\\varDelta\\mathbf{g}^{\\left(k\\right)}\\triangleq\\mathbf{g}^{\\left(k+1\\right)}-\\mathbf{g}^{\\left(k\\right)}  \\\\\n",
    "\\varDelta\\mathbf{x}^{\\left(k\\right)}\\triangleq\\mathbf{x}^{\\left(k+1\\right)}-\\mathbf{x}^{\\left(k\\right)}  $$\n",
    "可得\n",
    "$$\\varDelta\\mathbf{g}^{\\left(k\\right)}=\\mathbf{Q}\\varDelta\\mathbf{x}^{\\left(k\\right)}$$"
   ]
  },
  {
   "cell_type": "markdown",
   "metadata": {},
   "source": [
    "记对称正定矩阵$\\mathbf{H}_0$作为近似矩阵的初始矩阵，在给定的$k$下，矩阵$\\mathbf{Q}^{-1}$应满足\n",
    "$$\\mathbf{Q}^{-1}\\varDelta\\mathbf{g}^{\\left(i\\right)}=\\varDelta\\mathbf{x}^{\\left(i\\right)},\\quad 0\\leqslant i\\leqslant k$$"
   ]
  },
  {
   "cell_type": "markdown",
   "metadata": {},
   "source": [
    "因此近似矩阵$\\mathbf{H}_{k+1}$应满足\n",
    "$$\\mathbf{H}_{k+1}\\varDelta\\mathbf{g}^{\\left(i\\right)}=\\varDelta\\mathbf{x}^{\\left(i\\right)},\\quad 0\\leqslant i\\leqslant k$$"
   ]
  },
  {
   "cell_type": "markdown",
   "metadata": {},
   "source": [
    "如果共开展$n$次迭代，则近似矩阵$\\mathbf{H}_{n}$应满足\n",
    "$$\\mathbf{H}_{n}\\varDelta\\mathbf{g}^{\\left(i\\right)}=\\varDelta\\mathbf{x}^{\\left(i\\right)},\\quad 0\\leqslant i\\leqslant n-1$$"
   ]
  },
  {
   "cell_type": "markdown",
   "metadata": {},
   "source": [
    "将其改写为\n",
    "$$\\mathbf{H}_n\\left[\\varDelta\\mathbf{g}^{\\left(0\\right)},\\varDelta\\mathbf{g}^{\\left(1\\right)}\\dots,\\varDelta\\mathbf{g}^{\\left(n-1\\right)}\\right]=\\left[\\varDelta\\mathbf{x}^{\\left(0\\right)},\\varDelta\\mathbf{x}^{\\left(1\\right)}\\dots,\\varDelta\\mathbf{x}^{\\left(n-1\\right)}\\right]$$"
   ]
  },
  {
   "cell_type": "markdown",
   "metadata": {},
   "source": [
    "矩阵$\\mathbf{Q}$能够满足\n",
    "$$\\mathbf{Q}\\left[\\varDelta\\mathbf{x}^{\\left(0\\right)},\\varDelta\\mathbf{x}^{\\left(1\\right)}\\dots,\\varDelta\\mathbf{x}^{\\left(n-1\\right)}\\right]=\\left[\\varDelta\\mathbf{g}^{\\left(0\\right)},\\varDelta\\mathbf{g}^{\\left(1\\right)}\\dots,\\varDelta\\mathbf{g}^{\\left(n-1\\right)}\\right]$$\n",
    "和\n",
    "$$\\mathbf{Q}^{-1}\\left[\\varDelta\\mathbf{g}^{\\left(0\\right)},\\varDelta\\mathbf{g}^{\\left(1\\right)}\\dots,\\varDelta\\mathbf{g}^{\\left(n-1\\right)}\\right]=\\left[\\varDelta\\mathbf{x}^{\\left(0\\right)},\\varDelta\\mathbf{x}^{\\left(1\\right)}\\dots,\\varDelta\\mathbf{x}^{\\left(n-1\\right)}\\right]$$"
   ]
  },
  {
   "cell_type": "markdown",
   "metadata": {},
   "source": [
    "说明，如果$\\left[\\varDelta\\mathbf{g}^{\\left(0\\right)},\\varDelta\\mathbf{g}^{\\left(1\\right)}\\dots,\\varDelta\\mathbf{g}^{\\left(n-1\\right)}\\right]$非奇异，那么矩阵$\\mathbf{Q}^{-1}$能够在$n$次迭代后唯一确定，即\n",
    "$$\\mathbf{Q}^{-1}=\\mathbf{H}_n=\\left[\\varDelta\\mathbf{x}^{\\left(0\\right)},\\varDelta\\mathbf{x}^{\\left(1\\right)}\\dots,\\varDelta\\mathbf{x}^{\\left(n-1\\right)}\\right]\\left[\\varDelta\\mathbf{g}^{\\left(0\\right)},\\varDelta\\mathbf{g}^{\\left(1\\right)}\\dots,\\varDelta\\mathbf{g}^{\\left(n-1\\right)}\\right]^{-1}$$"
   ]
  },
  {
   "cell_type": "markdown",
   "metadata": {},
   "source": [
    "由此可得，如果$\\mathbf{H}_n$能够使方程$\\mathbf{H}_{n}\\varDelta\\mathbf{g}^{\\left(i\\right)}=\\varDelta\\mathbf{x}^{\\left(i\\right)},0\\leqslant i\\leqslant n-1$，那么利用迭代公式$\\mathbf{x}^{\\left(k+1\\right)}=\\mathbf{x}^{\\left(k\\right)}-\\alpha\\mathbf{H}_k\\mathbf{g}^{\\left(k\\right)},\\alpha_k=\\arg\\min_{\\alpha\\geqslant0}f\\left(\\mathbf{x}^{\\left(k\\right)}-\\alpha\\mathbf{H}_k\\mathbf{g}^{\\left(k\\right)}\\right)$求解$n$维二次型优化问题，可得$\\mathbf{x}^{\\left(n+1\\right)}=\\mathbf{x}^{\\left(n\\right)}-\\alpha\\mathbf{H}_n\\mathbf{g}^{\\left(n\\right)}$，这与牛顿迭代公式是一致的，说明一定能够在$n+1$次迭代内完成求解。"
   ]
  },
  {
   "cell_type": "markdown",
   "metadata": {},
   "source": [
    "拟牛顿法的迭代公式为\n",
    "$$\\mathbf{d}^{\\left(k\\right)}=-\\mathbf{H}_k\\mathbf{g}^{\\left(k\\right)} \\\\\n",
    "\\alpha_k=\\arg\\min_{\\alpha\\geqslant0}f\\left(\\mathbf{x}^{\\left(k\\right)}-\\alpha\\mathbf{d}^{\\left(k\\right)}\\right)  \\\\\n",
    "\\mathbf{x}^{\\left(k+1\\right)}=\\mathbf{x}^{\\left(k\\right)}+\\alpha_k\\mathbf{d}^{\\left(k\\right)}$$\n",
    "其中，矩阵$\\mathbf{H}_0,\\mathbf{H}_1,\\dots$是对称矩阵。"
   ]
  },
  {
   "cell_type": "markdown",
   "metadata": {},
   "source": [
    "目标函数为二次型函数时，必须满足\n",
    "$$\\mathbf{H}_{k+1}\\varDelta\\mathbf{g}^{\\left(i\\right)}=\\varDelta\\mathbf{x}^{\\left(i\\right)},\\quad 0\\leqslant i\\leqslant k$$\n",
    "其中，$\\varDelta\\mathbf{x}^{\\left(i\\right)}={x}^{\\left(i+1\\right)}-{x}^{\\left(i\\right)}=\\alpha_i\\mathbf{d}^{\\left(i\\right)},\\varDelta\\mathbf{g}^{\\left(i\\right)}=\\mathbf{g}^{\\left(i+1\\right)}-\\mathbf{g}^{\\left(i\\right)}=\\mathbf{Q}\\varDelta\\mathbf{x}^{\\left(i\\right)}$。"
   ]
  },
  {
   "cell_type": "markdown",
   "metadata": {},
   "source": [
    "由满足条件并不能唯一确定矩阵$\\mathbf{H}_k$。矩阵$\\mathbf{H}_{k+1}$可由矩阵$\\mathbf{H}_{k}$增加修正项得到。"
   ]
  },
  {
   "cell_type": "markdown",
   "metadata": {},
   "source": [
    "## 11.3 秩1修正公式"
   ]
  },
  {
   "cell_type": "markdown",
   "metadata": {},
   "source": [
    "秩1修正公式中，修正项为$\\alpha_k\\mathbf{z}^{\\left(k\\right)}\\mathbf{z}^{\\left(k\\right)\\top}$，$\\alpha\\in\\mathbb{R},\\mathbf{z}^{\\left(k\\right)}\\in\\mathbb{R}^n$，是一个对称矩阵，近似矩阵的跟新方程为\n",
    "$$\\mathbf{H}_{k+1}=\\mathbf{H}_k+\\alpha_k\\mathbf{z}^{\\left(k\\right)}\\mathbf{z}^{\\left(k\\right)\\top}$$"
   ]
  },
  {
   "cell_type": "markdown",
   "metadata": {},
   "source": [
    "注意\n",
    "$$\\mathrm{rank}\\thinspace\\mathbf{z}^{\\left(k\\right)}\\mathbf{z}^{\\left(k\\right)\\top}=\\mathrm{rank}\\left(\\begin{bmatrix} \\mathbf{z}_1^{\\left(k\\right)} \\\\ \\mathbf{z}_2^{\\left(k\\right)} \\\\ \\vdots \\\\ \\mathbf{z}_n^{\\left(k\\right)} \\end{bmatrix}\\left[\\mathbf{z}_1^{\\left(k\\right)},\\mathbf{z}_2^{\\left(k\\right)},\\dots,\\mathbf{z}_n^{\\left(k\\right)}\\right]\\right)=1$$\n",
    "故称为秩1修正算法。"
   ]
  },
  {
   "cell_type": "markdown",
   "metadata": {},
   "source": [
    "由于需满足条件\n",
    "$$\\mathbf{H}_{k+1}\\varDelta\\mathbf{g}^{\\left(i\\right)}=\\varDelta\\mathbf{x}^{\\left(i\\right)},\\quad 0\\leqslant i\\leqslant k$$\n",
    "则\n",
    "$$\\left(\\mathbf{H}_k+\\alpha_k\\mathbf{z}^{\\left(k\\right)}\\mathbf{z}^{\\left(k\\right)\\top}\\right)\\varDelta\\mathbf{g}^{\\left(i\\right)}=\\varDelta\\mathbf{x}^{\\left(i\\right)}$$"
   ]
  },
  {
   "cell_type": "markdown",
   "metadata": {},
   "source": [
    "注意$\\mathbf{z}^{\\left(k\\right)\\top}\\varDelta\\mathbf{g}^{\\left(k\\right)}$是一个标量，因此\n",
    "$$\\varDelta\\mathbf{x}^{\\left(k\\right)}-\\mathbf{H}_k\\varDelta\\mathbf{g}^{\\left(k\\right)}=\\left(\\alpha_k\\mathbf{z}^{\\left(k\\right)\\top}\\varDelta\\mathbf{g}^{\\left(k\\right)}\\right)\\mathbf{z}^{\\left(k\\right)}$$\n",
    "得\n",
    "$$\\mathbf{z}^{\\left(k\\right)}=\\frac{\\varDelta\\mathbf{x}^{\\left(k\\right)}-\\mathbf{H}_k\\varDelta\\mathbf{g}^{\\left(k\\right)}}{\\alpha_k\\left(\\mathbf{z}^{\\left(k\\right)\\top}\\varDelta\\mathbf{g}^{\\left(k\\right)}\\right)}$$"
   ]
  },
  {
   "cell_type": "markdown",
   "metadata": {},
   "source": [
    "据此可得\n",
    "$$\\alpha\\mathbf{z}^{\\left(k\\right)}\\mathbf{z}^{\\left(k\\right)\\top}=\\frac{\\left(\\varDelta\\mathbf{x}^{\\left(k\\right)}-\\mathbf{H}_k\\varDelta\\mathbf{g}^{\\left(k\\right)}\\right)\\left(\\varDelta\\mathbf{x}^{\\left(k\\right)}-\\mathbf{H}_k\\varDelta\\mathbf{g}^{\\left(k\\right)}\\right)^\\top}{\\alpha_k\\left(\\mathbf{z}^{\\left(k\\right)\\top}\\varDelta\\mathbf{g}^{\\left(k\\right)}\\right)^2}$$"
   ]
  },
  {
   "cell_type": "markdown",
   "metadata": {},
   "source": [
    "可得近似矩阵的中间更新方程\n",
    "$$\\mathbf{H}_{k+1}=\\mathbf{H}_k+\\frac{\\left(\\varDelta\\mathbf{x}^{\\left(k\\right)}-\\mathbf{H}_k\\varDelta\\mathbf{g}^{\\left(k\\right)}\\right)\\left(\\varDelta\\mathbf{x}^{\\left(k\\right)}-\\mathbf{H}_k\\varDelta\\mathbf{g}^{\\left(k\\right)}\\right)^\\top}{\\alpha_k\\left(\\mathbf{z}^{\\left(k\\right)\\top}\\varDelta\\mathbf{g}^{\\left(k\\right)}\\right)^2}$$"
   ]
  },
  {
   "cell_type": "markdown",
   "metadata": {},
   "source": [
    "为将上式中右端整理为只与$\\mathbf{H}_k$、$\\varDelta\\mathbf{g}^{\\left(k\\right)}$、$\\varDelta\\mathbf{x}^{\\left(k\\right)}$有关，在$\\varDelta\\mathbf{x}^{\\left(k\\right)}-\\mathbf{H}_k\\varDelta\\mathbf{g}^{\\left(k\\right)}=\\left(\\alpha_k\\mathbf{z}^{\\left(k\\right)\\top}\\varDelta\\mathbf{g}^{\\left(k\\right)}\\right)\\mathbf{z}^{\\left(k\\right)}$两端同时左乘$\\varDelta\\mathbf{g}^{\\left(k\\right)\\top}$，可得\n",
    "$$\\varDelta\\mathbf{g}^{\\left(k\\right)\\top}\\varDelta\\mathbf{x}^{\\left(k\\right)}-\\varDelta\\mathbf{g}^{\\left(k\\right)\\top}\\mathbf{H}_k\\varDelta\\mathbf{g}^{\\left(k\\right)}=\\varDelta\\mathbf{g}^{\\left(k\\right)\\top}\\alpha_k\\mathbf{z}^{\\left(k\\right)\\top}\\varDelta\\mathbf{g}^{\\left(k\\right)}\\mathbf{z}^{\\left(k\\right)}$$"
   ]
  },
  {
   "cell_type": "markdown",
   "metadata": {},
   "source": [
    "由于$\\alpha_k$为标量，$\\varDelta\\mathbf{g}^{\\left(k\\right)\\top}\\mathbf{z}^{\\left(k\\right)}=\\varDelta\\mathbf{z}^{\\left(k\\right)\\top}\\mathbf{g}^{\\left(k\\right)}$为标量，因此\n",
    "$$\\varDelta\\mathbf{g}^{\\left(k\\right)\\top}\\varDelta\\mathbf{x}^{\\left(k\\right)}-\\varDelta\\mathbf{g}^{\\left(k\\right)\\top}\\mathbf{H}_k\\varDelta\\mathbf{g}^{\\left(k\\right)}=\\alpha_k\\left(\\mathbf{z}^{\\left(k\\right)\\top}\\varDelta\\mathbf{g}^{\\left(k\\right)}\\right)^2$$"
   ]
  },
  {
   "cell_type": "markdown",
   "metadata": {},
   "source": [
    "将上式带入中间更新方程，得最终更新方程\n",
    "$$\\mathbf{H}_{k+1}=\\mathbf{H}_k+\\frac{\\left(\\varDelta\\mathbf{x}^{\\left(k\\right)}-\\mathbf{H}_k\\varDelta\\mathbf{g}^{\\left(k\\right)}\\right)\\left(\\varDelta\\mathbf{x}^{\\left(k\\right)}-\\mathbf{H}_k\\varDelta\\mathbf{g}^{\\left(k\\right)}\\right)^\\top}{\\varDelta\\mathbf{g}^{\\left(k\\right)\\top}\\left(\\varDelta\\mathbf{x}^{\\left(k\\right)}-\\mathbf{H}_k\\varDelta\\mathbf{g}^{\\left(k\\right)}\\right)}$$"
   ]
  },
  {
   "cell_type": "markdown",
   "metadata": {},
   "source": [
    "秩1算法：\n",
    "1. 令$k=0$；选择初始点$\\mathbf{x}^{\\left(0\\right)}$，任选一个对称正定实矩阵$\\mathbf{H}_0$。\n",
    "2. 如果$\\mathbf{g}^{\\left(k\\right)}=0$，停止迭代；否则，令$\\mathbf{d}^{\\left(k\\right)}=-\\mathbf{H}_k\\mathbf{g}^{\\left(k\\right)}$。\n",
    "3. 计算\n",
    "$$\\alpha_k=\\arg\\min_{\\alpha\\geqslant0}f\\left(\\mathbf{x}^{\\left(k\\right)}+\\alpha\\mathbf{d}^{\\left(k\\right)}\\right)  \\\\\n",
    "\\mathbf{x}^{\\left(k+1\\right)}=\\mathbf{x}^{\\left(k\\right)}+\\alpha_k\\mathbf{d}^{\\left(k\\right)}$$\n",
    "4. 计算\n",
    "$$\\varDelta\\mathbf{x}^{\\left(k\\right)}=\\alpha_k\\mathbf{d}^{\\left(k\\right)}  \\\\\n",
    "\\varDelta\\mathbf{g}^{\\left(k\\right)}=\\mathbf{g}^{\\left(k+1\\right)}-\\mathbf{g}^{\\left(k\\right)}  \\\\\n",
    "\\mathbf{H}_{k+1}=\\mathbf{H}_k+\\frac{\\left(\\varDelta\\mathbf{x}^{\\left(k\\right)}-\\mathbf{H}_k\\varDelta\\mathbf{g}^{\\left(k\\right)}\\right)\\left(\\varDelta\\mathbf{x}^{\\left(k\\right)}-\\mathbf{H}_k\\varDelta\\mathbf{g}^{\\left(k\\right)}\\right)^\\top}{\\varDelta\\mathbf{g}^{\\left(k\\right)\\top}\\left(\\varDelta\\mathbf{x}^{\\left(k\\right)}-\\mathbf{H}_k\\varDelta\\mathbf{g}^{\\left(k\\right)}\\right)}$$\n",
    "5. 令$k=k+1$，返回第2步。"
   ]
  },
  {
   "cell_type": "markdown",
   "metadata": {},
   "source": [
    "秩1算法产生的矩阵$\\mathbf{H}_{k+1}$并不一定是正定的，这将导致$\\mathbf{d}^{\\left(k+1\\right)}$可能不是下降方向。"
   ]
  },
  {
   "cell_type": "markdown",
   "metadata": {},
   "source": [
    "## 11.4 DFP算法（变尺度法）"
   ]
  },
  {
   "cell_type": "markdown",
   "metadata": {},
   "source": [
    "1. 令$k=0$；选择初始点$\\mathbf{x}^{\\left(0\\right)}$，任选一个对称正定实矩阵$\\mathbf{H}_0$。\n",
    "2. 如果$\\mathbf{g}^{\\left(k\\right)}=0$，停止迭代；否则，令$\\mathbf{d}^{\\left(k\\right)}=-\\mathbf{H}_k\\mathbf{g}^{\\left(k\\right)}$。\n",
    "3. 计算\n",
    "$$\\alpha_k=\\arg\\min_{\\alpha\\geqslant0}f\\left(\\mathbf{x}^{\\left(k\\right)}+\\alpha\\mathbf{d}^{\\left(k\\right)}\\right)  \\\\\n",
    "\\mathbf{x}^{\\left(k+1\\right)}=\\mathbf{x}^{\\left(k\\right)}+\\alpha_k\\mathbf{d}^{\\left(k\\right)}$$\n",
    "4. 计算\n",
    "$$\\varDelta\\mathbf{x}^{\\left(k\\right)}=\\alpha_k\\mathbf{d}^{\\left(k\\right)}  \\\\\n",
    "\\varDelta\\mathbf{g}^{\\left(k\\right)}=\\mathbf{g}^{\\left(k+1\\right)}-\\mathbf{g}^{\\left(k\\right)}  \\\\\n",
    "\\mathbf{H}_{k+1}=\\mathbf{H}_k+\\frac{\\varDelta\\mathbf{x}^{\\left(k\\right)}\\varDelta\\mathbf{x}^{\\left(k\\right)\\top}}{\\varDelta\\mathbf{x}^{\\left(k\\right)\\top}\\varDelta\\mathbf{g}^{\\left(k\\right)}}-\\frac{\\left[\\mathbf{H}_k\\varDelta\\mathbf{g}^{\\left(k\\right)}\\right]\\left[\\mathbf{H}_k\\varDelta\\mathbf{g}^{\\left(k\\right)}\\right]^\\top}{\\varDelta\\mathbf{g}^{\\left(k\\right)\\top}\\mathbf{H}_k\\varDelta\\mathbf{g}^{\\left(k\\right)}}$$\n",
    "5. 令$k=k+1$，返回第2步。"
   ]
  },
  {
   "cell_type": "markdown",
   "metadata": {},
   "source": [
    "DFP算法中，只要矩阵$\\mathbf{H}_k$是正定的，$\\mathbf{H}_{k+1}$就是正定的。"
   ]
  },
  {
   "cell_type": "markdown",
   "metadata": {},
   "source": [
    "DFP算法中，当处理一些规模较大的二次型问题时，迭代过程中会出现矩阵$\\mathbf{H}_k$非常接近成为奇异矩阵，造成迭代无法继续开展。"
   ]
  },
  {
   "cell_type": "markdown",
   "metadata": {},
   "source": [
    "## 11.5 BFGS算法"
   ]
  },
  {
   "cell_type": "markdown",
   "metadata": {},
   "source": [
    "已知DFP算法中黑塞矩阵逆矩阵的近似矩阵的更新公式为\n",
    "$$\\mathbf{H}^{DFP}_{k+1}=\\mathbf{H}_k+\\frac{\\varDelta\\mathbf{x}^{\\left(k\\right)}\\varDelta\\mathbf{x}^{\\left(k\\right)\\top}}{\\varDelta\\mathbf{x}^{\\left(k\\right)\\top}\\varDelta\\mathbf{g}^{\\left(k\\right)}}-\\frac{\\mathbf{H}_k\\varDelta\\mathbf{g}^{\\left(k\\right)}\\varDelta\\mathbf{g}^{\\left(k\\right)\\top}\\mathbf{H}_k}{\\varDelta\\mathbf{g}^{\\left(k\\right)\\top}\\mathbf{H}_k\\varDelta\\mathbf{g}^{\\left(k\\right)}}$$"
   ]
  },
  {
   "cell_type": "markdown",
   "metadata": {},
   "source": [
    "利用互补的概念，可得到黑塞矩阵近似矩阵的更新公式为\n",
    "$$\\mathbf{B}_{k+1}=\\mathbf{B}_k+\\frac{\\varDelta\\mathbf{g}^{\\left(k\\right)}\\varDelta\\mathbf{g}^{\\left(k\\right)\\top}}{\\varDelta\\mathbf{g}^{\\left(k\\right)\\top}\\varDelta\\mathbf{x}^{\\left(k\\right)}}-\\frac{\\mathbf{H}_k\\varDelta\\mathbf{x}^{\\left(k\\right)}\\varDelta\\mathbf{x}^{\\left(k\\right)\\top}\\mathbf{H}_k}{\\varDelta\\mathbf{x}^{\\left(k\\right)\\top}\\mathbf{H}_k\\varDelta\\mathbf{x}^{\\left(k\\right)}}$$"
   ]
  },
  {
   "cell_type": "markdown",
   "metadata": {},
   "source": [
    "得BFGS方法中黑塞矩阵逆矩阵的近似矩阵的更新公式为\n",
    "$$\\mathbf{H}^{BFGS}_{k+1}=\\left(\\mathbf{B}_{k+1}\\right)^{-1}=\\left(\\mathbf{B}_k+\\frac{\\varDelta\\mathbf{g}^{\\left(k\\right)}\\varDelta\\mathbf{g}^{\\left(k\\right)\\top}}{\\varDelta\\mathbf{g}^{\\left(k\\right)\\top}\\varDelta\\mathbf{x}^{\\left(k\\right)}}-\\frac{\\mathbf{H}_k\\varDelta\\mathbf{x}^{\\left(k\\right)}\\varDelta\\mathbf{x}^{\\left(k\\right)\\top}\\mathbf{H}_k}{\\varDelta\\mathbf{x}^{\\left(k\\right)\\top}\\mathbf{H}_k\\varDelta\\mathbf{x}^{\\left(k\\right)}}\\right)^{-1}$$"
   ]
  },
  {
   "cell_type": "markdown",
   "metadata": {},
   "source": [
    "应用谢尔曼-莫里森矩阵求逆公式，得\n",
    "$$\\mathbf{H}^{BFGS}_{k+1}=\\mathbf{H}_{k}+\\left(1+\\frac{\\varDelta\\mathbf{g}^{\\left(k\\right)\\top}\\mathbf{H}_k\\varDelta\\mathbf{g}^{\\left(k\\right)}}{\\varDelta\\mathbf{g}^{\\left(k\\right)\\top}\\varDelta\\mathbf{x}^{\\left(k\\right)}}\\right)\\frac{\\varDelta\\mathbf{x}^{\\left(k\\right)}\\varDelta\\mathbf{x}^{\\left(k\\right)\\top}}{\\varDelta\\mathbf{x}^{\\left(k\\right)\\top}\\varDelta\\mathbf{g}^{\\left(k\\right)}} \\\\\n",
    "-\\frac{\\mathbf{H}_k\\varDelta\\mathbf{g}^{\\left(k\\right)}\\varDelta\\mathbf{x}^{\\left(k\\right)\\top}+\\left(\\mathbf{H}_k\\varDelta\\mathbf{g}^{\\left(k\\right)}\\varDelta\\mathbf{x}^{\\left(k\\right)\\top}\\right)^\\top}{\\varDelta\\mathbf{g}^{\\left(k\\right)\\top}\\varDelta\\mathbf{x}^{\\left(k\\right)}}$$"
   ]
  },
  {
   "cell_type": "markdown",
   "metadata": {},
   "source": [
    "BFGS算法保持了拟牛顿法的共轭方向性质，也能够使近似矩阵一直保持正定。"
   ]
  },
  {
   "cell_type": "markdown",
   "metadata": {},
   "source": [
    "当迭代过程中一维搜索的进度不高时，BFGS算法扔比较稳健。"
   ]
  },
  {
   "cell_type": "markdown",
   "metadata": {},
   "source": [
    "多数情况下，BFGS算法效率远超DFP算法。"
   ]
  },
  {
   "cell_type": "markdown",
   "metadata": {},
   "source": [
    "对于非二次型问题，也需要对拟牛顿法进行一些修正。比如，可以每经过几次迭代（n或n+1），将搜索方向重置为梯度负方向，然后继续迭代，知道满足停止规则。"
   ]
  }
 ],
 "metadata": {
  "kernelspec": {
   "display_name": "Python 3",
   "language": "python",
   "name": "python3"
  },
  "language_info": {
   "codemirror_mode": {
    "name": "ipython",
    "version": 3
   },
   "file_extension": ".py",
   "mimetype": "text/x-python",
   "name": "python",
   "nbconvert_exporter": "python",
   "pygments_lexer": "ipython3",
   "version": "3.7.4"
  }
 },
 "nbformat": 4,
 "nbformat_minor": 2
}

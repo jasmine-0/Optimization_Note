{
 "cells": [
  {
   "cell_type": "markdown",
   "metadata": {},
   "source": [
    "第21章 含不等式约束的优化问题"
   ]
  },
  {
   "cell_type": "markdown",
   "metadata": {},
   "source": [
    "21.1 卡罗需-库恩-塔克条件（KKT条件）"
   ]
  },
  {
   "cell_type": "markdown",
   "metadata": {},
   "source": [
    "向量表示的一般形式的优化问题\n",
    "$$\\min f\\left(\\mathbf{x}\\right) \\\\\n",
    "s.t. \\mathbf{h}\\left(\\mathbf{x}\\right)=\\mathbf{0}  \\\\\n",
    "\\quad \\mathbf{g}\\left(\\mathbf{x}\\right)\\leqslant \\mathbf{0}$$\n",
    "其中，$f:\\mathbb{R}\\to\\mathbb{R},\\mathbf{h}:\\mathbb{R}^n\\to\\mathbb{R}^m,\\mathbf{g}:\\mathbb{R}^n\\to\\mathbb{R}^p$。"
   ]
  },
  {
   "cell_type": "markdown",
   "metadata": {},
   "source": [
    "定义21.1 对于一个不等式约束$g_j(\\left(\\mathbf{x}\\right)\\leqslant0$，如果在$\\mathbf{x}^*$处$g_j(\\left(\\mathbf{x}\\right)=0$，那么称该不等式是$\\mathbf{x}^*$处的起作用的约束；如果在$\\mathbf{x}^*$处$g_j(\\left(\\mathbf{x}\\right)<0$，那么称该不等式是$\\mathbf{x}^*$处的不起作用的约束。"
   ]
  },
  {
   "cell_type": "markdown",
   "metadata": {},
   "source": [
    "定义21.2 设$\\mathbf{x}^*$满足$\\mathbf{h}\\left(\\mathbf{x}\\right)=\\mathbf{0},\\mathbf{g}\\left(\\mathbf{x}\\right)\\leqslant\\mathbf{0}$，设$J\\left(\\mathbf{x}^*\\right)$为起作用不等式约束下标集\n",
    "$$J\\left(\\mathbf{x}^*\\right)\\triangleq\\{j:g_j\\left(\\mathbf{x}^*\\right)=0\\}$$"
   ]
  },
  {
   "cell_type": "markdown",
   "metadata": {},
   "source": [
    "如果向量\n",
    "$$\\nabla h_i\\left(\\mathbf{x}^*\\right),\\nabla g_j\\left(\\mathbf{x}^*\\right),1\\leqslant i\\leqslant m,j\\in J\\left(\\mathbf{x}^*\\right)$$\n",
    "是线性无关的，则称$\\mathbf{x}^*$是一个正则点。"
   ]
  },
  {
   "cell_type": "markdown",
   "metadata": {},
   "source": [
    "定理21.1 KKT条件  \n",
    "设$f,\\mathbf{h},\\mathbf{g}\\in\\mathcal{C}^1$，$\\mathbf{x}^*$是一个正则点和局部极小点，则必然存在$\\boldsymbol{\\lambda}^*\\in\\mathbf{R}^m,\\boldsymbol{\\mu}^*\\in\\mathbf{R}^p$，使得以下条件成立：\n",
    "1. $\\boldsymbol{\\mu}^*\\geqslant\\mathbf{0}$；\n",
    "2. $Df\\left(\\mathbf{x}\\right)+\\boldsymbol{\\lambda}^{*\\top}D\\mathbf{h}\\left(\\mathbf{x}^*\\right)+\\boldsymbol{\\mu}^{*\\top}D\\mathbf{g}\\left(\\mathbf{x}^*\\right)=\\mathbf{0}^\\top$；\n",
    "3. $\\boldsymbol{\\mu}^{*\\top}\\mathbf{g}\\left(\\mathbf{x}^*\\right)=0$。\n",
    "\n",
    "其中，$\\boldsymbol{\\lambda}^{*\\top}$为拉格朗日乘子向量，$\\boldsymbol{\\mu}^{*\\top}$为KKT乘子向量，向量中的元素分别称为拉格朗日乘子和KKT乘子。"
   ]
  },
  {
   "cell_type": "markdown",
   "metadata": {},
   "source": [
    "由定理可知 $\\boldsymbol{\\mu}^*\\geqslant\\mathbf{0}$和$g_j\\left(\\mathbf{x}^*\\right)\\leqslant0$，则条件\n",
    "$$\\boldsymbol{\\mu}^{*\\top}\\mathbf{g}\\left(\\mathbf{x}^*\\right)=\\mu_1^*g_1(\\left(\\mathbf{x}^*\\right)+\\dots+\\mu_p^*g_p(\\left(\\mathbf{x}^*\\right)=0$$\n",
    "意味，如果$g_j\\left(\\mathbf{x}^*\\right)<0$，则$\\mu_j^*=0$。也就是对于所有的$j\\notin J\\left(\\mathbf{x}^*\\right),\\mu_j^*=0$恒成立，即不起作用约束对应的KKT乘子$\\mu_j^*$等于0；其他KKT乘子$\\mu_i^*,i\\in J\\left(\\mathbf{x}^*\\right)$是非负的，可以等于0或者不等于0。"
   ]
  },
  {
   "cell_type": "markdown",
   "metadata": {},
   "source": [
    "KKT条件是极小点的必要条件，因此，应按照必要条件的使用方式利用KKT条件搜索满足条件的点，并把这些点作为极小点的候选对象。KKT条件由以下5部分组成：\n",
    "1. $\\boldsymbol{\\mu}^*\\geqslant\\mathbf{0}$；\n",
    "2. $Df\\left(\\mathbf{x}^*\\right)+\\boldsymbol{\\lambda}^{*\\top}D\\mathbf{h}\\left(\\mathbf{x}^*\\right)+\\boldsymbol{\\mu}^{*\\top}D\\mathbf{g}\\left(\\mathbf{x}^*\\right)=\\mathbf{0}^\\top$；\n",
    "3. $\\boldsymbol{\\mu}^{*\\top}\\mathbf{g}\\left(\\mathbf{x}^*\\right)=0$；\n",
    "4. $\\mathbf{h}\\left(\\mathbf{x}^*\\right)=\\mathbf{0}$；\n",
    "5. $\\mathbf{g}\\left(\\mathbf{x}^*\\right)\\leqslant\\mathbf{0}$。"
   ]
  },
  {
   "cell_type": "markdown",
   "metadata": {},
   "source": [
    "21.2 二阶条件"
   ]
  },
  {
   "cell_type": "markdown",
   "metadata": {},
   "source": [
    "定义矩阵\n",
    "$$\\mathbf{L}\\left(\\mathbf{x},\\boldsymbol{\\lambda},\\boldsymbol{\\mu}\\right)=\\mathbf{F}\\left(\\mathbf{x}\\right)+\\left[\\boldsymbol{\\lambda}\\mathbf{H}\\left(\\mathbf{x}\\right)\\right]+\\left[\\boldsymbol{\\mu}\\mathbf{G}\\left(\\mathbf{x}\\right)\\right]$$\n",
    "其中，$\\mathbf{F}\\left(\\mathbf{x}\\right)$是$f$在点$\\mathbf{x}$处的黑塞矩阵。"
   ]
  },
  {
   "cell_type": "markdown",
   "metadata": {},
   "source": [
    "$\\left[\\boldsymbol{\\lambda}\\mathbf{H}\\left(\\mathbf{x}\\right)\\right]$表示\n",
    "$$\\left[\\boldsymbol{\\lambda}\\mathbf{H}\\left(\\mathbf{x}\\right)\\right]=\\lambda_1\\mathbf{H}_1\\left(\\mathbf{x}\\right)+\\dots+\\lambda_m\\mathbf{H}_m\\left(\\mathbf{x}\\right)$$\n",
    "$\\left[\\boldsymbol{\\mu}\\mathbf{G}\\left(\\mathbf{x}\\right)\\right]$表示\n",
    "$$\\left[\\boldsymbol{\\mu}\\mathbf{G}\\left(\\mathbf{x}\\right)\\right]=\\mu_1\\mathbf{G}_1\\left(\\mathbf{x}\\right)+\\dots+\\mu_p\\mathbf{G}_p\\left(\\mathbf{x}\\right)$$"
   ]
  },
  {
   "cell_type": "markdown",
   "metadata": {},
   "source": [
    "$\\mathbf{G}_k\\left(\\mathbf{x}\\right)$是$g_k$在$\\mathbf{x}$处的黑塞矩阵\n",
    "$$\\mathbf{G}_k\\left(\\mathbf{x}\\right)=\\begin{bmatrix} \\frac{\\partial^2g_k}{\\partial x_1^2}\\left(\\mathbf{x}\\right) & \\cdots & \\frac{\\partial^2g_k}{\\partial x_n \\partial x_1}\\left(\\mathbf{x}\\right) \\\\ \\vdots  &  & \\vdots\\\\  \\frac{\\partial^2g_k}{\\partial x_1 \\partial x_n}\\left(\\mathbf{x}\\right) & \\cdots &  \\frac{\\partial^2g_k}{\\partial x_n^2 }\\left(\\mathbf{x}\\right) \\end{bmatrix}$$"
   ]
  },
  {
   "cell_type": "markdown",
   "metadata": {},
   "source": [
    "记\n",
    "$$T\\left(\\mathbf{x}^*\\right)=\\{\\mathbf{y}\\in\\mathbb{R}^n,D\\mathbf{h}\\left(\\mathbf{x}^*\\right)\\mathbf{y}=\\mathbf{0},Dg_j\\left(\\mathbf{x}^*\\right)\\mathbf{y}=0,j\\in J\\left(\\mathbf{x}\\right)\\}$$\n",
    "代表由起作用约束所定义曲面的切线空间。"
   ]
  },
  {
   "cell_type": "markdown",
   "metadata": {},
   "source": [
    "定理21.2 二阶必要条件  \n",
    "设$f:\\mathbb{R}^n\\to\\mathbb{R}^m,\\mathbf{h}:\\mathbb{R}^n\\to\\mathbb{R}^m\\left(m\\leqslant n\\right),\\mathbf{g}:\\mathbb{R}^n\\to\\mathbb{R}^p, f,\\mathbf{h},\\mathbf{g}\\in\\mathcal{C}^2$，$\\mathbf{x}^*$是一个正则点和局部极小点，则必然存在$\\boldsymbol{\\lambda}^*\\in\\mathbf{R}^m,\\boldsymbol{\\mu}^*\\in\\mathbf{R}^p$，使得以下条件成立：\n",
    "1. $\\boldsymbol{\\mu}^*\\geqslant\\mathbf{0}, Df\\left(\\mathbf{x}^*\\right)+\\boldsymbol{\\lambda}^{*\\top}D\\mathbf{h}\\left(\\mathbf{x}^*\\right)+\\boldsymbol{\\mu}^{*\\top}D\\mathbf{g}\\left(\\mathbf{x}^*\\right)=\\mathbf{0}^\\top,\\boldsymbol{\\mu}^{*\\top}\\mathbf{g}\\left(\\mathbf{x}^*\\right)=0$；\n",
    "2. 对于所有$\\mathbf{y}\\in T\\left(\\mathbf{x}^*\\right)$，都有$\\mathbf{y}^\\top\\mathbf{L}\\left(\\mathbf{x}^*,\\boldsymbol{\\lambda}^*,\\boldsymbol{\\mu}^*\\right)\\mathbf{y}\\geqslant0$。"
   ]
  },
  {
   "cell_type": "markdown",
   "metadata": {},
   "source": [
    "记  \n",
    "$$\\tilde{T}\\left(\\mathbf{x}^*,\\boldsymbol{\\mu}^*\\right)=\\{\\mathbf{y}\\in\\mathbb{R}^n,D\\mathbf{h}\\left(\\mathbf{x}^*\\right)\\mathbf{y}=\\mathbf{0},Dg_i\\left(\\mathbf{x}^*\\right)\\mathbf{y}=0,i\\in \\tilde{J}\\left(\\mathbf{x}^*,\\boldsymbol{\\mu}^*\\right)\\}$$\n",
    "其中，$\\tilde{J}\\left(\\mathbf{x}^*,\\boldsymbol{\\mu}^*\\right)=\\{i:g_i\\left(\\mathbf{x}^*=0,\\mu_i^*>0\\right)\\}$"
   ]
  },
  {
   "cell_type": "markdown",
   "metadata": {},
   "source": [
    "定理21.3 二阶充分条件  \n",
    "设$f,\\mathbf{h},\\mathbf{g}\\in\\mathcal{C}^2$，$\\mathbf{x}^*\\in\\mathbb{R}^n$是一个可行点，存在向量$\\boldsymbol{\\lambda}^*\\in\\mathbf{R}^m,\\boldsymbol{\\mu}^*\\in\\mathbf{R}^p$使得\n",
    "1. $\\boldsymbol{\\mu}^*\\geqslant\\mathbf{0}, Df\\left(\\mathbf{x}^*\\right)+\\boldsymbol{\\lambda}^{*\\top}D\\mathbf{h}\\left(\\mathbf{x}^*\\right)+\\boldsymbol{\\mu}^{*\\top}D\\mathbf{g}\\left(\\mathbf{x}^*\\right)=\\mathbf{0}^\\top,\\boldsymbol{\\mu}^{*\\top}\\mathbf{g}\\left(\\mathbf{x}^*\\right)=0$；\n",
    "2. 对于所有$\\mathbf{y}\\in \\tilde{T}\\left(\\mathbf{x}^*,\\boldsymbol{\\mu}^*\\right),\\mathbf{y}\\neq\\mathbf{0}$，都有$\\mathbf{y}^\\top\\mathbf{L}\\left(\\mathbf{x}^*,\\boldsymbol{\\lambda}^*,\\boldsymbol{\\mu}^*\\right)\\mathbf{y}>0$。\n",
    "\n",
    "则$\\mathbf{x}^*$是优化问题$\\mathbf{h}\\left(\\mathbf{x}\\right)=\\mathbf{0},\\mathbf{g}\\left(\\mathbf{x}\\right)\\leqslant \\mathbf{0}$的严格局部极小点。"
   ]
  },
  {
   "cell_type": "code",
   "execution_count": null,
   "metadata": {
    "collapsed": true
   },
   "outputs": [],
   "source": []
  }
 ],
 "metadata": {
  "kernelspec": {
   "display_name": "Python 2",
   "language": "python",
   "name": "python2"
  },
  "language_info": {
   "codemirror_mode": {
    "name": "ipython",
    "version": 2
   },
   "file_extension": ".py",
   "mimetype": "text/x-python",
   "name": "python",
   "nbconvert_exporter": "python",
   "pygments_lexer": "ipython2",
   "version": "2.7.13"
  }
 },
 "nbformat": 4,
 "nbformat_minor": 2
}

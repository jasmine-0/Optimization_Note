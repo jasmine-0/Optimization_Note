{
 "cells": [
  {
   "cell_type": "markdown",
   "metadata": {
    "collapsed": true
   },
   "source": [
    "# 第8章 梯度方法"
   ]
  },
  {
   "cell_type": "markdown",
   "metadata": {},
   "source": [
    "## 8.1 引言"
   ]
  },
  {
   "cell_type": "markdown",
   "metadata": {},
   "source": [
    "如果函数$f$在$\\mathbf{x}_0$处的梯度$\\nabla f\\left(\\mathbf{x}_0\\right)$不是零向量，那么它与水平集$f\\left(\\mathbf{x}\\right)=c$中任意一条经过$\\mathbf{x}_0$处的光滑曲线的切向量正交。因此，一个实值可微函数在某点处函数值增加最快的方向正交于经过该点的函数水平集。"
   ]
  },
  {
   "cell_type": "markdown",
   "metadata": {},
   "source": [
    "函数$f$在点$\\mathbf{x}$处，在方向$\\mathbf{d}$上增长率记为：$\\langle\\nabla f\\left(\\mathbf{x}\\right),\\mathbf{d}\\rangle$，$\\|\\mathbf{d}\\|=1$。由于$\\|\\mathbf{d}\\|=1$，由柯西-施瓦茨不等式可得\n",
    "$$\\langle\\nabla f\\left(\\mathbf{x}\\right),\\mathbf{d}\\rangle\\leqslant\\|\\nabla f\\left(\\mathbf{x}\\right)\\|$$"
   ]
  },
  {
   "cell_type": "markdown",
   "metadata": {},
   "source": [
    "若令$\\mathbf{d}=\\nabla f\\left(\\mathbf{x}\\right)/\\|\\nabla f\\left(\\mathbf{x}\\right)\\|$，则有\n",
    "$$\\langle\\nabla f\\left(\\mathbf{x}\\right),\\frac{\\nabla f\\left(\\mathbf{x}\\right)}{\\|\\nabla f\\left(\\mathbf{x}\\right)\\|}\\rangle=\\|\\nabla f\\left(\\mathbf{x}\\right)\\|$$"
   ]
  },
  {
   "cell_type": "markdown",
   "metadata": {},
   "source": [
    "可看出，梯度方向$\\nabla f\\left(\\mathbf{x}\\right)$就是函数$f$在$\\mathbf{x}$处增加最快的方向。反之，梯度负方向$-\\nabla f\\left(\\mathbf{x}\\right)$就是函数$f$在$\\mathbf{x}$处减少最快的方向。在梯度方向上，自变量的细微变动，所导致的目标函数值的增加幅度超过其他任意方向。如果需要搜索函数极小点，梯度负方向是优选方向。"
   ]
  },
  {
   "cell_type": "markdown",
   "metadata": {},
   "source": [
    "令$\\mathbf{x}^{\\left(0\\right)}$作为初始搜索点，并沿着梯度负方向构造一个新点$\\mathbf{x}^{\\left(0\\right)}-\\alpha\\nabla f\\left(\\mathbf{x}^{\\left(0\\right)}\\right)$，由泰勒定理可得\n",
    "$$f\\left(\\mathbf{x}^{\\left(0\\right)}-\\alpha\\nabla f\\left(\\mathbf{x}^{\\left(0\\right)}\\right)\\right)=f\\left(\\mathbf{x}^{\\left(0\\right)}\\right)-\\alpha\\|\\nabla f\\left(\\mathbf{x}^{\\left(0\\right)}\\right)\\|^2+o\\left(\\alpha\\right)$$"
   ]
  },
  {
   "cell_type": "markdown",
   "metadata": {},
   "source": [
    "因此，如果$\\nabla f\\left(\\mathbf{x}^{\\left(0\\right)}\\right)\\neq\\mathbf{0}$那么当$\\alpha > 0$足够小时，有\n",
    "$$f\\left( \\mathbf{x}^{\\left(0\\right)}-\\alpha\\nabla f\\left(\\mathbf{x}^{\\left(0\\right)}\\right)\\right)<f\\left(\\mathbf{x}^\\left(0\\right)\\right)$$\n",
    "成立。这意味着，从搜索目标函数极小点的角度来看，$\\mathbf{x}^{\\left(0\\right)}-\\alpha\\nabla f\\left(\\mathbf{x}^{\\left(0\\right)}\\right)$相对于$\\mathbf{x}^{\\left(0\\right)}$有所改善。"
   ]
  },
  {
   "cell_type": "markdown",
   "metadata": {},
   "source": [
    "给定一搜索点$\\mathbf{x}^{\\left(k\\right)}$，由此点出发，根据向量$-\\alpha_k\\nabla f\\left(\\mathbf{x}^{\\left(k\\right)}\\right)$指定的方向和幅值运动构造新点$\\mathbf{x}^{\\left(k+1\\right)}$。其中，$\\alpha_k$是一个正实数，称为步长。可得迭代公式：\n",
    "$$\\mathbf{x}^{\\left(k+1\\right)}=\\mathbf{x}^{\\left(k\\right)}-\\alpha_k\\nabla f\\left(\\mathbf{x}^{\\left(k\\right)}\\right)$$\n",
    "称为梯度下降法。"
   ]
  },
  {
   "cell_type": "markdown",
   "metadata": {},
   "source": [
    "## 8.2 最速下降法"
   ]
  },
  {
   "cell_type": "markdown",
   "metadata": {},
   "source": [
    "在每次迭代中选择合适的步长$\\alpha_k$使得目标函数值得到最大程度的减少。$\\alpha_k$可认为是函数$\\phi_k\\left(\\alpha\\right)\\triangleq f\\left(\\mathbf{x}^{\\left(k\\right)}-\\alpha\\nabla f\\left(\\mathbf{x}^{\\left(k\\right)}\\right)\\right)$的极小点，即\n",
    "$$\\alpha_k=\\arg\\min_{\\alpha\\geqslant0}f\\left(\\mathbf{x}^{\\left(k\\right)}-\\alpha\\nabla f\\left(\\mathbf{x}^{\\left(k\\right)}\\right)\\right)$$"
   ]
  },
  {
   "cell_type": "markdown",
   "metadata": {},
   "source": [
    "在每次迭代中，从迭代点$\\mathbf{x}^{\\left(k\\right)}$出发，沿着梯度负方向$-\\nabla f\\left(\\mathbf{x}^{\\left(k\\right)}\\right)$开展一维搜索，直到找到步长的最优值，确定新的迭代点$\\mathbf{x}^{\\left(k+1\\right)}$。"
   ]
  },
  {
   "cell_type": "markdown",
   "metadata": {
    "collapsed": true
   },
   "source": [
    "命题8.1 最速下降法搜索函数$f:\\mathbb{R}^2\\to\\mathbb{R}$的极小点，迭代过程产生的序列为$\\{\\mathbf{x}^{\\left(k\\right)}\\}^\\infty_{k=0}$，则$\\mathbf{x}^{\\left(k+1\\right)}-\\mathbf{x}^{\\left(k\\right)}$与$\\mathbf{x}^{\\left(k+2\\right)}-\\mathbf{x}^{\\left(k+1\\right)}$正交对于所有的$k\\geqslant0$都成立。"
   ]
  },
  {
   "cell_type": "markdown",
   "metadata": {},
   "source": [
    "$\\nabla f\\left(\\mathbf{x}^{\\left(k\\right)}\\right)$平行于水平集$\\{f\\left(\\mathbf{x}\\right)=f\\left(\\mathbf{x}^{\\left(k+1\\right)}\\right)\\}$在$\\mathbf{x}^{\\left(k+1\\right)}$处的切平面。"
   ]
  },
  {
   "cell_type": "markdown",
   "metadata": {},
   "source": [
    "命题8.2 最速下降法搜索函数$f:\\mathbb{R}^n\\to\\mathbb{R}$的极小点，迭代过程产生的序列为$\\{\\mathbf{x}^{\\left(k\\right)}\\}^\\infty_{k=0}$，如果$\\nabla f\\left(\\mathbf{x}^{\\left(k\\right)}\\right)\\neq\\mathbf{0}$，则$f\\left(\\mathbf{x}^{\\left(k+1\\right)}\\right)<f\\left(\\mathbf{x}^{\\left(k\\right)}\\right)$。"
   ]
  },
  {
   "cell_type": "markdown",
   "metadata": {},
   "source": [
    "迭代停止规则：\n",
    "1. 如果$\\nabla f\\left(\\mathbf{x}^{\\left(k\\right)}\\right)=\\mathbf{0}$，则$\\mathbf{x}^{\\left(k\\right)}$满足局部极小点一阶必要条件，此时$\\mathbf{x}^{\\left(k+1\\right)}=\\mathbf{x}^{\\left(k\\right)}$；\n",
    "2. 计算梯度的范数，如果$\\|\\nabla f\\left(\\mathbf{x}^{\\left(k\\right)}\\right)\\|<\\varepsilon$，其中$\\varepsilon$为预设阈值，则迭代停止；\n",
    "3. 计算相邻迭代点对应的目标函数值差的绝对值，如果$|f\\left(\\mathbf{x}^{\\left(k+1\\right)}\\right)-f\\left(\\mathbf{x}^{\\left(k\\right)}\\right)|<\\varepsilon$，其中$\\varepsilon$为预设阈值，则迭代停止；\n",
    "4. 计算相邻迭代点差值的范数，如果$\\|\\mathbf{x}^{\\left(x+1\\right)}-\\mathbf{x}^{\\left(x\\right)}\\|<\\varepsilon$，其中$\\varepsilon$为预设阈值，则迭代停止；\n",
    "5. 计算规则3.的相对值作为停止规则，即\n",
    "$$\\frac{|f\\left(\\mathbf{x}^{\\left(k+1\\right)}\\right)-f\\left(\\mathbf{x}^{\\left(k\\right)}\\right)|}{|f\\left(\\mathbf{x}^{\\left(k\\right)}\\right)|}<\\varepsilon$$\n",
    "其中$\\varepsilon$为预设阈值，则迭代停止。为避免父母过小，可进行以下修正：\n",
    "$$\\frac{|f\\left(\\mathbf{x}^{\\left(k+1\\right)}\\right)-f\\left(\\mathbf{x}^{\\left(k\\right)}\\right)|}{\\max\\{1,\n",
    "|f\\left(\\mathbf{x}^{\\left(k\\right)}\\right)|\\}}<\\varepsilon$$\n",
    "6. 计算规则4.的相对值作为停止规则，即\n",
    "$$\\frac{\\|\\mathbf{x}^{\\left(x+1\\right)}-\\mathbf{x}^{\\left(x\\right)}\\|}{\\|\\mathbf{x}^{\\left(x\\right)}\\|}<\\varepsilon$$\n",
    "其中$\\varepsilon$为预设阈值，则迭代停止。为避免父母过小，可进行以下修正：\n",
    "$$\\frac{\\|\\mathbf{x}^{\\left(x+1\\right)}-\\mathbf{x}^{\\left(x\\right)}\\|}{\\max\\{1,\\|\\mathbf{x}^{\\left(x\\right)}\\|\\}}<\\varepsilon$$"
   ]
  },
  {
   "cell_type": "markdown",
   "metadata": {},
   "source": [
    "由于相对停止规则5.6.是尺度无关的，所以由于绝对停止规则3.4.。"
   ]
  },
  {
   "cell_type": "markdown",
   "metadata": {},
   "source": [
    "将最速下降法应用到二次型函数。目标函数为\n",
    "$$f\\left(\\mathbf{x}\\right)=\\frac{1}{2}\\mathbf{x}^\\top\\mathbf{Q}\\mathbf{x}-\\mathbf{b}^\\top\\mathbf{x}$$\n",
    "其中，$\\mathbf{Q}\\in\\mathbb{R}^{n\\times n}$为对称正定矩阵，$\\mathbf{b}\\in\\mathbb{R}^n$。"
   ]
  },
  {
   "cell_type": "markdown",
   "metadata": {},
   "source": [
    "二次型函数的梯度\n",
    "$$\\nabla f\\left(\\mathbf{x}\\right)=Df\\left(\\mathbf{x}\\right)^\\top=D\\left(\\frac{1}{2}\\mathbf{x}^\\top\\mathbf{Q}\\mathbf{x}-\\mathbf{b}^\\top\\mathbf{x}\\right)^\\top$$"
   ]
  },
  {
   "cell_type": "markdown",
   "metadata": {},
   "source": [
    "由于$D\\left(\\mathbf{x}^\\top\\mathbf{Q}\\mathbf{x}\\right)=\\mathbf{x}^\\top\\left(\\mathbf{Q}+\\mathbf{Q}^\\top\\right)=2\\mathbf{x}^\\top\\mathbf{Q}$且$D\\left(\\mathbf{b}^\\top\\mathbf{x}\\right)=\\mathbf{b}^\\top$，得\n",
    "$$\\nabla f\\left(\\mathbf{x}\\right)=\\mathbf{Q}\\mathbf{x}-\\mathbf{b}$$"
   ]
  },
  {
   "cell_type": "markdown",
   "metadata": {},
   "source": [
    "记$\\mathbf{g}^{\\left(k\\right)}=\\nabla f\\left(\\mathbf{x}^{\\left(k\\right)}\\right)$，对于二次型函数最速下降法的迭代公式为\n",
    "$$\\mathbf{x}^{\\left(k+1\\right)}=\\mathbf{x}^{\\left(k\\right)}-\\alpha_k\\mathbf{g}^{\\left(k\\right)}$$\n",
    "其中，\n",
    "$$\\alpha_k=\\arg\\min_{\\alpha\\geqslant0}f\\left(\\mathbf{x}^{\\left(k\\right)}-\\alpha\\mathbf{g}^{\\left(k\\right)}\\right)\n",
    "=\\arg\\min_{\\alpha\\geqslant0}\\left(\\frac{1}{2}\\left(\\mathbf{x}^{\\left(k\\right)}-\\alpha\\mathbf{g}^{\\left(k\\right)}\\right)^\\top\\mathbf{Q}\\left(\\mathbf{x}^{\\left(k\\right)}-\\alpha\\mathbf{g}^{\\left(k\\right)}\\right)-\\left(\\mathbf{x}^{\\left(k\\right)}-\\alpha\\mathbf{g}^{\\left(k\\right)}\\right)^\\top\\mathbf{b}\\right)$$"
   ]
  },
  {
   "cell_type": "markdown",
   "metadata": {},
   "source": [
    "当目标函数为二次型函数时，可确定$\\mathbf{x}^{\\left(k\\right)}$处步长$\\alpha_k$的解析式。假设$\\mathbf{g}^{\\left(k\\right)}\\neq\\mathbf{0}$，迭代继续。由于$\\alpha_k\\geqslant0$是函数$\\phi_k\\left(\\alpha\\right)=f\\left(\\mathbf{x}^{\\left(k\\right)}-\\alpha\\mathbf{g}^{\\left(k\\right)}\\right)$的极小点，利用局部极小点一阶必要条件，可得\n",
    "$$\\phi_k'\\left(\\alpha\\right)=\\left(\\mathbf{x}^{\\left(k\\right)}-\\alpha\\mathbf{g}^{\\left(k\\right)}\\right)^\\top\\mathbf{Q}\\left(-\\mathbf{g}^{\\left(k\\right)}\\right)-\\mathbf{b}^\\top\\left(-\\mathbf{g}^{\\left(k\\right)}\\right)$$"
   ]
  },
  {
   "cell_type": "markdown",
   "metadata": {
    "collapsed": true
   },
   "source": [
    "当$\\alpha\\mathbf{g}^{\\left(k\\right)\\top}\\mathbf{Q}\\mathbf{g}^{\\left(k\\right)}=\\left(\\mathbf{x}^{\\left(k\\right)\\top}-\n",
    "\\mathbf{b}^\\top\\right)\\mathbf{g}^{\\left(k\\right)}$时，$\\phi_k'=0$。由于\n",
    "$$\\left(\\mathbf{x}^{\\left(k\\right)\\top}\\mathbf{Q}-\\mathbf{b}^\\top\\right)=\\mathbf{g}^{\\left(k\\right)}$$\n",
    "因此\n",
    "$$\\alpha_k=\\frac{\\mathbf{g}^{\\left(k\\right)\\top}\\mathbf{g}^{\\left(k\\right)}}{\\mathbf{g}^{\\left(k\\right)\\top}\\mathbf{Q}\\mathbf{g}^{\\left(k\\right)}}$$"
   ]
  },
  {
   "cell_type": "markdown",
   "metadata": {},
   "source": [
    "由此可见，目标函数为二次型函数时，最速下降法的迭代公式为\n",
    "$$\\mathbf{x}^{\\left(k+1\\right)}=\\mathbf{x}^{\\left(k\\right)}-\\frac{\\mathbf{g}^{\\left(k\\right)\\top}\\mathbf{g}^{\\left(k\\right)}}{\\mathbf{g}^{\\left(k\\right)\\top}\\mathbf{Q}\\mathbf{g}^{\\left(k\\right)}}\\mathbf{g}^{\\left(k\\right)}$$\n",
    "其中，$\\mathbf{g}^{\\left(k\\right)}=\\nabla f\\left(\\mathbf{x}^{\\left(k\\right)}\\right)=\\mathbf{Q}\\mathbf{x}^{\\left(k\\right)}-\\mathbf{b}$。"
   ]
  },
  {
   "cell_type": "markdown",
   "metadata": {},
   "source": [
    "## 8.3 梯度方法性质分析"
   ]
  },
  {
   "cell_type": "markdown",
   "metadata": {},
   "source": [
    "收敛性"
   ]
  },
  {
   "cell_type": "markdown",
   "metadata": {},
   "source": [
    "全局收敛：如果对于任意起始点，算法都能够保证产生一组迭代点序列，最终收敛到满足局部极小点一阶必要条件的点；  \n",
    "局部收敛：如果要求初始点足够靠近极小点，算法产生的迭代点序列才能收敛到满足局部极小点一阶必要条件的点；"
   ]
  },
  {
   "cell_type": "markdown",
   "metadata": {},
   "source": [
    "定理8.2 对于最速下降法，对于任意的初始点$\\mathbf{x}^{\\left(0\\right)}$，都有$\\mathbf{x}^{\\left(k\\right)}\\to\\mathbf{x}^*$。"
   ]
  },
  {
   "cell_type": "markdown",
   "metadata": {},
   "source": [
    "定理8.3 对于步长固定梯度法，当且仅当步长\n",
    "$$0<\\alpha<\\frac{2}{\\lambda_{\\max}\\left(\\mathbf{Q}\\right)}$$\n",
    "时，$\\mathbf{x}^{\\left(k\\right)}\\to\\mathbf{x}^*$。其中，$\\lambda_{\\max}\\left(\\mathbf{Q}\\right)$为矩阵$\\mathbf{Q}$的特征值中的最大值。"
   ]
  },
  {
   "cell_type": "markdown",
   "metadata": {},
   "source": [
    "收敛率（收敛阶数）"
   ]
  },
  {
   "cell_type": "markdown",
   "metadata": {},
   "source": [
    "定义8.1 存在一个序列$\\{\\mathbf{x}^{\\left(k\\right)}\\}$，能够收敛到$\\mathbf{x}^*$，即$\\lim_{k\\to\\infty}\\|\\mathbf{x}^{\\left(k\\right)}-\\mathbf{x}^*\\|=0$。如果\n",
    "$$0<\\lim_{k\\to\\infty}\\frac{\\|\\mathbf{x}^{\\left(k+1\\right)}-\\mathbf{x}^*\\|}{\\|\\mathbf{x}^{\\left(k\\right)}-\\mathbf{x}^*\\|^p}<\\infty$$\n",
    "则序列$\\{\\mathbf{x}^{\\left(k\\right)}\\}$的收敛阶数为$p$，其中，$p\\in\\mathbb{R}$。"
   ]
  },
  {
   "cell_type": "markdown",
   "metadata": {},
   "source": [
    "如果对于所有$p>0$，有$$\\lim_{k\\to\\infty}\\frac{\\|\\mathbf{x}^{\\left(k+1\\right)}-\\mathbf{x}^*\\|}{\\|\\mathbf{x}^{\\left(k\\right)}-\\mathbf{x}^*\\|^p}=0$$\n",
    "则称收敛阶数为$\\infty$。"
   ]
  },
  {
   "cell_type": "markdown",
   "metadata": {},
   "source": [
    "收敛阶数越高，收敛速度越快。"
   ]
  },
  {
   "cell_type": "markdown",
   "metadata": {},
   "source": [
    "如果$p=1$（一阶收敛），$\\lim_{k\\to\\infty}\\|\\mathbf{x}^{\\left(k+1\\right)}-\\mathbf{x}^*\\|/\\|\\mathbf{x}^{\\left(k\\right)}-\\mathbf{x}^*\\|^p=1$，则称收敛是拟线性的。  \n",
    "如果$p=1$（一阶收敛），$\\lim_{k\\to\\infty}\\|\\mathbf{x}^{\\left(k+1\\right)}-\\mathbf{x}^*\\|/\\|\\mathbf{x}^{\\left(k\\right)}-\\mathbf{x}^*\\|^p<1$，则称收敛是线性的。  \n",
    "如果$p>1$，则称收敛是超线性的。\n",
    "如果$p=2$（二阶收敛），则称收敛是二次型的。"
   ]
  }
 ],
 "metadata": {
  "kernelspec": {
   "display_name": "Python 3",
   "language": "python",
   "name": "python3"
  },
  "language_info": {
   "codemirror_mode": {
    "name": "ipython",
    "version": 3
   },
   "file_extension": ".py",
   "mimetype": "text/x-python",
   "name": "python",
   "nbconvert_exporter": "python",
   "pygments_lexer": "ipython3",
   "version": "3.7.4"
  }
 },
 "nbformat": 4,
 "nbformat_minor": 2
}

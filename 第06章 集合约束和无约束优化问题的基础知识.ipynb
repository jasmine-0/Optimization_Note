{
 "cells": [
  {
   "cell_type": "markdown",
   "metadata": {},
   "source": [
    "# 第6章　集合约束和无约束优化问题的基础知识"
   ]
  },
  {
   "cell_type": "markdown",
   "metadata": {},
   "source": [
    "## 6.1 引言"
   ]
  },
  {
   "cell_type": "markdown",
   "metadata": {},
   "source": [
    "优化问题\n",
    "$$minimize\\; f\\left(\\mathbf{x}\\right) \\\\\n",
    "subject\\;to\\;\\mathbf{x}\\in\\Omega$$\n",
    "其中，函数$f:\\mathbb{R}^n\\to\\mathbb{R}$称为目标函数或价值函数，是一个实值函数。"
   ]
  },
  {
   "cell_type": "markdown",
   "metadata": {},
   "source": [
    "优化问题的含义是寻找合适的$\\mathbf{x}$，使得函数$f$达到最小。$\\mathbf{x}$是$n$维向量，表示为$\\mathbf{x}=\\left[x_1,x_2,\\dots,x_n\\right]^\\top\\in\\mathbb{R}^n$，$x_1,x_2,\\dots,x_n$相互独立，通常称为决策变量。集合$\\Omega$是$n$维实数空间$\\mathbb{R}^n$的一个子集，称为约束集或可行集，可表示为$\\Omega=\\{\\mathbf{x}:\\mathbf{h}\\left(\\mathbf{x}\\right)=\\mathbf{0},\\mathbf{g}\\left(\\mathbf{x}\\right)\\leqslant\\mathbf{0}\\}$，其中，$\\mathbf{h}$和$\\mathbf{g}$表示由函数组成的向量，称为函数约束。如果$\\Omega=\\mathbb{R}^n$，则该问题是无约束优化问题。"
   ]
  },
  {
   "cell_type": "markdown",
   "metadata": {},
   "source": [
    "定义6.1 存在一个$n$元实值函数$f:\\mathbb{R}^n\\to\\mathbb{R}$，定义域为$\\Omega\\subset\\mathbb{R}^n$。对于定义域$\\Omega$中的点$\\mathbf{x}^*$，如果存在$\\varepsilon>0$，对于所有满足$\\|\\mathbf{x}-\\mathbf{x}^*\\|<\\varepsilon,\\mathbf{x}\\in\\Omega\\backslash \\{\\mathbf{x}^*\\}$的向量$\\mathbf{x}$，不等式$f\\left(\\mathbf{x}\\right)\\geqslant f\\left(\\mathbf{x}^*\\right)$都成立，则称$\\mathbf{x}^*$是函数$f$在定义域$\\Omega$上的一个局部极小点。如果对于所有$\\mathbf{x}\\in\\Omega\\backslash\\{\\mathbf{x}\\}$，不等式$f\\left(\\mathbf{x}\\right)\\geqslant f\\left(\\mathbf{x}^*\\right)$都成立，则称$\\mathbf{x}^*$是函数$f$在定义域$\\Omega$中的一个全局极小点。"
   ]
  },
  {
   "cell_type": "markdown",
   "metadata": {},
   "source": [
    "如果将上述中的$f\\left(\\mathbf{x}\\right)\\geqslant f\\left(\\mathbf{x}^*\\right)$替换为$f\\left(\\mathbf{x}\\right)> f\\left(\\mathbf{x}^*\\right)$，则局部极小点和全局极小点对应称为严格局部极小点和严格全局极小点。"
   ]
  },
  {
   "cell_type": "markdown",
   "metadata": {},
   "source": [
    "函数$f$在定义域$\\Omega$上的全局极小点$\\mathbf{x}^*$可以表示为$f\\left(\\mathbf{x}^*\\right)=\\min_{\\mathbf{x}\\in\\Omega}f\\left(\\mathbf{x}\\right)$或$\\mathbf{x}^*=\\arg\\min_{\\mathbf{x}\\in\\Omega}f\\left(\\mathbf{x}\\right)$。"
   ]
  },
  {
   "cell_type": "markdown",
   "metadata": {},
   "source": [
    "一阶必要条件可以采用方向导数的形式表示，即对于所有的可行方向$\\mathbf{d}$，都有\n",
    "$$\\frac{\\partial f}{\\partial\\mathbf{d}}\\left(\\mathbf{x}^*\\right)\\geqslant0$$\n",
    "即对于局部极小点$\\mathbf{x}^*$，在约束集$\\Omega$内，函数$f$的值沿$\\mathbf{x}^*$处任意可行方向$\\mathbf{d}$的增长率都是非负的。"
   ]
  },
  {
   "cell_type": "markdown",
   "metadata": {},
   "source": [
    "## 6.2 局部极小点的条件"
   ]
  },
  {
   "cell_type": "markdown",
   "metadata": {},
   "source": [
    "定义6.2 对于向量$\\mathbf{d}\\in\\mathbb{R}^n,\\mathbf{d}\\neq\\mathbf{0}$和约束集中的某点$\\mathbf{x}\\in\\Omega$，如果存在一个实数$\\alpha_0>0$，使得对于所有$\\alpha\\in\\left[0,\\alpha_0\\right],\\mathbf{x}+\\alpha\\mathbf{d}$任然在约束集内，即$\\mathbf{x}+\\alpha\\mathbf{d}\\in\\Omega$，则称$\\mathbf{d}$为$\\mathbf{x}$处的可行方向。"
   ]
  },
  {
   "cell_type": "markdown",
   "metadata": {},
   "source": [
    "$\\mathbf{d}$为$n$元实值函数$f:\\mathbb{R}^n\\to\\mathbb{R}$在$\\mathbf{x}\\in\\Omega$处的可行方向，则函数$f$沿方向$\\mathbf{d}$的方向导数可表示为\n",
    "$$\\frac{\\partial f}{\\partial\\mathbf{d}}=\\lim_{\\alpha\\to 0}\\frac{f\\left(\\mathbf{x}+\\alpha\\mathbf{d}\\right)-f\\left(\\mathbf{x}\\right)}{\\alpha}$$"
   ]
  },
  {
   "cell_type": "markdown",
   "metadata": {},
   "source": [
    "如果$\\|\\mathbf{d}\\|=1$，则方向导数$\\partial f/\\partial\\mathbf{d}$表示的是函数$f$的值在$\\mathbf{x}$处沿方向$\\mathbf{d}$的增长率。"
   ]
  },
  {
   "cell_type": "markdown",
   "metadata": {},
   "source": [
    "设$\\mathbf{x}$和$\\mathbf{d}$已知，则$f\\left(\\mathbf{x}+\\alpha\\mathbf{d}\\right)$成为关于$\\alpha$的函数，有\n",
    "$$\\frac{\\partial f}{\\partial\\mathbf{d}}\\left(\\mathbf{x}\\right)=\\frac{\\mathbf{d}}{\\partial\\alpha}f\\left(\\mathbf{x}+\\alpha\\mathbf{d}\\right)\\Big|_{\\alpha=0}$$\n",
    "应用链式法则，可得\n",
    "$$\\frac{\\partial f}{\\partial\\mathbf{d}}\\left(\\mathbf{x}\\right)=\\frac{\\mathbf{d}}{\\partial\\alpha}f\\left(\\mathbf{x}+\\alpha\\mathbf{d}\\right)\\Big|_{\\alpha=0}=\\nabla f\\left(\\mathbf{x}\\right)^\\top\\mathbf{d}=\\langle\\nabla f\\left(\\mathbf{x}\\right),\\mathbf{d}\\rangle=\\mathbf{d}^\\top\\nabla f\\left(\\mathbf{x}\\right)$$"
   ]
  },
  {
   "cell_type": "markdown",
   "metadata": {},
   "source": [
    "当$\\mathbf{d}$是一个单位向量$\\left(\\|\\mathbf{d}\\|=1\\right)$时，函数$f$的值在$\\mathbf{x}$处沿方向$\\mathbf{d}$的增长率可用内积$\\langle\\nabla f\\left(\\mathbf{x}\\right),\\mathbf{d}\\rangle$表示。"
   ]
  },
  {
   "cell_type": "markdown",
   "metadata": {},
   "source": [
    "定理6.1 局部极小点的一阶必要条件　多元实值函数$f$在约束集$\\Omega$上一阶连续可微，即$f\\in\\mathcal{C}^1$，约束集$\\Omega$是$\\mathbb{R}^n$的子集。如果$\\mathbf{x}^*$是函数$f$在$\\Omega$上的局部极小点，则对于$\\mathbf{x}^*$处的任意可行方向$\\mathbf{d}$，都有\n",
    "$$\\mathbf{d}^\\top\\nabla f\\left(\\mathbf{x}\\right)\\geqslant 0$$\n",
    "成立。"
   ]
  },
  {
   "cell_type": "markdown",
   "metadata": {},
   "source": [
    "推论6.1 局部极小点位于约束集内部一阶必要条件　多元实值函数$f$在约束集$\\Omega$上一阶连续可微，即$f\\in\\mathcal{C}^1$，约束集$\\Omega$是$\\mathbb{R}^n$的子集。如果$\\mathbf{x}^*$是函数$f$在$\\Omega$上的局部极小点，且是$\\Omega$的内点，则有\n",
    "$$\\nabla f\\left(\\mathbf{x}\\right)＝ 0$$\n",
    "成立。"
   ]
  },
  {
   "cell_type": "markdown",
   "metadata": {},
   "source": [
    "定理6.2 局部极小点的二阶必要条件　多元实值函数$f$在约束集$\\Omega$上二阶连续可微，即$f\\in\\mathcal{C}^２$，约束集$\\Omega$是$\\mathbb{R}^n$的子集。如果$\\mathbf{x}^*$是函数$f$在$\\Omega$上的局部极小点，$\\mathbf{d}$是$\\mathbf{x}^*$处的一个可行方向，且$\\mathbf{d}^\\top\\nabla f\\left(\\mathbf{x}^*\\right)=0$，则有\n",
    "$$\\mathbf{d}^\\top\\mathbf{F}\\left(\\mathbf{x}^*\\right)\\mathbf{d}\\geqslant0$$\n",
    "其中，$\\mathbf{F}$是函数$f$的黑塞矩阵。"
   ]
  },
  {
   "cell_type": "markdown",
   "metadata": {},
   "source": [
    "推论6.2 局部极小点位于约束集内部二阶必要条件　多元实值函数$f$在约束集$\\Omega$上二阶连续可微，即$f\\in\\mathcal{C}^2$，约束集$\\Omega$是$\\mathbb{R}^n$的子集。如果$\\mathbf{x}^*$是函数$f$在$\\Omega$上的局部极小点，且是$\\Omega$的内点，则有\n",
    "$$\\nabla f\\left(\\mathbf{x}\\right)＝ 0$$\n",
    "黑塞矩阵$\\mathbf{F}\\left(\\mathbf{x}^*\\right)$是半正定$\\left(\\mathbf{F}\\left(\\mathbf{x}^*\\right)\\geqslant0\\right)$，即对于所有的向量$\\mathbf{d}\\in\\mathbb{R}^n$都有\n",
    "$$\\mathbf{d}^\\top\\mathbf{F}\\left(\\mathbf{x}^*\\right)\\mathbf{d}\\geqslant0$$"
   ]
  },
  {
   "cell_type": "markdown",
   "metadata": {},
   "source": [
    "定理6.3 局部极小点的二阶充分条件（局部极小点为内点）　多元实值函数$f$在约束集$\\Omega$上二阶连续可微，即$f\\in\\mathcal{C}^2$，$\\mathbf{x}^*$是约束集的一个内点，如果同时满足\n",
    "1. $\\nabla f\\left(\\mathbf{x}^*\\right)＝ 0$  \n",
    "2. $\\mathbf{F}\\left(\\mathbf{x}^*\\right)>0$   \n",
    "\n",
    "则$\\mathbf{x}^*$是函数$f$的一个严格局部极小点。"
   ]
  }
 ],
 "metadata": {
  "kernelspec": {
   "display_name": "Python 3",
   "language": "python",
   "name": "python3"
  },
  "language_info": {
   "codemirror_mode": {
    "name": "ipython",
    "version": 3
   },
   "file_extension": ".py",
   "mimetype": "text/x-python",
   "name": "python",
   "nbconvert_exporter": "python",
   "pygments_lexer": "ipython3",
   "version": "3.7.4"
  }
 },
 "nbformat": 4,
 "nbformat_minor": 2
}

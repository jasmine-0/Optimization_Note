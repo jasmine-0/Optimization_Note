{
 "cells": [
  {
   "cell_type": "markdown",
   "metadata": {},
   "source": [
    "# 第7章 一维搜索方法"
   ]
  },
  {
   "cell_type": "markdown",
   "metadata": {},
   "source": [
    "## 7.1 引言"
   ]
  },
  {
   "cell_type": "markdown",
   "metadata": {},
   "source": [
    "目标函数为一元单值函数$f:\\mathbb{R}\\to\\mathbb{R}$时的最小优化问题的迭代求解方法，称为一维搜索法，也称为线性搜索法。"
   ]
  },
  {
   "cell_type": "markdown",
   "metadata": {},
   "source": [
    "迭代算法从初始搜索点$x^{\\left(0\\right)}$出发，产生一个迭代序列$x^{\\left(1\\right)},x^{\\left(2\\right)},\\dots$。在第$k=1,2,\\dots$次迭代中，通过当前迭代点$x^{\\left(k\\right)}$和目标函数$f$构建下一个迭代点$x^{\\left(k+1\\right)}$。算法可能只需要迭代点处的目标函数值，还可能用到目标函数的一阶导数$f'$，甚至二阶导数$f''$。"
   ]
  },
  {
   "cell_type": "markdown",
   "metadata": {},
   "source": [
    "一维搜索算法包括（但不限于）：\n",
    "* 黄金分割法（只使用目标函数值）\n",
    "* 斐波那契数列法（只使用目标函数值）\n",
    "* 二分法（只使用目标函数的一阶导数$f'$）\n",
    "* 割线法（只使用目标函数的一阶导数$f'$）\n",
    "* 牛顿法（同时使用目标函数的一阶导数$f'$和二阶导数$f''$）"
   ]
  },
  {
   "cell_type": "markdown",
   "metadata": {},
   "source": [
    "## 7.2 黄金分割法"
   ]
  },
  {
   "cell_type": "markdown",
   "metadata": {},
   "source": [
    "用于求解一元单值函数$f:\\mathbb{R}\\to\\mathbb{R}$在区间$\\left[a_0,b_0\\right]$上的极小点。前提是目标函数$f$在区间$\\left[a_0,b_0\\right]$上是单峰的，即存在唯一的局部极小点。"
   ]
  },
  {
   "cell_type": "markdown",
   "metadata": {
    "collapsed": true
   },
   "source": [
    "方法思路为选择区间$\\left[a_0,b_0\\right]$中的点，计算对应的目标函数值，通过比较不断缩小极小点所在的区间。利用尽可能少的计算次数来找出函数$f$的极小点，即不段的压缩极小所在的区间，直到达到足够的精度水平。"
   ]
  },
  {
   "cell_type": "markdown",
   "metadata": {},
   "source": [
    "每次需要计算两个点处的目标函数值$f$。可以按照对称压缩方式来缩小极小点所在区间，即\n",
    "$$a_1-a_0=b_0-b_1=\\rho\\left(b_0-a_0\\right)$$\n",
    "其中，$\\rho<\\frac{1}{2}$。"
   ]
  },
  {
   "cell_type": "markdown",
   "metadata": {},
   "source": [
    "计算目标函数在中间点$a_1$和$b_1$处的值，如果$f\\left(a_1\\right)<f\\left(b_1\\right)$，则极小点应该位于区间$\\left[a_0,b_1\\right]$中；否则，若果$f\\left(a_1\\right)\\geqslant f\\left(b_1\\right)$，则极小点应该位于区间$\\left[a_1,b_0\\right]$中。"
   ]
  },
  {
   "cell_type": "markdown",
   "metadata": {},
   "source": [
    "按以上方式，对区间压缩后，可利用之前一样的$\\rho$重复以上过程并确定两个新的中间点。如此往复，即可得到精度水平足够的区间。由于$a_1$已经位于区间$\\left[a_0,b_1\\right]$中，且$f\\left(a_1\\right)$已知，可令$a_1$作为$b_2$，只需计算$a_2$及其对应的目标函数值$f$即可。为此，需要确定合适的参数$\\rho$，使得每次迭代只需计算一次目标函数$f$的值。"
   ]
  },
  {
   "cell_type": "markdown",
   "metadata": {},
   "source": [
    "不失一般性，可认为初始区间$\\left[a_0,b_0\\right]$的长度为1，可知\n",
    "$$\\rho\\left(b_1-a_0\\right)=b_1-b_2$$\n",
    "由$b_1-a_0=1-\\rho,b_1-b_2=1-2\\rho$，可得\n",
    "$$\\rho\\left(1-\\rho\\right)=1-2\\rho$$\n",
    "整理，得\n",
    "$$\\rho^2-3\\rho+1=0$$\n",
    "解得\n",
    "$$\\rho_1=\\frac{3+\\sqrt{5}}{2},\\quad\\rho_2=\\frac{3-\\sqrt{5}}{2}$$\n",
    "由于$\\rho<\\frac{1}{2}$，得\n",
    "$$\\rho_2=\\frac{3-\\sqrt{5}}{2}\\approx0.382$$"
   ]
  },
  {
   "cell_type": "markdown",
   "metadata": {},
   "source": [
    "注意\n",
    "$$1-\\rho=\\frac{\\sqrt{5}-1}{2}$$\n",
    "故有\n",
    "$$\\frac{\\rho}{1-\\rho}=\\frac{3-\\sqrt{5}}{\\sqrt{5}-1}=\\frac{\\sqrt{5}-1}{2}=\\frac{1-\\rho}{1} \\\\\n",
    "\\frac{\\rho}{1-\\rho}=\\frac{1-\\rho}{1}$$"
   ]
  },
  {
   "cell_type": "markdown",
   "metadata": {},
   "source": [
    "即以$\\frac{\\rho}{1-\\rho}$的比例划分区间，能够使得短区间与长区间长度之间的比值等于长区间与整个区间的长度的比值。"
   ]
  },
  {
   "cell_type": "markdown",
   "metadata": {},
   "source": [
    "这种划分方式服从古希腊几何学家提出的著名的黄金分割法则。"
   ]
  },
  {
   "cell_type": "markdown",
   "metadata": {},
   "source": [
    "利用黄金分割法开展区间压缩，意味着每一步只需要确定一个新点并计算一次目标函数$f$的值（第一步除外）。"
   ]
  },
  {
   "cell_type": "markdown",
   "metadata": {},
   "source": [
    "经过$N$步压缩之后，极小点所在区间长度将压缩到初始区间长度的$\\left(1-\\rho\\right)^N\\approx\\left(0.61803\\right)^N$，称为总压缩比。"
   ]
  },
  {
   "cell_type": "markdown",
   "metadata": {},
   "source": [
    "## 7.3 斐波那契数列法"
   ]
  },
  {
   "cell_type": "markdown",
   "metadata": {
    "collapsed": true
   },
   "source": [
    "区间压缩过程中，允许参数$\\rho$不断调整。确定一个参数序列$\\rho_k,0\\leqslant\\rho_k\\leqslant 1/2,k=1,2,\\dots$，使得每次迭代中只需计算一次目标函数值。"
   ]
  },
  {
   "cell_type": "markdown",
   "metadata": {},
   "source": [
    "两次迭代的参数$\\rho$应满足\n",
    "$$\\rho_{k+1}\\left(1-\\rho_k\\right)=1-2\\rho_k$$\n",
    "整理后，得\n",
    "$$\\rho_{k+1}=1-\\frac{\\rho_k}{1-\\rho_k}$$"
   ]
  },
  {
   "cell_type": "markdown",
   "metadata": {},
   "source": [
    "假设序列$\\rho$满足上述条件，则经过$N$次迭代后，总压缩比为$\\left(1-\\rho_1\\right)\\left(1-\\rho_2\\right)\\dots\\left(1-\\rho_N\\right)$。"
   ]
  },
  {
   "cell_type": "markdown",
   "metadata": {},
   "source": [
    "序列$\\rho_k$的选择问题，可采用有约束优化问题描述为\n",
    "$$ minimize\\; \\left(1-\\rho_1\\right)\\left(1-\\rho_2\\right)\\dots\\left(1-\\rho_N\\right) \\\\\n",
    "subject\\;to\\;\\rho_{k+1}=1-\\frac{\\rho_k}{1-\\rho_k},\\;k=1,\\dots,N-1 \\\\\n",
    "0\\leqslant\\rho_k\\leqslant 1/2,\\;k=1,\\dots,N$$"
   ]
  },
  {
   "cell_type": "markdown",
   "metadata": {},
   "source": [
    "斐波那契数列：令$F_{-1}=0,F_0=1.$对于$k\\geqslant0$有\n",
    "$$F_{k+1}=F_k+F_{k-1}$$"
   ]
  },
  {
   "cell_type": "markdown",
   "metadata": {},
   "source": [
    "上述优化问题的最优解可采用斐波那契数列表示，即\n",
    "$$\\rho_k=1-\\frac{F_{N-k+1}}{F_{N-k+2}},\\;k=1,\\dots,N$$\n",
    "其中，$F_k$表示斐波那契数列中的第$k$个元素。"
   ]
  },
  {
   "cell_type": "markdown",
   "metadata": {},
   "source": [
    "斐波那契数列法的总压缩比为\n",
    "$$\\left(1-\\rho_1\\right)\\left(1-\\rho_2\\right)\\dots\\left(1-\\rho_N\\right)=\\frac{F_N}{F_{N+1}}\\frac{F_{N-1}}{F_{N}}\\dots\\frac{F_1}{F_{N+1}}=\\frac{1}{F_{N+1}}$$"
   ]
  },
  {
   "cell_type": "markdown",
   "metadata": {},
   "source": [
    "## 7.4 二分法"
   ]
  },
  {
   "cell_type": "markdown",
   "metadata": {},
   "source": [
    "求解单值函数$f:\\mathbb{R}\\to\\mathbb{R}$在单峰区间$\\left[a_0,b_0\\right]$的极小点，要求函数$f$是连续可微的，可使用函数的一阶导数$f'$。"
   ]
  },
  {
   "cell_type": "markdown",
   "metadata": {},
   "source": [
    "二分法：\n",
    "1. 确定区间$\\left[a_0,b_0\\right]$的中点$x^\\left(0\\right)=\\left(a_0+b_0\\right)/2$；\n",
    "2. 如果$f'\\left(x^{\\left(0\\right)}\\right)>0$，则极小点位于$x^{\\left(0\\right)}$左侧，新区间为$\\left[a_0,x^{\\left(0\\right)}\\right]$，转1；\n",
    "3. 如果$f'\\left(x^{\\left(0\\right)}\\right)<0$，则极小点位于$x^{\\left(0\\right)}$右侧，新区间为$\\left[x^{\\left(0\\right)}，b_0\\right]$，转1；\n",
    "4. 如果$f'\\left(x^{\\left(0\\right)}\\right)=0$，则$x^{\\left(0\\right)}$为极小点。算法结束。"
   ]
  },
  {
   "cell_type": "markdown",
   "metadata": {},
   "source": [
    "二分法的总压缩比为$\\left(1/2\\right)^N$。"
   ]
  },
  {
   "cell_type": "markdown",
   "metadata": {},
   "source": [
    "## 7.5 牛顿法"
   ]
  },
  {
   "cell_type": "markdown",
   "metadata": {
    "collapsed": true
   },
   "source": [
    "假设函数$f$连续二阶可微。可构造经过点$\\left(x^{\\left(k\\right)},f\\left(x^{\\left(k\\right)}\\right)\\right)$处的二次函数\n",
    "$$q\\left(x\\right)=f\\left(x^{\\left(k\\right)}\\right)+f'\\left(x^{\\left(k\\right)}\\right)\\left(x-x^{\\left(k\\right)}\\right)+\\frac{1}{2}f''\\left(x^{\\left(k\\right)}\\right)\\left(x-x^{\\left(k\\right)}\\right)^2$$\n",
    "显然，有$q\\left(x^{\\left(k\\right)}\\right)=f\\left(x^{\\left(k\\right)}\\right),q'\\left(x^{\\left(k\\right)}\\right)=f'\\left(x^{\\left(k\\right)}\\right),q''\\left(x^{\\left(k\\right)}\\right)=f''\\left(x^{\\left(k\\right)}\\right)$。"
   ]
  },
  {
   "cell_type": "markdown",
   "metadata": {},
   "source": [
    "$q\\left(x\\right)$可认为是函数$f\\left(x\\right)$的近似，因此求函数$f$的极小点可近似于求解$q$的极小点。"
   ]
  },
  {
   "cell_type": "markdown",
   "metadata": {},
   "source": [
    "函数$q$的极小点应满足一阶必要条件：\n",
    "$$q'\\left(x\\right)=f'\\left(x^{\\left(k\\right)}\\right)+f''\\left(x^{\\left(k\\right)}\\right)\\left(x-x^{\\left(k\\right)}\\right)=0$$"
   ]
  },
  {
   "cell_type": "markdown",
   "metadata": {},
   "source": [
    "令$x=x^{\\left(k+1\\right)}$，可得\n",
    "$$x^{\\left(k+1\\right)}=x^{\\left(k\\right)}-\\frac{f'\\left(x^{\\left(k\\right)}\\right)}{f''\\left(x^{\\left(k\\right)}\\right)}$$"
   ]
  },
  {
   "cell_type": "markdown",
   "metadata": {},
   "source": [
    "当$f''\\left(x\\right)>0$对于区间内所有点$x$都成立时，牛顿法可收敛到极小点；当$f''\\left(x\\right)<0$在区间内某点$x$成立时，牛顿法可能收敛到极大点；"
   ]
  },
  {
   "cell_type": "markdown",
   "metadata": {},
   "source": [
    "令$g\\left(x\\right)=f'\\left(x\\right)$，可得迭代公式\n",
    "$$x^{\\left(k+1\\right)}=x^{\\left(k\\right)}-\\frac{g\\left(x^{\\left(k\\right)}\\right)}{g'\\left(x^{\\left(k\\right)}\\right)}$$\n",
    "用于求解方程$g\\left(x\\right)=0$，称为牛顿切线法。"
   ]
  },
  {
   "cell_type": "markdown",
   "metadata": {},
   "source": [
    "## 7.6 割线法"
   ]
  },
  {
   "cell_type": "markdown",
   "metadata": {},
   "source": [
    "如果函数$f$的二阶导数不存在，可用不同点处的一阶导数对其近似得到。"
   ]
  },
  {
   "cell_type": "markdown",
   "metadata": {},
   "source": [
    "将近似值\n",
    "$$f''\\left(x^{\\left(k\\right)}\\right)\\approx\\frac{f'\\left(x^{\\left(k\\right)}\\right)-f'\\left(x^{\\left(k-1\\right)}\\right)}{x^{\\left(k\\right)}-x^{\\left(k-1\\right)}}$$\n",
    "带入牛顿法迭代公式，可得\n",
    "$$x^{\\left(k+1\\right)}=x^{\\left(k\\right)}-\\frac{x^{\\left(k\\right)}-x^{\\left(k-1\\right)}}{f'\\left(x^{\\left(k\\right)}\\right)-f'\\left(x^{\\left(k-1\\right)}\\right)}f'\\left(x^{\\left(k\\right)}\\right) \\\\\n",
    "=\\frac{f'\\left(x^{\\left(k\\right)}\\right)x^{\\left(k-1\\right)}-f'\\left(x^{\\left(k-1\\right)}\\right)x^{\\left(k\\right)}}{f'\\left(x^{\\left(k\\right)}\\right)-f'\\left(x^{\\left(k-1\\right)}\\right)}$$\n",
    "该方法需要两个初始点$x^{\\left(-1\\right)}$和$x^{\\left(0\\right)}$。割线法使用第$k-1$和第$k$个迭代之间的割线确定第$k+1$个迭代点。"
   ]
  },
  {
   "cell_type": "markdown",
   "metadata": {},
   "source": [
    "割线法也可用于解方程$g\\left(x\\right)=0$，其迭代公式为\n",
    "$$x^{\\left(k+1\\right)}=x^{\\left(k\\right)}-\\frac{x^{\\left(k\\right)}-x^{\\left(k-1\\right)}}{g\\left(x^{\\left(k\\right)}\\right)-g\\left(x^{\\left(k-1\\right)}\\right)}g\\left(x^{\\left(k\\right)}\\right) \\\\\n",
    "=\\frac{g\\left(x^{\\left(k\\right)}\\right)x^{\\left(k-1\\right)}-g\\left(x^{\\left(k-1\\right)}\\right)x^{\\left(k\\right)}}{g\\left(x^{\\left(k\\right)}\\right)-g\\left(x^{\\left(k-1\\right)}\\right)}$$"
   ]
  },
  {
   "cell_type": "markdown",
   "metadata": {},
   "source": [
    "## 7.7 划界法"
   ]
  },
  {
   "cell_type": "markdown",
   "metadata": {},
   "source": [
    "确定目标函数极小点所在初始区间（上下边界）的方法，称为划界法。"
   ]
  },
  {
   "cell_type": "markdown",
   "metadata": {},
   "source": [
    "任选3点$x_0<x_1<x_2$，如果$f\\left(x_0\\right)<f\\left(x_1\\right)<f\\left(x_2\\right)$，则极小点在区间$\\left[x_0,x_2\\right]$。否则，如果$f\\left(x_0\\right)<f\\left(x_1\\right)>f\\left(x_2\\right)$，则选一点$x_3>x_2$，检查$f\\left(x_2\\right)<f\\left(x_3\\right)$是否成立，如果成立，极小点在区间$\\left[x_1,x_3\\right]$，否则，重复该过程，直到能够找到一个$x_3$，使得$f\\left(x_2\\right)<f\\left(x_3\\right)$成立。"
   ]
  },
  {
   "cell_type": "markdown",
   "metadata": {},
   "source": [
    "新点选择应保证其与前一个相邻点的距离超过其与前两点之间距离，可令相邻各点之间的距离倍增。"
   ]
  },
  {
   "cell_type": "markdown",
   "metadata": {},
   "source": [
    "最后的到3个点$x_{k-2}$、$x_{k-1}$、$x_{k}$，满足$f\\left(x_{k-2}\\right)<f\\left(x_{k-1}\\right)<f\\left(x_{k}\\right)$，极小点所在区间是$\\left[x_{k-2},x_k\\right]$。"
   ]
  },
  {
   "cell_type": "markdown",
   "metadata": {},
   "source": [
    "在划界法中，已经得到目标函数值$f\\left(x_{k-2}\\right)$、$f\\left(x_{k-1}\\right)$、$f\\left(x_{k}\\right)$，可将$x_{k-1}$作为迭代过程中的一个点。"
   ]
  },
  {
   "cell_type": "markdown",
   "metadata": {},
   "source": [
    "如使用黄金分割法，可令$x_{k-1}-x_{k-2}=\\rho\\left(x_{k}-x_{k-2}\\right)$。在划界法中应按照$x_k=x_{k-1}+\\left(2-\\rho\\right)\\left(x_{k-1}-x_{k-2}\\right)$的方式来选择新点，即相邻点之间距离的扩展倍数为$2-\\rho\\approx1.618$。"
   ]
  },
  {
   "cell_type": "markdown",
   "metadata": {},
   "source": [
    "## 7.8 多维优化问题中的一维搜索"
   ]
  },
  {
   "cell_type": "markdown",
   "metadata": {},
   "source": [
    "多维优化问题中的一维搜索过程:  \n",
    "令目标函数为$f:\\mathbb{R}^n\\to\\mathbb{R}$，求其极小点的迭代算法中迭代公式为\n",
    "$$\\mathbf{x}^{\\left(k+1\\right)}=\\mathbf{x}^{\\left(k\\right)}+\\alpha\\mathbf{d}^{\\left(k\\right)}$$\n",
    "其中，$\\mathbf{x}^{\\left(0\\right)}$为给定的初始搜索点，$\\alpha\\geqslant0$为步长，其确定方式为使函数\n",
    "$$\\phi_k\\left(\\alpha\\right)=f\\left(\\mathbf{x}^{\\left(k\\right)}+\\alpha\\mathbf{d}^{\\left(k\\right)}\\right)$$\n",
    "达到最小；向量$\\mathbf{d}^{\\left(k\\right)}$称为搜索方向。"
   ]
  },
  {
   "cell_type": "markdown",
   "metadata": {},
   "source": [
    "应为一维搜索手机合适的停止条件，并使得即使一维搜索结果精度偏低，仍然能保证目标函数$f$在两次迭代中得到足够程度的下降。可令步长$\\alpha_k$不要太小或太大。"
   ]
  },
  {
   "cell_type": "markdown",
   "metadata": {},
   "source": [
    "Armijo条件：  \n",
    "选定3个常数，$\\varepsilon\\in\\left(0,1\\right),\\gamma>1,\\eta\\in\\left(\\varepsilon,1\\right)$。通过要去\n",
    "$$\\phi_k\\left(\\alpha_k\\right)\\leqslant\\phi_k\\left(0\\right)+\\varepsilon\\alpha_k\\phi_k'\\left(0\\right)$$\n",
    "保证$\\alpha_k$不会太大。通过要求\n",
    "$$\\phi_k\\left(\\gamma\\alpha_k\\right)\\geqslant\\phi_k\\left(0\\right)+\\varepsilon\\gamma\\alpha_k\\phi_k'\\left(0\\right)$$\n",
    "保证$\\alpha_k$不会太小。"
   ]
  },
  {
   "cell_type": "markdown",
   "metadata": {},
   "source": [
    "Goldstein条件：  \n",
    "$$\\phi_k\\left(\\alpha_k\\right)\\geqslant\\phi_k\\left(0\\right)+\\eta\\alpha_k\\phi_k'\\left(0\\right)$$"
   ]
  },
  {
   "cell_type": "markdown",
   "metadata": {},
   "source": [
    "Armijo-Goldstein条件：  \n",
    "$$\\phi_k\\left(\\alpha_k\\right)\\leqslant\\phi_k\\left(0\\right)+\\varepsilon\\alpha_k\\phi_k'\\left(0\\right) \\\\\n",
    "\\phi_k\\left(\\alpha_k\\right)\\geqslant\\phi_k\\left(0\\right)+\\eta\\alpha_k\\phi_k'\\left(0\\right)$$"
   ]
  },
  {
   "cell_type": "markdown",
   "metadata": {},
   "source": [
    "Wolfe条件：  \n",
    "$$\\phi_k'\\left(\\alpha_k\\right)\\geqslant\\eta\\phi_k'\\left(0\\right)$$"
   ]
  },
  {
   "cell_type": "markdown",
   "metadata": {},
   "source": [
    "强Wolfe条件：  \n",
    "$$|\\phi_k'\\left(\\alpha_k\\right)|\\leqslant\\eta|\\phi_k'\\left(0\\right)|$$"
   ]
  },
  {
   "cell_type": "markdown",
   "metadata": {},
   "source": [
    "Armijo划界法：  \n",
    "1. 选定备选值$\\alpha^{\\left(0\\right)}$；\n",
    "2. 如果满足预定停止条件（通常是Armijo条件中的第一个不等式），则其为步长，算法结束；\n",
    "3. 否则，乘以$\\tau\\in\\left(0,1\\right)$，步长为$\\alpha^{k+1}=\\tau\\alpha^{\\left(k\\right)}$转2"
   ]
  }
 ],
 "metadata": {
  "kernelspec": {
   "display_name": "Python 3",
   "language": "python",
   "name": "python3"
  },
  "language_info": {
   "codemirror_mode": {
    "name": "ipython",
    "version": 3
   },
   "file_extension": ".py",
   "mimetype": "text/x-python",
   "name": "python",
   "nbconvert_exporter": "python",
   "pygments_lexer": "ipython3",
   "version": "3.7.4"
  }
 },
 "nbformat": 4,
 "nbformat_minor": 2
}

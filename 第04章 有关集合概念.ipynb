{
 "cells": [
  {
   "cell_type": "markdown",
   "metadata": {},
   "source": [
    "# 第4章　有关集合概念"
   ]
  },
  {
   "cell_type": "markdown",
   "metadata": {
    "collapsed": true
   },
   "source": [
    "## 4.1 线段"
   ]
  },
  {
   "cell_type": "markdown",
   "metadata": {
    "collapsed": true
   },
   "source": [
    "$\\mathbf{x}$和$\\mathbf{y}$是空间$\\mathbb{R}^n$中的两点，两点之间的线段指的是连接$\\mathbf{x}$和$\\mathbf{y}$的直线上所有点的集合。如果$\\mathbf{z}$位于$\\mathbf{x}$和$\\mathbf{y}$之间的线段上，则\n",
    "$$\\frac{\\mathbf{z}-\\mathbf{y}}{\\mathbf{x}-\\mathbf{y}}=\\alpha,\\quad\\alpha\\in\\left[0,1\\right]$$\n",
    "有\n",
    "$$\\mathbf{z}-\\mathbf{y}=\\alpha\\left(\\mathbf{x}-\\mathbf{y}\\right) \\\\  \n",
    "\\mathbf{z}=\\alpha\\mathbf{x}+\\left(1-\\alpha\\right)\\mathbf{y}$$即$\\mathbf{x}$和$\\mathbf{y}$之间的线段可表示为\n",
    "$$\\{\\mathbf{z}-\\mathbf{y}=\\alpha\\left(\\mathbf{x}-\\mathbf{y}\\right):\\alpha\\in\\left[0,1\\right]\\}$$"
   ]
  },
  {
   "cell_type": "markdown",
   "metadata": {},
   "source": [
    "## 4.2 超平面与线性簇"
   ]
  },
  {
   "cell_type": "markdown",
   "metadata": {},
   "source": [
    "令$u_1,u_2,\\dots,u_n,v\\in\\mathbb{R}$，其中至少存在一个$u_i$不为零。由所有满足线性方程\n",
    "$$u_1x_1+u_2x_2+\\dots+u_nx_n=v$$\n",
    "的点$\\mathbf{x}=\\left[x_1,x_2,\\dots,x_n\\right]^\\top$组成的集合称为空间$\\mathbb{R}$的超平面，记为\n",
    "$$\\{\\mathbf{x}\\in\\mathbb{R}^n:\\mathbf{u}^\\top\\mathbf{x}=v\\}$$\n",
    "其中$\\mathbf{u}=\\left[u_1,u_2,\\dots,u_n\\right]^\\top$。"
   ]
  },
  {
   "cell_type": "markdown",
   "metadata": {},
   "source": [
    "注意，由于超平面通常不包含远点，因此超平面不一定是空间$\\mathbb{R}$的子空间。"
   ]
  },
  {
   "cell_type": "markdown",
   "metadata": {},
   "source": [
    "超平面$H=\\{\\mathbf{x}:u_1x_+u_2x_2\\dots u_nx_n=v\\}$将$\\mathbb{R}^n$空间划分为两部分。其中一部分包含满足不等式$u_1x_+u_2x_2\\dots u_nx_n\\geqslant v$的所有点，记为\n",
    "$$H_+ =\\{\\mathbf{x}\\in\\mathbb{R}^n:\\mathbf{u}^\\top\\mathbf{x}\\geqslant v\\}$$\n",
    "称为正半空间；\n",
    "另外一部分包含满足不等式$u_1x_+u_2x_2\\dots u_nx_n\\leqslant v$的所有点，记为\n",
    "$$H_- =\\{\\mathbf{x}\\in\\mathbb{R}^n:\\mathbf{u}^\\top\\mathbf{x}\\leqslant v\\}$$\n",
    "称为负半空间。"
   ]
  },
  {
   "cell_type": "markdown",
   "metadata": {},
   "source": [
    "令$\\mathbf{a}=\\left[a_1,a_2,\\dots,a_n\\right]^\\top$表示超平面$H$中任意一点，故有$\\mathbf{u}^\\top\\mathbf{a}-v=0$。可得\n",
    "$$\\mathbf{u}^\\top\\mathbf{x}-v=\\mathbf{u}^\\top\\mathbf{x}-v-\\left(\\mathbf{u}^\\top\\mathbf{a}-v\\right) \\\\\n",
    "=\\mathbf{u}^\\top \\left(\\mathbf{x}-\\mathbf{a}\\right) \\\\\n",
    "\\qquad\\qquad\\qquad\\qquad\\qquad\\qquad\\quad\\quad=u_1\\left(x_1-a_1\\right)+u_2\\left(x_2-a_2\\right)+\\dots+u_n\\left(x_n-a_n\\right)=0$$\n",
    "其中，$\\left(x_i-a_i\\right) \\left(i=1,\\dots,n\\right)$是向量$\\mathbf{x}-\\mathbf{a}$的元素。则超平面$H$包含满足方程$\\langle\\mathbf{u},\\mathbf{x}-\\mathbf{a}\\rangle=0$的所有点$\\mathbf{x}$，称向量$\\mathbf{u}$正交于平面$H$。"
   ]
  },
  {
   "cell_type": "markdown",
   "metadata": {},
   "source": [
    "集合$H_+$包含所有满足$\\langle\\mathbf{u},\\mathbf{x}-\\mathbf{a}\\rangle\\geqslant0$的点；集合$H_-$包含所有满足$\\langle\\mathbf{u},\\mathbf{x}-\\mathbf{a}\\rangle\\leqslant0$的点。"
   ]
  },
  {
   "cell_type": "markdown",
   "metadata": {},
   "source": [
    "线性簇为集合\n",
    "$$\\{\\mathbf{x}\\in\\mathbb{R}^n:\\mathbf{A}\\mathbf{x}=\\mathbf{b}\\}$$\n",
    "其中，矩阵$\\mathbf{A}\\in\\mathbb{R}^{m\\times n}$，向量$\\mathbf{b}\\in\\mathbb{R}^m$。如果$\\mathrm{dim}\\mathcal{N}\\left(\\mathbf{A}\\right)=r$，则称线性簇的维数为$r$。当且仅当$\\mathbf{b}=0$时，线性簇是一个子空间。如果$\\mathbf{A}=\\mathbf{0}$，则该线性簇是$\\mathbb{R}^n$。如果线性簇的维数小于$n$，则它是有限个超平面的交集。"
   ]
  },
  {
   "cell_type": "markdown",
   "metadata": {},
   "source": [
    "## 4.3 凸集"
   ]
  },
  {
   "cell_type": "markdown",
   "metadata": {},
   "source": [
    "已知两点$\\mathbf{u},\\mathbf{v}\\in\\mathbb{R}^n$之间的线段可表示为集合$\\{\\mathbf{w}\\in\\mathbb{R}^n:\\mathbf{w}=\\alpha\\mathbf{u}+\\left(1-\\alpha\\right)\\mathbf{v},\\alpha\\in\\left[0,1\\right]\\}$，点$\\mathbf{w}=\\alpha\\mathbf{u}+\\left(1-\\alpha\\right)\\mathbf{v}\\thinspace \\left(\\alpha\\in\\left[0,1\\right]\\right)$称为点$\\mathbf{u}$和点$\\mathbf{v}$的凸组合。"
   ]
  },
  {
   "cell_type": "markdown",
   "metadata": {},
   "source": [
    "如果对于所有$\\mathbf{u},\\mathbf{v}\\in\\Theta$，$\\mathbf{u}$和$\\mathbf{v}$之间的线段都位于$\\Theta$内，则称集合$\\Theta\\in\\mathbb{R}^n$为凸集。  \n",
    "凸集可以是\n",
    "+ 空集\n",
    "+ 单点组成的集合\n",
    "+ 一条直线或线段\n",
    "+ 子空间\n",
    "+ 超平面\n",
    "+ 线性簇\n",
    "+ 半空间\n",
    "+ $\\mathbb{R}^n$"
   ]
  },
  {
   "cell_type": "markdown",
   "metadata": {},
   "source": [
    "定理4.1 $\\mathbb{R}$的凸子集具有如下性质:  \n",
    "a. 如果$\\Theta$是一个凸集，且$\\beta$是一个实数，则集合\n",
    "$$\\beta\\Theta=\\{\\mathbf{x}:\\mathbf{x}=\\beta\\mathbf{v},\\mathbf{v}\\in\\Theta\\}$$\n",
    "也是凸集。  \n",
    "b. 如果$\\Theta_1$和$\\Theta_2$都是凸集，则集合\n",
    "$$\\Theta_1+\\Theta_2=\\{\\mathbf{x}:\\mathbf{x}=\\mathbf{v}_1+\\mathbf{v}_2,\\mathbf{v}_1\\in\\Theta_1,\\mathbf{v}_2\\in\\Theta_2\\}$$\n",
    "也是凸集。  \n",
    "c. 任意多个凸集的交集也是凸集。"
   ]
  },
  {
   "cell_type": "markdown",
   "metadata": {},
   "source": [
    "对于凸集中的点$\\mathbf{x}$，如果不存在两个点$\\mathbf{u}$和$\\mathbf{v}$，使得对于某个$\\alpha\\in\\left(0,1\\right)$有$\\mathbf{x}=\\alpha\\mathbf{u}+\\left(1-\\alpha\\right)\\mathbf{v}\\thinspace$，则称点$\\mathbf{x}$是凸集$\\Theta$的极点。"
   ]
  },
  {
   "cell_type": "markdown",
   "metadata": {
    "collapsed": true
   },
   "source": [
    "## 4.4 邻域"
   ]
  },
  {
   "cell_type": "markdown",
   "metadata": {},
   "source": [
    "点$\\mathbf{x}\\in\\mathbb{R}^n$的邻域可表示为\n",
    "$$\\{\\mathbf{y}\\in\\mathbb{R}^n:\\|\\mathbf{y}-\\mathbf{x}\\|<\\varepsilon\\}$$\n",
    "其中，$\\varepsilon$为某个正数。邻域也可视为半径为$\\varepsilon$、中心为$\\mathbf{x}$的球体。"
   ]
  },
  {
   "cell_type": "markdown",
   "metadata": {},
   "source": [
    "如果集合$S$包含$\\mathbf{x}$的某个邻域，即$\\mathbf{x}$的某个邻域的所有点都属于$S$，则点$\\mathbf{x}\\in S$称为集合$S$的内点。$S$所有内点的集合称为$S$的内部。  \n",
    "如果$\\mathbf{x}$的邻域既包含$S$中的点，也包含$S$外的点，则称$\\mathbf{x}$为集合$S$的边界点。$S$的边界点可能是$S$中的元素，也可能不是$S$中的元素。$S$的所有边界点的集合称为$S$的边界。"
   ]
  },
  {
   "cell_type": "markdown",
   "metadata": {},
   "source": [
    "如果集合$S$包含它的每个点的邻域，则该集合是开集。即如果$S$中的每个点都是内点，或$S$不包含任意边界点，则$S$是开集。  \n",
    "如果集合$S$包含边界点，则该集合是闭集。可以证明，当且仅当一个集合的补集是开集，则该集合是闭集。"
   ]
  },
  {
   "cell_type": "markdown",
   "metadata": {},
   "source": [
    "如果一个集合可以被一个有限半径的球体包围，则该集合称为有界集。如果一个集合既是有界集又是闭集，则该集合称为紧集。"
   ]
  },
  {
   "cell_type": "markdown",
   "metadata": {},
   "source": [
    "定理4.2 魏尔斯特拉斯定理  \n",
    "假设$f:\\Omega\\to\\mathbb{R}$是一个连续函数，其中$\\Omega\\subset\\mathbb{R}^n$是紧集。则必定存在点$x_0\\in\\Omega$，使得对于所有$x\\in\\Omega$都有$f\\left(x_0\\right)\\leqslant f\\left(x\\right)$，即$f$能够在$\\Omega$上取得极小值。"
   ]
  },
  {
   "cell_type": "markdown",
   "metadata": {},
   "source": [
    "## 4.5 多面体和多胞形"
   ]
  },
  {
   "cell_type": "markdown",
   "metadata": {},
   "source": [
    "令$\\Theta$为一个凸集，$\\mathbf{y}$是$\\Theta$的一个边界点。某个经过点$\\mathbf{y}$的超平面将$\\mathbb{R}^n$空间分为两个半空间，如果$\\Theta$完全位于其中一个半空间，则称该超平面为集合$\\Theta$的支撑超平面。"
   ]
  },
  {
   "cell_type": "markdown",
   "metadata": {},
   "source": [
    "如果一个集合可以表示为有限个半空间的交集，则称该集合为多面体。由于在$\\mathbb{R}^n$空间中的半空间$H_+$和$H_-$都是凸集，且任意多个凸集的交集也是凸集，所以多面体是凸集。  \n",
    "一个非空有界多面体称为多胞形。"
   ]
  },
  {
   "cell_type": "markdown",
   "metadata": {},
   "source": [
    "对于每个凸多面体$\\Theta\\subset\\mathbf{R}^n$，都存在一个非负正数$k\\leqslant n$，使得$\\Theta$能够包含在一个维度为$k$的线性簇中，却无法完全包含与$\\mathbb{R}^n$的任意$k-1$维线性簇中。即包含$\\Theta$的线性簇是唯一的该线性簇称为多面体$\\Theta$的包，$k$称为$\\Theta$的维数。任意$k\\left(k>0\\right)$维多面体的边界，包含有限数量的$k-1$维多面体。"
   ]
  },
  {
   "cell_type": "markdown",
   "metadata": {},
   "source": [
    "如果$k-1$维多面体能构成$k$维多面体的边界，则这个$k-1$维多面体称为$k$维多面体的面。一个多面体的零维面称为定点，一维面称为棱。"
   ]
  }
 ],
 "metadata": {
  "kernelspec": {
   "display_name": "Python 3",
   "language": "python",
   "name": "python3"
  },
  "language_info": {
   "codemirror_mode": {
    "name": "ipython",
    "version": 3
   },
   "file_extension": ".py",
   "mimetype": "text/x-python",
   "name": "python",
   "nbconvert_exporter": "python",
   "pygments_lexer": "ipython3",
   "version": "3.7.4"
  }
 },
 "nbformat": 4,
 "nbformat_minor": 2
}

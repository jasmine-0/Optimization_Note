{
 "cells": [
  {
   "cell_type": "markdown",
   "metadata": {
    "collapsed": true
   },
   "source": [
    "# 第1章 证明方法与相关记法"
   ]
  },
  {
   "cell_type": "markdown",
   "metadata": {},
   "source": [
    "## 1.1 证明方法"
   ]
  },
  {
   "cell_type": "markdown",
   "metadata": {},
   "source": [
    "原命题：$A$  \n",
    "否命题（逻辑非）：$\\neg A$  \n",
    "逻辑非真值表：  \n",
    "\n",
    "| $A$   | $\\neg A$ |\n",
    "|------:|---------:|\n",
    "|$True$ |   $False$|\n",
    "|$False$|    $True$| "
   ]
  },
  {
   "cell_type": "markdown",
   "metadata": {
    "collapsed": true
   },
   "source": [
    "逻辑与：$A \\land B$  \n",
    "逻辑或：$A \\lor B$  \n",
    "逻辑与、逻辑或真值表:  \n",
    "\n",
    "| $A$   | $B$   |$A \\land B$  | $A \\lor B$  |\n",
    "|------:|------:|------------:|------------:|\n",
    "|$True$ |$True$ |$\\quad True$ |$\\quad True$ |\n",
    "|$True$ |$False$|$\\quad False$|$\\quad True$ |\n",
    "|$False$|$True$ |$\\quad False$|$\\quad True$ |\n",
    "|$False$|$False$|$\\quad False$|$\\quad False$|"
   ]
  },
  {
   "cell_type": "markdown",
   "metadata": {
    "collapsed": true
   },
   "source": [
    "充分条件：$A \\Rightarrow B$（$A$蕴含$B$、$A$仅当$B$、如果$A$则$B$、$A$是$B$的充分条件）   \n",
    "必要条件：$A \\Leftarrow B$ （$A$是$B$的必要条件）  \n",
    "充要条件：$A \\Leftrightarrow B$  （$A$等价于$B、A$是$B$的充要条件）    \n",
    "充分条件、必要条件、充要条件真值表：  \n",
    "\n",
    "| $A$   | $B$   |$A \\Rightarrow B$|$A \\Leftarrow B$|$A \\Leftrightarrow B$|\n",
    "|------:|------:|----------------:|---------------:|--------------------:|\n",
    "|$True$ |$True$ |$\\qquad True$    |$\\qquad True$   |$\\qquad True$        |\n",
    "|$True$ |$False$|$\\qquad False$   |$\\qquad True$   |$\\qquad False$       |\n",
    "|$False$|$True$ |$\\qquad True$    |$\\qquad False$  |$\\qquad False$       |\n",
    "|$False$|$False$|$\\qquad True$    |$\\qquad True$   |$\\qquad True$        |"
   ]
  },
  {
   "cell_type": "markdown",
   "metadata": {},
   "source": [
    "原命题：$A \\Rightarrow B$  \n",
    "逆否命题：$\\neg B \\Rightarrow \\neg A$  \n",
    "原命题与其逆否命题等价  \n",
    "$$ \\left( A \\Rightarrow B \\right)  \\Leftrightarrow \\left( \\neg B \\Rightarrow \\neg A \\right)$$"
   ]
  },
  {
   "cell_type": "markdown",
   "metadata": {},
   "source": [
    "德摩根定律：  \n",
    "$$ \\neg \\left( A \\lor B \\right) \\Leftrightarrow \\neg A \\land \\neg B \\\\\n",
    "   \\neg \\left( A \\land B \\right) \\Leftrightarrow \\neg A \\lor \\neg B $$"
   ]
  },
  {
   "cell_type": "markdown",
   "metadata": {},
   "source": [
    "命题$A \\Rightarrow B$的证明：  \n",
    "1）直接证明法：$A \\Rightarrow B$  \n",
    "2）对位证明法：$ \\left( A \\Rightarrow B \\right) \\Leftrightarrow \\left( \\neg B \\Rightarrow \\neg A \\right)$  \n",
    "3）反证法： $ \\left( A \\Rightarrow B \\right) \\Leftrightarrow \\neg \\left( A \\land \\neg B \\right)$  \n",
    "4）归纳法：设序列中各项的属性满足a）第1项具有该属性；b）如果第$n$项具有该属性，那么第$n+1$项也具有该属性，则序列中任意项均具有该属性。"
   ]
  },
  {
   "cell_type": "markdown",
   "metadata": {},
   "source": [
    "## 1.2 记法"
   ]
  },
  {
   "cell_type": "markdown",
   "metadata": {},
   "source": [
    "设$X$是一个集合，则$x \\in X$表示$x$是集合$X$的一个元素，$x \\notin X$表示$x$不是集合$X$的元素。  \n",
    "集合$\\{x_1,x_2,\\dots, x_n \\}$表示由$x_1,x_2,\\dots, x_n$元素组成的集合。  \n",
    "集合$\\{x:x\\in \\mathbb{R},x>5\\}$表示由实数集合中大于5的元素组成的集合，也可表示为$\\{x\\in \\mathbb{R}:x>5\\}$。  \n",
    "设$X$和$Y$是集合，则$X \\subset Y$表示$X$的元素也是$Y$的元素，即$X$是$Y$的子集。  \n",
    "设$X$和$Y$是集合，则$X \\backslash Y$表示由在集合$X$中但不在集合$Y$中的元素组成的集合，即$X$减$Y$。"
   ]
  },
  {
   "cell_type": "markdown",
   "metadata": {},
   "source": [
    "符号“$f:X \\to Y$”表示$f$是一个从集合$X$到集合$Y$的函数。  \n",
    "符号“$x:=y$”表示一个算数赋值操作，即将$x$赋值给$y$。  \n",
    "符号“$\\triangleq$”表示定义为相等。"
   ]
  }
 ],
 "metadata": {
  "kernelspec": {
   "display_name": "Python 3",
   "language": "python",
   "name": "python3"
  },
  "language_info": {
   "codemirror_mode": {
    "name": "ipython",
    "version": 3
   },
   "file_extension": ".py",
   "mimetype": "text/x-python",
   "name": "python",
   "nbconvert_exporter": "python",
   "pygments_lexer": "ipython3",
   "version": "3.7.4"
  }
 },
 "nbformat": 4,
 "nbformat_minor": 2
}

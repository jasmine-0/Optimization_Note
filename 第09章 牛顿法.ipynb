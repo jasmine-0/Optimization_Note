{
 "cells": [
  {
   "cell_type": "markdown",
   "metadata": {},
   "source": [
    "# 第9章 牛顿法"
   ]
  },
  {
   "cell_type": "markdown",
   "metadata": {},
   "source": [
    "## 9.1 引言"
   ]
  },
  {
   "cell_type": "markdown",
   "metadata": {},
   "source": [
    "牛顿法同时使用一阶和二阶导数来确定搜索方向，当初始点与目标函数的极小点足够接近时，效率要优于最速下降法。"
   ]
  },
  {
   "cell_type": "markdown",
   "metadata": {},
   "source": [
    "当目标函数$f:\\mathbb{R}^n\\to\\mathbb{R}$二阶连续可微时，将函数$f$在点$\\mathbf{x}^{\\left(k\\right)}$处进行泰勒展开（忽略三次以上的项），可得到二次型近似函数\n",
    "$$f\\left(\\mathbf{x}\\right)\\approx f\\left(\\mathbf{x}^{\\left(k\\right)}\\right)+\\left(\\mathbf{x}-\\mathbf{x}^{\\left(k\\right)}\\right)^\\top\\mathbf{g}^{\\left(k\\right)}+\\frac{1}{2}\\left(\\mathbf{x}-\\mathbf{x}^{\\left(k\\right)}\\right)^\\top\\mathbf{F}^{\\left(k\\right)}\\left(\\mathbf{x}-\\mathbf{x}^{\\left(k\\right)}\\right)\\triangleq q\\left(\\mathbf{x}\\right)$$"
   ]
  },
  {
   "cell_type": "markdown",
   "metadata": {},
   "source": [
    "令$\\mathbf{g}^{\\left(k\\right)}=\\nabla f\\left(\\mathbf{x}^{\\left(k\\right)}\\right)$，应用函数$q$的局部极小点的一阶必要条件，得\n",
    "$$\\nabla q\\left(\\mathbf{x}\\right)=\\mathbf{g}^{\\left(k\\right)}+\\mathbf{F}\\left(\\mathbf{x}^{\\left(k\\right)}\\right)\\left(\\mathbf{x}-\\mathbf{x}^{\\left(k\\right)}\\right)=0$$"
   ]
  },
  {
   "cell_type": "markdown",
   "metadata": {},
   "source": [
    "如果$\\mathbf{F}\\left(\\mathbf{x}^{\\left(k\\right)}\\right)>0$，牛顿迭代公式为\n",
    "$$\\mathbf{x}^{\\left(k+1\\right)}=\\mathbf{x}^{\\left(k\\right)}-\\mathbf{F}\\left(\\mathbf{x}^{\\left(k\\right)}\\right)^{-1}\\mathbf{g}^{\\left(k\\right)}$$"
   ]
  },
  {
   "cell_type": "markdown",
   "metadata": {},
   "source": [
    "## 9.2 牛顿法性质分析"
   ]
  },
  {
   "cell_type": "markdown",
   "metadata": {},
   "source": [
    "当初始点$\\mathbf{x}^{\\left(0\\right)}$远离函数极小点时，即使$\\mathbf{F}\\left(\\mathbf{x}^{\\left(k\\right)}\\right)>0$，牛顿法也不具有下降性，即可能出现$f\\left(\\mathbf{x}^{\\left(k+1\\right)}\\right)\\geqslant f\\left(\\mathbf{x}^{\\left(k\\right)}\\right)$。"
   ]
  },
  {
   "cell_type": "markdown",
   "metadata": {},
   "source": [
    "定理9.2 $\\{\\mathbf{x}^{\\left(k\\right)}\\}$为利用牛顿法求解目标函数$f\\left(\\mathbf{x}\\right)$极小点时得到的迭代点序列，如果$\\mathbf{F}\\left(\\mathbf{x}^{\\left(k\\right)}\\right)>0$，且$\\mathbf{g}^{\\left(k\\right)}=\\nabla f\\left(\\mathbf{x}^{\\left(k\\right)}\\right)\\neq\\mathbf{0}$，则从点$\\mathbf{x}^{\\left(k\\right)}$到点$\\mathbf{x}^{\\left(+1\\right)}$的搜索方向\n",
    "$$\\mathbf{d}^{\\left(k\\right)}=-\\mathbf{F}\\left(\\mathbf{x}^{\\left(k\\right)}\\right)^{-1}\\mathbf{g}^{\\left(k\\right)}=\\mathbf{x}^{\\left(k+1\\right)}-\\mathbf{x}^{\\left(k\\right)}$$\n",
    "是一个下降方向，即存在一个$\\bar{\\alpha}>0$，使得对于所有$\\alpha\\in\\left(0,\\bar{\\alpha}\\right)$，都有\n",
    "$$f\\left(\\mathbf{x}^{\\left(k\\right)}+\\alpha\\mathbf{d}^{\\left(k\\right)}\\right)<f\\left(\\mathbf{x}^{\\left(k\\right)}\\right)$$\n",
    "成立。"
   ]
  },
  {
   "cell_type": "markdown",
   "metadata": {},
   "source": [
    "可对牛顿法进行修正如下：\n",
    "$$\\mathbf{x}^{\\left(k+1\\right)}=\\mathbf{x}^{\\left(k\\right)}-\\alpha_k\\mathbf{F}\\left(\\mathbf{x}^{\\left(k\\right)}\\right)^{-1}\\mathbf{g}^{\\left(k\\right)}$$\n",
    "其中，\n",
    "$$\\alpha_k=\\arg\\min_{\\alpha\\geqslant0}f\\left(\\mathbf{x}^{\\left(k\\right)}-\\alpha\\mathbf{F}\\left(\\mathbf{x}^{\\left(k\\right)}\\right)^{-1}\\mathbf{g}^{\\left(k\\right)}\\right)$$"
   ]
  },
  {
   "cell_type": "markdown",
   "metadata": {},
   "source": [
    "## 9.3 Levenberg-Marquardt修正"
   ]
  },
  {
   "cell_type": "markdown",
   "metadata": {},
   "source": [
    "令黑塞矩阵$\\mathbf{F}$的特征值为$\\lambda_1,\\lambda_2,\\dots,\\lambda_n$，对应的特征向量是$\\mathbf{\\upsilon}_1,\\upsilon_2,\\dots,\\upsilon_n$。修正矩阵$\\mathbf{G}=\\mathbf{F}+\\mu\\mathbf{I}$，其中$\\mu\\geqslant0$。可知修正矩阵$\\mathbf{G}$的特征值为$\\lambda_1+\\mu,\\lambda_2+\\mu,\\dots,\\lambda_n+\\mu$，且满足\n",
    "$$\\mathbf{G}\\upsilon_i=\\left(\\mathbf{F}+\\mu\\mathbf{I}\\right)\\upsilon_i \\\\\n",
    "=\\mathbf{F}\\upsilon_i+\\mu\\mathbf{I}\\upsilon_i  \\\\\n",
    "=\\lambda_i\\mathbf{\\upsilon}_i+\\mu\\mathbf{\\upsilon}_i  \\\\\n",
    "=\\left(\\lambda_i+\\mu\\right)\\mathbf{\\upsilon}_i$$\n",
    "即$\\mathbf{\\upsilon}_i,i=1,2,\\dots,n$是修正矩阵$\\mathbf{G}$的特征向量，对应的特征值是$\\lambda_i+u,i=1,2,\\dots,n$。因此只要$\\mu$足够大，总可以保证修正矩阵$\\mathbf{G}$的特征值都为正数，即修正矩阵$\\mathbf{G}$是正定矩阵。"
   ]
  },
  {
   "cell_type": "markdown",
   "metadata": {},
   "source": [
    "修正后迭代公式为\n",
    "$$\\mathbf{x}^{\\left(k+1\\right)}=\\mathbf{x}^{\\left(k\\right)}-\\left(\\mathbf{F}\\left(\\mathbf{x}^{\\left(k\\right)}\\right)+\\mu_k\\mathbf{I}\\right)^{-1}\\mathbf{g}^{\\left(k\\right)}$$\n",
    "其中，$\\mu_k\\geqslant0$。"
   ]
  },
  {
   "cell_type": "markdown",
   "metadata": {},
   "source": [
    "引入搜索步长$\\alpha_k$，可得新迭代公式为\n",
    "$$\\mathbf{x}^{\\left(k+1\\right)}=\\mathbf{x}^{\\left(k\\right)}-\\alpha_k\\left(\\mathbf{F}\\left(\\mathbf{x}^{\\left(k\\right)}\\right)+\\mu_k\\mathbf{I}\\right)^{-1}\\mathbf{g}^{\\left(k\\right)}$$"
   ]
  },
  {
   "cell_type": "markdown",
   "metadata": {},
   "source": [
    "令$\\mu_k\\to 0$牛顿法的Levenberg-Marquardt修正可以逐步接近牛顿法；令$\\mu_k\\to\\infty$，Levenberg-Marquardt修正又表现出步长较小时梯度方法的特征。实际应用中，开始可为$\\mu_k$选择较小的值，然后逐渐缓慢增加，直到出现下降特性，即$f\\left(\\mathbf{x}^{\\left(k+1\\right)}\\right)<f\\left(\\mathbf{x}^{\\left(k\\right)}\\right)$为止。"
   ]
  }
 ],
 "metadata": {
  "kernelspec": {
   "display_name": "Python 3",
   "language": "python",
   "name": "python3"
  },
  "language_info": {
   "codemirror_mode": {
    "name": "ipython",
    "version": 3
   },
   "file_extension": ".py",
   "mimetype": "text/x-python",
   "name": "python",
   "nbconvert_exporter": "python",
   "pygments_lexer": "ipython3",
   "version": "3.7.4"
  }
 },
 "nbformat": 4,
 "nbformat_minor": 2
}

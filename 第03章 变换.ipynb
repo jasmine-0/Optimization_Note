{
 "cells": [
  {
   "cell_type": "markdown",
   "metadata": {},
   "source": [
    "# 第3章　变换"
   ]
  },
  {
   "cell_type": "markdown",
   "metadata": {},
   "source": [
    "## 3.1 线性变换"
   ]
  },
  {
   "cell_type": "markdown",
   "metadata": {},
   "source": [
    "给定函数$\\mathcal{L}:\\mathbb{R}^n\\to\\mathbb{R}^m$，如果  \n",
    "1. 对于任意$x\\in\\mathbb{R}^n$和$\\alpha\\in\\mathbb{R}$，都有$\\mathcal{L}\\left(\\alpha\\mathbf{x}\\right)=\\alpha\\mathcal{L}\\left(\\mathbf{x}\\right)$；  \n",
    "2. 对于任意$\\mathbf{x},\\mathbf{y}\\in\\mathbb{R}^n$，都有$\\mathcal{L}\\left(\\mathbf{x}+\\mathbf{y}\\right)=\\mathcal{L}\\left(\\mathbf{x}\\right)+\\mathcal{L}\\left(\\mathbf{y}\\right)$;  \n",
    "  \n",
    "则称函数$\\mathcal{L}$为一个线性变换．"
   ]
  },
  {
   "cell_type": "markdown",
   "metadata": {},
   "source": [
    "对于向量$\\mathbf{x}\\in\\mathbb{R}^n$，将其表示为$\\mathbb{R}^n$中基向量的线性组合，用$\\mathbf{x}'$表示，如果$\\mathbf{y}=\\mathcal{L}\\left(\\mathbf{x}\\right)$，且$\\mathbf{y}'$是$\\mathbf{y}$关于$\\mathbb{R}^m$中给定基的线性组合，则存在一个矩阵$\\mathbf{A}\\in\\mathbb{R}^{m\\times n}$，满足  \n",
    "$$\\mathbf{y}'=\\mathbf{A}\\mathbf{x}'$$\n",
    "即分别为$\\mathbb{R}^n$和$\\mathbb{R}^m$指定一组基，线性变换$\\mathcal{L}$可以利用矩阵进行表示，矩阵$\\mathbf{A}$称为线性变换$\\mathcal{L}$关于$\\mathbb{R}^n$和$\\mathbb{R}^m$中给定基的矩阵表示．"
   ]
  },
  {
   "cell_type": "markdown",
   "metadata": {},
   "source": [
    "如果为$\\mathbb{R}^n$和$\\mathbb{R}^m$指定的是标准基，则矩阵表示$\\mathbf{A}$满足\n",
    "$$\\mathbf{y}=\\mathcal{L}\\left(\\mathbf{x}\\right)=\\mathbf{A}\\mathbf{x}$$"
   ]
  },
  {
   "cell_type": "markdown",
   "metadata": {},
   "source": [
    "令$\\{\\mathbf{e}_1,\\mathbf{e}_2,\\dots,\\mathbf{e}_n\\}$和$\\{\\mathbf{e}_1',\\mathbf{e}_2',\\dots,\\mathbf{e}_n'\\}$是$\\mathbb{R}^n$的两组基．定义矩阵$\\mathbf{T}$为\n",
    "$$\\mathbf{T}=\\left[\\mathbf{e}_1,\\mathbf{e}_2,\\dots,\\mathbf{e}_n\\right]^{-1}\\left[\\mathbf{e}_1',\\mathbf{e}_2',\\dots,\\mathbf{e}_n'\\right]$$则$\\mathbf{T}$称为从$\\{\\mathbf{e}_1,\\mathbf{e}_2,\\dots,\\mathbf{e}_n\\}$到$\\{\\mathbf{e}_1',\\mathbf{e}_2',\\dots,\\mathbf{e}_n'\\}$的转移矩阵．"
   ]
  },
  {
   "cell_type": "markdown",
   "metadata": {},
   "source": [
    "显然有\n",
    "$$\\left[\\mathbf{e}_1,\\mathbf{e}_2,\\dots,\\mathbf{e}_n\\right]=\\left[\\mathbf{e}_1',\\mathbf{e}_2',\\dots,\\mathbf{e}_n'\\right]\\mathbf{T}$$即$\\mathbf{T}$的第$i$列是$\\mathbf{e}_i$关于$\\left[\\mathbf{e}_1',\\mathbf{e}_2',\\dots,\\mathbf{e}_n'\\right]$的坐标向量．"
   ]
  },
  {
   "cell_type": "markdown",
   "metadata": {},
   "source": [
    "对于线性变换$$\\mathcal{L}:\\mathbb{R}^n\\to\\mathbb{R}^m$$\n",
    "令$\\mathbf{A}$为$\\mathcal{L}$关于$\\{\\mathbf{e}_1,\\mathbf{e}_2,\\dots,\\mathbf{e}_n\\}$的矩阵表示，$\\mathbf{B}$为$\\mathcal{L}$关于$\\{\\mathbf{e}_1',\\mathbf{e}_2',\\dots,\\mathbf{e}_n'\\}$的矩阵表示．令$\\mathbf{y}=\\mathbf{A}\\mathbf{x}$且$\\mathbf{y}'=\\mathbf{B}\\mathbf{x}'$，因此$\\mathbf{y}'=\\mathbf{T}\\mathbf{y}=\\mathbf{T}\\mathbf{A}\\mathbf{x}=\\mathbf{B}\\mathbf{x}'=\\mathbf{B}\\mathbf{T}\\mathbf{x}$，从而得到$\\mathbf{T}\\mathbf{A}=\\mathbf{B}\\mathbf{T}$或$\\mathbf{A}=\\mathbf{T}^{-1}\\mathbf{B}\\mathbf{T}$．"
   ]
  },
  {
   "cell_type": "markdown",
   "metadata": {},
   "source": [
    "给定两个$n\\times n$矩阵$\\mathbf{A}$和矩阵$\\mathbf{B}$，如果存在一个非奇异矩阵$\\mathbf{T}$，使得$\\mathbf{A}=\\mathbf{T}^{-1}\\mathbf{B}\\mathbf{T}$，则称矩阵$\\mathbf{A}$和矩阵$\\mathbf{B}$是相似的．在不同的基下，相似矩阵对应线性变换是相同的．"
   ]
  },
  {
   "cell_type": "markdown",
   "metadata": {},
   "source": [
    "## 3.2 特征值与特征向量"
   ]
  },
  {
   "cell_type": "markdown",
   "metadata": {},
   "source": [
    "令$\\mathbf{A}$是$n\\times n$实数方阵．存在标量$\\lambda$和非零向量$\\boldsymbol{\\upsilon}$满足等式$\\mathbf{A}\\boldsymbol{\\upsilon}=\\lambda\\boldsymbol{\\upsilon}$，称$\\lambda$是矩阵$\\mathbf{A}$的特征值，$\\boldsymbol{\\upsilon}$是矩阵$\\mathbf{A}$的特征向量．"
   ]
  },
  {
   "cell_type": "markdown",
   "metadata": {},
   "source": [
    "$\\lambda$是矩阵$\\mathbf{A}$的特征值的充要条件是矩阵$\\lambda\\mathbf{I}-\\mathbf{A}$是奇异的，即$\\mathrm{det}\\left[\\lambda\\mathbf{I}-\\mathbf{A}\\right]=0$，其中$\\mathbf{I}$是$n\\times n$单位矩阵，即有$n$次方程成立：\n",
    "$$\\mathrm{det}\\left[\\lambda\\mathbf{I}-\\mathbf{A}\\right]=\\lambda^n+a_{n-1}\\lambda^{n-1}+\\dots+a_1\\lambda+a_0=0$$\n",
    "多项式$\\mathrm{det}\\left[\\lambda\\mathbf{I}-\\mathbf{A}\\right]$称为矩阵$\\mathbf{A}$的特征多项式，上面的方程称为特征方程．"
   ]
  },
  {
   "cell_type": "markdown",
   "metadata": {},
   "source": [
    "定理3.1 设特征方程$\\mathrm{det}\\left[\\lambda\\mathbf{I}-\\mathbf{A}\\right]=0$存在$n$个相异的根$\\lambda_1,\\lambda_2,\\dots,\\lambda_n$，则存在$n$个线性不相关的向量$\\boldsymbol{\\upsilon}_1,\\boldsymbol{\\upsilon}_2,\\dots,\\boldsymbol{\\upsilon}_n$，使得\n",
    "$$\\mathbf{A}\\upsilon_i=\\lambda_i\\boldsymbol{\\upsilon}_i,\\quad i=1,2,\\dots,n$$"
   ]
  },
  {
   "cell_type": "markdown",
   "metadata": {},
   "source": [
    "令\n",
    "$$\\mathbf{T}=\\left[\\boldsymbol{\\upsilon}_1,\\boldsymbol{\\upsilon}_2,\\dots,\\boldsymbol{\\upsilon}_n\\right]^{-1}$$\n",
    "则\n",
    "$$\\mathbf{T}\\mathbf{A}\\mathbf{T}^{-1}=\\mathbf{T}\\mathbf{A}\\left[\\boldsymbol{\\upsilon}_1,\\boldsymbol{\\upsilon}_2,\\dots,\\boldsymbol{\\upsilon}_n\\right] \\\\\n",
    "=\\mathbf{T}\\left[\\mathbf{A}\\boldsymbol{\\upsilon}_1,\\mathbf{A}\\boldsymbol{\\upsilon}_2,\\dots,\\mathbf{A}\\boldsymbol{\\upsilon}_n\\right] \\\\\n",
    "=\\mathbf{T}\\left[\\lambda\\boldsymbol{\\upsilon}_1,\\lambda\\boldsymbol{\\upsilon}_2,\\dots,\\lambda\\boldsymbol{\\upsilon}_n\\right] \\\\\n",
    "=\\mathbf{T}\\mathbf{T}^{-1}\\begin{bmatrix} \\lambda_1 &  &  & 0 \\\\  & \\lambda_2 &  & \\\\ & & \\ddots & \\\\ 0 & & & \\lambda_n \\end{bmatrix} \n",
    "=\\begin{bmatrix} \\lambda_1 &  &  & 0 \\\\  & \\lambda_2 &  & \\\\ & & \\ddots & \\\\ 0 & & & \\lambda_n \\end{bmatrix}$$\n",
    "在由特征向量$\\{\\boldsymbol{\\upsilon}_1,\\lambda\\boldsymbol{\\upsilon}_2,\\dots,\\lambda\\boldsymbol{\\upsilon}_n\\}$构成的一组线性无关基下，可对矩阵$\\mathbf{A}$进行对角化，即对于所有的$i\\neq j$，对角矩阵的第$\\left(i,j\\right)$个元素$a_{ij}=0$．"
   ]
  },
  {
   "cell_type": "markdown",
   "metadata": {},
   "source": [
    "对于矩阵$\\mathbf{A}$，若$\\mathbf{A}＝\\mathbf{A}^{-1}$，则矩阵$\\mathbf{A}$为对称矩阵．"
   ]
  },
  {
   "cell_type": "markdown",
   "metadata": {},
   "source": [
    "定理3.2 一个实对称矩阵的所有特征值都是实数．"
   ]
  },
  {
   "cell_type": "markdown",
   "metadata": {},
   "source": [
    "定理3.3 对于任意$n\\times n$实对称矩阵，其$n$个特征向量是相互正交的．"
   ]
  },
  {
   "cell_type": "markdown",
   "metadata": {},
   "source": [
    "如果$\\mathbf{A}$是对称矩阵，则它的特征向量集合构成了$\\mathbb{R}^n$空间的正交基．如果对正交基$\\{\\boldsymbol{\\upsilon}_1,\\boldsymbol{\\upsilon}_2,\\dots,\\boldsymbol{\\upsilon}_n\\}$进行标准化，使得每个向量$\\boldsymbol{\\upsilon}_i$的范数都为１，则可定义矩阵\n",
    "$$\\mathbf{T}=\\left[\\boldsymbol{\\upsilon}_1,\\boldsymbol{\\upsilon}_2,\\dots,\\boldsymbol{\\upsilon}_n\\right]$$\n",
    "该矩阵满足\n",
    "$$\\mathbf{T}^\\top\\mathbf{T}=\\mathbf{I}$$\n",
    "从而有\n",
    "$$\\mathbf{T}^\\top=\\mathbf{T}^{-1}$$"
   ]
  },
  {
   "cell_type": "markdown",
   "metadata": {},
   "source": [
    "如果一个矩阵的转置等于它的逆矩阵，则该矩阵称为正交矩阵．"
   ]
  },
  {
   "cell_type": "markdown",
   "metadata": {
    "collapsed": true
   },
   "source": [
    "## 3.3 正交投影"
   ]
  },
  {
   "cell_type": "markdown",
   "metadata": {},
   "source": [
    "如果$\\mathcal{V}$是$\\mathbb{R}^n$的子空间，则$\\mathcal{V}$的正交补记为$\\mathcal{V}^\\bot$，包含与$\\mathcal{V}$中每个向量正交的所有向量，即\n",
    "$$\\mathcal{V}^\\bot=\\{\\mathbf{x}:\\boldsymbol{\\upsilon}^\\top\\mathbf{x}=0, \\forall\\boldsymbol{\\upsilon}\\in\\mathbb{R}\\}$$"
   ]
  },
  {
   "cell_type": "markdown",
   "metadata": {},
   "source": [
    "$\\mathcal{V}$的正交补也是一个子空间．"
   ]
  },
  {
   "cell_type": "markdown",
   "metadata": {},
   "source": [
    "$\\mathcal{V}$和$\\mathcal{V}^\\bot$能够共同张成一个$\\mathbb{R}^n$，即对每一个向量$\\mathbf{x}\\in\\mathbb{R}^n$，都可以唯一地表示为\n",
    "$$\\mathbf{x}=\\mathbf{x_1}+\\mathbf{x_2}$$\n",
    "其中，$\\mathbf{x}_1\\in\\mathcal{V},\\mathbf{x}_2\\in\\mathcal{V}^\\bot$，$\\mathbf{x}_1$和$\\mathbf{x}_2$称为$\\mathbf{x}$在子空间$\\mathcal{V}$和$\\mathcal{V}^\\bot$上的正交投影．该表达式称为$\\mathbf{x}$相对于$\\mathcal{V}$的正交分解．"
   ]
  },
  {
   "cell_type": "markdown",
   "metadata": {},
   "source": [
    "$\\mathbb{R}^n=\\mathcal{V}\\oplus\\mathcal{V}^\\bot$表示$\\mathbb{R}^n$是$\\mathcal{V}$与$\\mathcal{V}^\\bot$的直和．"
   ]
  },
  {
   "cell_type": "markdown",
   "metadata": {},
   "source": [
    "如果对于$\\forall\\mathbf{x}\\in\\mathbb{R}^n$，都有$\\mathbf{P}\\mathbf{x}\\in\\mathcal{V}$且$\\mathbf{x}-\\mathbf{P}\\mathbf{x}\\in\\mathcal{V}^\\bot$，则称线性变换$\\mathbf{P}$是$\\mathcal{V}$上的正交投影算子．"
   ]
  },
  {
   "cell_type": "markdown",
   "metadata": {},
   "source": [
    "令$\\mathbf{A}\\in\\mathbb{R}^{m\\times n}$，$\\mathbf{A}$的值域空间（像空间）记为\n",
    "$$\\mathcal{R}\\left(\\mathbf{A}\\right)\\triangleq\\{\\mathbf{A}\\mathbf{x}:\\mathbf{x}\\in\\mathbb{R}^n\\}$$\n",
    "$\\mathbf{A}$的零空间（核）记为\n",
    "$$\\mathcal{N}\\left(\\mathbf{A}\\right)\\triangleq\\{\\mathbf{x}\\in\\mathbb{R}^n:\\mathbf{A}\\mathbf{x}=\\mathbf{0}\\}$$\n",
    "$\\mathcal{R}\\left(\\mathbf{A}\\right)$和$\\mathcal{N}\\left(\\mathbf{A}\\right)$都是子空间．"
   ]
  },
  {
   "cell_type": "markdown",
   "metadata": {},
   "source": [
    "定理3.4 对于任意矩阵$\\mathbf{A}$，总有$\\mathcal{R}\\left(\\mathbf{A}\\right)^\\bot=\\mathcal{N}\\left(\\mathbf{A}^\\top\\right)$和$\\mathcal{N}\\left(\\mathbf{A}\\right)^\\bot=\\mathcal{R}\\left(\\mathbf{A}^\\top\\right)$"
   ]
  },
  {
   "cell_type": "markdown",
   "metadata": {},
   "source": [
    "对于任意子空间$\\mathcal{V}$，都有$\\left(\\mathcal{V}^\\bot\\right)^\\bot=\\mathcal{V}$．"
   ]
  },
  {
   "cell_type": "markdown",
   "metadata": {},
   "source": [
    "如果$\\mathbf{P}$是$\\mathcal{V}$上的一个正交投影算子，则对于所有$\\mathbf{x}\\in\\mathcal{V}$都有$\\mathbf{P}\\mathbf{x}=\\mathbf{x}$且$\\mathcal{R}\\left(\\mathbf{P}\\right)=\\mathcal{V}$．"
   ]
  },
  {
   "cell_type": "markdown",
   "metadata": {},
   "source": [
    "定理3.5 矩阵$\\mathbf{P}$是子空间$\\mathcal{V}=\\mathcal{R}\\left(\\mathbf{P}\\right)$上的一个正交投影算子，当且仅当$\\mathbf{P}^2=\\mathbf{P}=\\mathbf{P}^\\top$．"
   ]
  },
  {
   "cell_type": "markdown",
   "metadata": {
    "collapsed": true
   },
   "source": [
    "## 3.4 二次型函数"
   ]
  },
  {
   "cell_type": "markdown",
   "metadata": {},
   "source": [
    "二次型函数$f:\\mathbb{R}^n\\to\\mathbb{R}$定义为\n",
    "$$f\\left(\\mathbf{x}\\right)=\\mathbf{x}^\\top\\mathbf{Q}\\mathbf{x}$$\n",
    "其中，$\\mathbf{Q}$是一个$n\\times n$实数矩阵．不失一般性，可假定$\\mathbf{Q}$是对称矩阵，即$\\mathbf{Q}=\\mathbf{Q}^\\top$．"
   ]
  },
  {
   "cell_type": "markdown",
   "metadata": {
    "collapsed": true
   },
   "source": [
    "如果对于任意非零向量$\\mathbf{x}$，都有二次型$\\mathbf{x}^\\top\\mathbf{Q}\\mathbf{x}>0$，则二次型$\\mathbf{x}^\\top\\mathbf{Q}\\mathbf{x}$是正定的，对称阵$\\mathbf{Q}$是正定的，记为$\\mathbf{Q}>0$．  \n",
    "如果对于任意非零向量$\\mathbf{x}$，都有二次型$\\mathbf{x}^\\top\\mathbf{Q}\\mathbf{x}\\geqslant0$，则二次型$\\mathbf{x}^\\top\\mathbf{Q}\\mathbf{x}$是半正定的，对称阵$\\mathbf{Q}$是半正定的，记为$\\mathbf{Q}\\geqslant0$．  \n",
    "如果对于任意非零向量$\\mathbf{x}$，都有二次型$\\mathbf{x}^\\top\\mathbf{Q}\\mathbf{x}<0$，则二次型$\\mathbf{x}^\\top\\mathbf{Q}\\mathbf{x}$是负定的，对称阵$\\mathbf{Q}$是负定的，记为$\\mathbf{Q}<0$．  \n",
    "如果对于任意非零向量$\\mathbf{x}$，都有二次型$\\mathbf{x}^\\top\\mathbf{Q}\\mathbf{x}\\leqslant0$，则二次型$\\mathbf{x}^\\top\\mathbf{Q}\\mathbf{x}$是半负定的，对称阵$\\mathbf{Q}$是半负定的，记为$\\mathbf{Q}\\leqslant0$．"
   ]
  },
  {
   "cell_type": "markdown",
   "metadata": {},
   "source": [
    "矩阵$\\mathbf{Q}$的顺序主子式为$\\mathrm{det}\\mathbf{Q}$自身以及从矩阵$mathbf{Q}$中依次移除最后一行和最后一列获得的所有子式，即\n",
    "$$\\Delta_1=q_{11},\\Delta_2=\\begin{bmatrix} q_{11} & q_{12} \\\\ q_{21} & q_{22} \\end{bmatrix}, \\Delta_3=\\begin{bmatrix} q_{11} & q_{12} & q_{13} \\\\ q_{21} & q_{22} & q_{23}  \\\\ q_{31} & q_{32} & q_{33} \\end{bmatrix},\\dots,\\Delta_n=\\mathrm{det}\\mathbf{Q}  $$"
   ]
  },
  {
   "cell_type": "markdown",
   "metadata": {},
   "source": [
    "定理3.6 西尔韦斯特准则：给定二次型$\\mathbf{x}^\\top\\mathbf{Q}\\mathbf{x}$，其中$\\mathbf{Q}=\\mathbf{Q}^\\top$，该二次型是正定的，当且仅当矩阵$\\mathbf{Q}$的顺序主子式是正定的．"
   ]
  },
  {
   "cell_type": "markdown",
   "metadata": {},
   "source": [
    "定理3.7 对于矩阵$\\mathbf{Q}$是正定（半正定）的，当且仅当$\\mathbf{Q}$的所有特征值是正（非负）的．"
   ]
  },
  {
   "cell_type": "markdown",
   "metadata": {},
   "source": [
    "## 3.5 矩阵范数"
   ]
  },
  {
   "cell_type": "markdown",
   "metadata": {},
   "source": [
    "矩阵$\\mathbf{A}$的范数记为$\\|\\mathbf{A}\\|$，是一个满足以下条件的任意函数$\\|\\cdot\\|$：  \n",
    "1. 如果$\\mathbf{A}\\neq\\mathbf{O}$，则$\\|\\mathbf{A}\\|>0,\\|\\mathbf{O}\\|=0$，$\\mathbf{O}$是零矩阵．\n",
    "2. 对于任意$c\\in\\mathbb{R}$，有$\\|c\\mathbf{A}\\|=|c|\\|\\mathbf{A}\\|$．\n",
    "3. $\\|\\mathbf{A}+\\mathbf{B}\\|\\leqslant\\|\\mathbf{A}\\|+\\|\\mathbf{B}\\|$  \n",
    "Frobenius范数是矩阵范数的定义之一\n",
    "$$\\|\\mathbf{A}\\|_F=\\left(\\sum_{i=1}^m\\sum_{j=1}^n\\left(a_{ij}\\right)^2\\right)^\\frac{1}{2}$$  \n",
    "其中，$\\mathbf{A}\\in\\mathbb{R}^{m\\times n}$．仅考虑满足如下附加条件的矩阵范数：\n",
    "4. $\\|\\mathbf{A}\\mathbf{B}\\|\\leqslant\\|\\mathbf{A}\\|\\|\\mathbf{B}\\|$"
   ]
  },
  {
   "cell_type": "markdown",
   "metadata": {},
   "source": [
    "令$\\|\\cdot\\|_{\\left(n\\right)}$和$\\|\\cdot\\|_{\\left(m\\right)}$分别为$\\mathbb{R}^n$和$\\mathbb{R}^m$上的向量范数．如果对于任意矩阵$\\mathbf{A}\\in\\mathbb{R}^{m\\times n}$，有以下不等式成立：\n",
    "$$\\|\\mathbf{A}\\mathbf{x}\\|_{\\left(m\\right)}\\leqslant\\|\\mathbf{A}\\|\\|\\mathbf{x}\\|_{\\left(n\\right)}$$\n",
    "则称该矩阵范数可由向量范数导出，或与向量范数兼容．"
   ]
  },
  {
   "cell_type": "markdown",
   "metadata": {},
   "source": [
    "导出矩阵范数定义为\n",
    "$$\\|\\mathbf{A}\\|=\\max_{\\|\\mathbf{x}\\|_{\\left(n\\right)}=1}\\|\\mathbf{A}\\mathbf{x}\\|_{\\left(m\\right)}$$  \n",
    "即$\\|\\mathbf{A}\\|$是向量$\\mathbf{A}\\mathbf{x}$范数中最大值，其中向量$\\mathbf{x}$是范数为１的任意向量．"
   ]
  },
  {
   "cell_type": "markdown",
   "metadata": {},
   "source": [
    "定理3.8 令\n",
    "$$\\|\\mathbf{x}\\|=\\left(\\sum_{k=1}^n|x_k|^2\\right)^{\\frac{1}{2}}=\\sqrt{\\langle\\mathbf{x},\\mathbf{x}\\rangle}$$\n",
    "则由该向量范数导出的矩阵范数为\n",
    "$$\\|\\mathbf{A}\\|=\\sqrt{\\lambda_1}$$  \n",
    "其中，$\\lambda$是矩阵$\\mathbf{A}^\\top\\mathbf{A}$的最大特征值．"
   ]
  },
  {
   "cell_type": "markdown",
   "metadata": {},
   "source": [
    "瑞丽不等式　如果$n\\times n$矩阵$\\mathbf{P}$是一个实对称正定矩阵，则  \n",
    "$$\\lambda_\\min\\left(P\\right)\\|\\mathbf{x}\\|^2\\leqslant\\mathbf{x}^\\top\\mathbf{P}\\mathbf{x}\\leqslant\\lambda_\\max\\left(\\mathbf{P}\\right)\\|\\mathbf{x}\\|^2$$  \n",
    "其中，$\\lambda_\\min\\left(P\\right)$表示$\\mathbf{P}$的最小特征值，$\\lambda_\\max\\left(P\\right)$表示$\\mathbf{P}$的最大特征值．"
   ]
  }
 ],
 "metadata": {
  "kernelspec": {
   "display_name": "Python 3",
   "language": "python",
   "name": "python3"
  },
  "language_info": {
   "codemirror_mode": {
    "name": "ipython",
    "version": 3
   },
   "file_extension": ".py",
   "mimetype": "text/x-python",
   "name": "python",
   "nbconvert_exporter": "python",
   "pygments_lexer": "ipython3",
   "version": "3.7.4"
  }
 },
 "nbformat": 4,
 "nbformat_minor": 2
}

{
 "cells": [
  {
   "cell_type": "markdown",
   "metadata": {},
   "source": [
    "# 第5章 微积分基础"
   ]
  },
  {
   "cell_type": "markdown",
   "metadata": {},
   "source": [
    "## 5.1 序列与极限"
   ]
  },
  {
   "cell_type": "markdown",
   "metadata": {},
   "source": [
    "实数序列是一个函数，定义域是自然数$1,2,\\dots,k,\\dots$组成的集合，值域是$\\mathbb{R}$。实数序列可以写成集合$\\{x_1,x_2,\\dots,x_k,\\dots\\}$，常记为$\\{x_k\\}$。"
   ]
  },
  {
   "cell_type": "markdown",
   "metadata": {},
   "source": [
    "如果$x_1<x_2<\\dots<x_k<\\dots$，则序列$\\{x_k\\}$是递增的，即对于所有的$k$，都有$x_k<x_{k+1}$。如果$x_k\\leqslant x_{k+1}$，则该序列是非减的。  \n",
    "如果$x_1>x_2>\\dots>x_k>\\dots$，则序列$\\{x_k\\}$是递减的，即对于所有的$k$，都有$x_k>x_{k+1}$。如果$x_k\\geqslant x_{k+1}$，则该序列是非增的。"
   ]
  },
  {
   "cell_type": "markdown",
   "metadata": {},
   "source": [
    "如果对于任意正数$\\varepsilon$，存在一个数$K$，使得对于所有的$k>K$，都有$|x_k-x^*|<\\varepsilon$；即对所有$k>K$，$x_k$位于$x^*-\\varepsilon$和$x^*+\\varepsilon$之间，则称$x^*\\in\\mathbb{R}$为序列$|x_k|$的极限，记为\n",
    "$$x^*=\\lim_{k\\to\\infty} x_k$$\n",
    "或\n",
    "$$x_k\\to x^*$$"
   ]
  },
  {
   "cell_type": "markdown",
   "metadata": {},
   "source": [
    "如果一个序列存在极限，则该序列称为收敛序列。"
   ]
  },
  {
   "cell_type": "markdown",
   "metadata": {},
   "source": [
    "$\\mathbb{R}^n$中的序列是一个定义域是自然数$1,2,\\dots,k,\\dots$，值域是$\\mathbb{R}^n$的函数，记为$\\{\\mathbf{x}^{\\left(1\\right)},\\mathbf{x}^{\\left(2\\right)},\\dots,\\mathbf{x}^{\\left(k\\right)},\\dots\\}$或$\\{\\mathbf{x}^{\\left(k\\right)}\\}$。"
   ]
  },
  {
   "cell_type": "markdown",
   "metadata": {},
   "source": [
    "如果对于任意正数$\\varepsilon$，存在一个数$K$，使得对于所有的$k>K$，都有$\\|x^{\\left(k\\right)}-x^*\\|<\\varepsilon$则称$x^*$为序列$\\{x^{\\left(k\\right)}\\}$的极限，记为$x^*=\\lim_{k\\to\\infty} x^{\\left(k\\right)}$或$x^{\\left(k\\right)}\\to x^*$。"
   ]
  },
  {
   "cell_type": "markdown",
   "metadata": {},
   "source": [
    "定理5.1 收敛序列的极限是唯一的。"
   ]
  },
  {
   "cell_type": "markdown",
   "metadata": {},
   "source": [
    "定理5.2 任意收敛序列是有界的。"
   ]
  },
  {
   "cell_type": "markdown",
   "metadata": {},
   "source": [
    "对于$\\mathbb{R}$中的序列$\\{x_k\\}$，如果对于所有$k=1,2,\\dots,$都有$x_k\\leqslant B$，则B称为该序列的上界。称序列$\\{x_k\\}$有上界。  \n",
    "对于$\\mathbb{R}$中的序列$\\{x_k\\}$，如果对于所有$k=1,2,\\dots,$都有$x_k\\geqslant B$，则B称为该序列的下界。称序列$\\{x_k\\}$有下界。  \n",
    "如果一个序列既有上界，又有下界，则该序列是有界的。"
   ]
  },
  {
   "cell_type": "markdown",
   "metadata": {},
   "source": [
    "如果$\\mathbb{R}$中任意序列$\\{x_k\\}$有上界，则它有上确界（最小上界），即$\\{x_k\\}$上界B的最小值。  \n",
    "如果$\\mathbb{R}$中任意序列$\\{x_k\\}$有下界，则它有下确界（最大下界），即$\\{x_k\\}$上界B的最大值。 "
   ]
  },
  {
   "cell_type": "markdown",
   "metadata": {},
   "source": [
    "如果B是序列$\\{x_k\\}$的上确界，则对于所有$k$，都有$x_k\\leqslant B$，且对于任意$\\varepsilon>0$，都存在$K$，使得$x_K>B-\\varepsilon$。  \n",
    "如果B是序列$\\{x_k\\}$的下确界，则对于所有$k$，都有$x_k\\geqslant B$，且对于任意$\\varepsilon>0$，都存在$K$，使得$x_K<B+\\varepsilon$。"
   ]
  },
  {
   "cell_type": "markdown",
   "metadata": {},
   "source": [
    "定理5.3 $\\mathbb{R}$中任意单调有界序列是收敛序列。"
   ]
  },
  {
   "cell_type": "markdown",
   "metadata": {},
   "source": [
    "给定序列$\\{x^{\\left(k\\right)}\\}$和自然数递增序列$\\{m_k\\}$，序列\n",
    "$$\\{x^{\\left(m_k\\right)}\\}=\\{x^{\\left(m_1\\right)},x^{\\left(m_2\\right)},\\dots\\}$$\n",
    "称为$\\{x^{\\left(k\\right)}\\}$的一个子序列。"
   ]
  },
  {
   "cell_type": "markdown",
   "metadata": {},
   "source": [
    "定理5.4 给定一个极限为$x^*$的收敛序列$\\{x^{\\left(k\\right)}\\}$，则$\\{x^{\\left(k\\right)}\\}$的任意子序列也是收敛序列。"
   ]
  },
  {
   "cell_type": "markdown",
   "metadata": {},
   "source": [
    "可以证明，任意有界序列都包含一个收敛子序列。（波尔查诺-魏尔斯特拉斯定理）"
   ]
  },
  {
   "cell_type": "markdown",
   "metadata": {},
   "source": [
    "给定函数$\\mathbf{f}:\\mathbb{R}^n\\to\\mathbb{R}^m$和点$\\mathbf{x}_0\\in\\mathbb{R}^n$。设存在$f^*$使得对于任意极限为$\\mathbf{x}_0$的收敛序列$\\{\\mathbf{x}^{\\left(k\\right)}\\}$，都有\n",
    "$$\\lim_{k\\to\\infty}\\mathbf{f}\\left(\\mathbf{x}^{\\left(k\\right)}\\right)=\\mathbf{f}^*$$\n",
    "则极限$\\mathbf{f}^*$用\n",
    "$$\\lim_{\\mathbf{x}\\to\\mathbf{x_0}}\\mathbf{f}\\left(\\mathbf{x}\\right)$$\n",
    "表示。"
   ]
  },
  {
   "cell_type": "markdown",
   "metadata": {},
   "source": [
    "可以证明，$\\mathbf{f}$在$\\mathbf{x}_0$处连续，当且仅当对于任意极限为$\\mathbf{x}_0$的收敛序列$\\{\\mathbf{x}^{\\left(k\\right)}\\}$，满足\n",
    "$$\\lim_{k\\to\\infty}\\mathbf{f}\\left(\\mathbf{x}^{\\left(k\\right)}\\right)=\\mathbf{f}\\left(\\lim_{k\\to\\infty}\\mathbf{x}^{\\left(k\\right)}\\right)=\\mathbf{f}\\left(\\mathbf{x}_0\\right)$$\n",
    "或另记为\n",
    "$$\\lim_{\\mathbf{x}\\to\\mathbf{x}_0}\\mathbf{f}\\left(\\mathbf{x}\\right)=\\mathbf{f}\\left(\\mathbf{x}_0\\right)$$"
   ]
  },
  {
   "cell_type": "markdown",
   "metadata": {},
   "source": [
    "给定$m\\times n$矩阵序列$\\{\\mathbf{A}_k\\}$和$m\\times n$矩阵$\\mathbf{A}$，如果\n",
    "$$\\lim_{k\\to\\infty}\\|\\mathbf{A}-\\mathbf{A}_k\\|=0$$\n",
    "则称该矩阵序列收敛于矩阵$\\mathbf{A}$。"
   ]
  },
  {
   "cell_type": "markdown",
   "metadata": {
    "collapsed": true
   },
   "source": [
    "引理5.1 令$\\mathbf{A}\\in\\mathbb{R}^{n\\times n}$，当且仅当$\\mathbf{A}$的所有特征值满足$|\\lambda_i\\left(\\mathbf{A}\\right)|<1 \\left(i=1,2,\\dots,n\\right)$时，有$\\lim_{k\\to\\infty}\\mathbf{A}^k=\\mathbf{O}$。"
   ]
  },
  {
   "cell_type": "markdown",
   "metadata": {},
   "source": [
    "引理5.2 $n\\times n$矩阵序列\n",
    "$$\\mathbf{I}_n+\\mathbf{A}+\\mathbf{A}^2+\\dots+\\mathbf{A}^k+\\cdot\\cdot\\cdot$$\n",
    "是收敛的，当且仅当$\\lim_{k\\to\\infty}\\mathbf{A}^k=\\mathbf{O}$，此时，序列的和为$\\left(\\mathbf{I}_n-\\mathbf{A}\\right)^{-1}$。"
   ]
  },
  {
   "cell_type": "markdown",
   "metadata": {},
   "source": [
    "给定矩阵值函数$\\mathbf{A}:\\mathbb{R}^r\\to\\mathbb{R}^{n\\times n}$和点$\\boldsymbol{\\xi}_0\\in\\mathbb{R}^r$，如果\n",
    "$$\\lim_{\\|\\boldsymbol{\\xi}-\\boldsymbol{\\xi}_0\\|\\to0}\\|\\mathbf{A}\\left(\\boldsymbol{\\xi}\\right)-\\mathbf{A}\\left(\\boldsymbol{\\xi}_0\\right)\\|=0$$\n",
    "则$\\mathbf{A}$在点$\\boldsymbol{\\xi}_0$处连续。"
   ]
  },
  {
   "cell_type": "markdown",
   "metadata": {},
   "source": [
    "引理5.3 给定矩阵值函数$\\mathbf{A}:\\mathbb{R}^r\\to\\mathbb{R}^{n\\times n}$为$n\\times n$的矩阵值函数，它在点$\\boldsymbol{\\xi}_0$处连续。如果$\\mathbf{A}\\left(\\boldsymbol{\\xi}_0\\right)^{-1}$存在，则对于充分接近点$\\boldsymbol{\\xi}_0$的$\\boldsymbol{\\xi}$，$\\mathbf{A}\\left(\\cdot\\right)^{-1}$在点$\\boldsymbol{\\xi}_0$处连续。"
   ]
  },
  {
   "cell_type": "markdown",
   "metadata": {},
   "source": [
    "## 5.2 可微性"
   ]
  },
  {
   "cell_type": "markdown",
   "metadata": {},
   "source": [
    "如果存在线性函数$\\mathcal{L}:\\mathbb{R}^n\\to\\mathbb{R}^m$和向量$\\mathbf{y}\\in\\mathbb{R}^n$，都有\n",
    "$$\\mathcal{A}\\left(\\mathbf{x}\\right)=\\mathcal{L}\\left(x\\right)+\\mathbf{y}$$\n",
    "则函数$\\mathcal{A}:\\mathbb{R}^n\\to\\mathbb{R}^m$是一个仿射函数。"
   ]
  },
  {
   "cell_type": "markdown",
   "metadata": {},
   "source": [
    "给定函数$\\mathbf{f}:\\mathbb{R}^n\\to\\mathbb{R}^m$和点$\\mathbf{x}_0\\in\\mathbb{R}^n$，求仿射函数$\\mathcal{A}$，使其在点$\\mathbf{x}_0$附近能够近似函数$\\mathbf{f}$，则仿射函数应满足\n",
    "$$\\mathcal{A}\\left(\\mathbf{x}_0\\right)=\\mathbf{f}\\left(\\mathbf{x}_0\\right)$$\n",
    "由$\\mathcal{A}\\left(\\mathbf{x}\\right)=\\mathcal{L}\\left(x\\right)+\\mathbf{y}$，可得$\\mathbf{y}=\\mathbf{f}\\left(\\mathbf{x}_0\\right)-\\mathcal{L}\\left(\\mathbf{x}_0\\right)$。对$\\mathcal{L}$进行线性化，得\n",
    "$$\\mathcal{L}\\left(\\mathbf{x}\\right)+\\mathbf{y}=\\mathcal{L}\\left(\\mathbf{x}\\right)+\\mathbf{f}\\left(\\mathbf{x}_0\\right)-\\mathcal{L}\\left(\\mathbf{x}_0\\right)=\\mathcal{L}\\left(\\mathbf{x}-\\mathbf{x}_0\\right)+\\mathbf{f}\\left(\\mathbf{x}_0\\right)$$\n",
    "则仿射函数可写为\n",
    "$$\\mathcal{A}\\left(\\mathbf{x}\\right)=\\mathcal{L}\\left(\\mathbf{x}-\\mathbf{x}_0\\right)+\\mathbf{f}\\left(\\mathbf{x}_0\\right)$$"
   ]
  },
  {
   "cell_type": "markdown",
   "metadata": {},
   "source": [
    "要求相对于$\\mathbf{x}$接近于$\\mathbf{x}_0$的速度，$\\mathcal{A}\\left(\\mathbf{x}\\right)$能够接近与$\\mathbf{f}\\left(\\mathbf{x}\\right)$的速度应该更快，即\n",
    "$$\\lim_{\\mathbf{x}\\to\\mathbf{x}_0,\\mathbf{x}\\in\\Omega}\\frac{\\|\\mathbf{f}\\left(\\mathbf{x}\\right)-\\mathcal{A}\\left(\\mathbf{x}\\right)\\|}{\\|\\mathbf{x}-\\mathbf{x}_0\\|}=0$$\n",
    "以上条件可以保证$\\mathcal{A}$在点$\\mathbf{x}_0$附近实现对$\\mathbf{f}$的近似，即保证在某个给定点上的近似误差相对与该店与$\\mathbf{x}_0$之间的距离的一个“无穷小量”。"
   ]
  },
  {
   "cell_type": "markdown",
   "metadata": {},
   "source": [
    "给定函数$\\mathbf{f}:\\Omega\\to\\mathbb{R}^m,\\Omega\\subset\\mathbb{R}^n$，如果存在一个仿射函数能够在点$\\mathbf{x}_0$附近近似函数$\\mathbf{f}$，则称函数$\\mathbf{f}$在点$\\mathbf{x}_0\\in\\Omega$处是可微的，即存在线性函数$\\mathcal{L}:\\mathbb{R}^n\\to\\mathbb{R}^m$，使得\n",
    "$$\\lim_{\\mathbf{x}\\to\\mathbf{x}_0,\\mathbf{x}\\in\\Omega}\\frac{\\|\\mathbf{f}\\left(\\mathbf{x}\\right)-\\left(\\mathcal{L}\\left(\\mathbf{x}-\\mathbf{x}_0\\right)+\\mathbf{f}\\left(\\mathbf{x}_0\\right)\\right)\\|}{\\|\\mathbf{x}-\\mathbf{x}_0\\|}=0$$\n",
    "其中，线性函数$\\mathcal{L}$可由$\\mathbf{f}$和$\\mathbf{x}_0$唯一确定，$\\mathcal{L}$称为$\\mathbf{f}$在点$\\mathbf{x}_0$的导数。如果函数$\\mathbf{f}$在定义域$\\Omega$上处处可微，则称$\\mathbf{f}$在$\\Omega$上是可微的。"
   ]
  },
  {
   "cell_type": "markdown",
   "metadata": {},
   "source": [
    "在$\\mathbb{R}$中，仿射函数可写为$ax+b$的形式，其中，$a,b\\in\\mathbb{R}$。因此一个自变量$x$为实数的实值函数$f\\left(x\\right)$，如果它在点$x_0$处可微，则在点$x_0$附近其函数值可以用函数\n",
    "$$\\mathcal{A}\\left(x\\right)=ax+b$$\n",
    "来近似。"
   ]
  },
  {
   "cell_type": "markdown",
   "metadata": {},
   "source": [
    "由$f\\left(x_0\\right)=\\mathcal{A}\\left(x_0\\right)=ax_0+b$可得\n",
    "$$\\mathcal{A}\\left(x\\right)=ax+b=a\\left(x-x_0\\right)+f\\left(x_0\\right)$$\n",
    "$\\mathcal{A}\\left(x\\right)$的线性部分，前面记为$\\mathcal{L}\\left(x\\right)￥$，此处就是$ax$。若实数的范数定义为其绝对值，则根据可微定义，有\n",
    "$$\\lim_{x\\to x_0}\\frac{|f\\left(x\\right)-\\left(a\\left(x-x_0\\right)+f\\left(x_0\\right)\\right)|}{|x-x_0|}=0$$\n",
    "等价于\n",
    "$$\\lim_{x\\to x_0}\\frac{|f\\left(x\\right)-f\\left(x_0\\right)|}{|x-x_0|}=0$$\n",
    "$a$记为$f'\\left(x_0\\right)$，称为$f$在点$x_0$处的倒数。因此，仿射函数可表示为\n",
    "$$\\mathcal{A}\\left(x\\right)=f\\left(x\\right)+f'\\left(x_0\\right)\\left(x-x_0\\right)$$\n",
    "该仿射函数是$f$在点$x_0$处的切线。"
   ]
  },
  {
   "cell_type": "markdown",
   "metadata": {},
   "source": [
    "## 5.3 导数矩阵"
   ]
  },
  {
   "cell_type": "markdown",
   "metadata": {},
   "source": [
    "任意从$\\mathbb{R}^n$到$\\mathbb{R}^m$的线性变换，特别是函数$\\mathbf{f}:\\mathbb{R}^n\\to\\mathbb{R}^m$的导数$\\mathcal{L}$，都可以表示为一个$m\\times n$矩阵。为了确定可微函数$\\mathbf{f}:\\mathbb{R}^n\\to\\mathbb{R}^m$的导数$\\mathcal{L}$所对应的矩阵表示$\\mathbf{L}$，引入$\\mathbb{R}^n$空间的标准基$\\{\\mathbf{e}_1,\\mathbf{e}_2,\\dots,\\mathbf{e}_n\\}$。考虑向量\n",
    "$$\\mathbf{x}_j=\\mathbf{x}_0+t\\mathbf{e}_j,\\quad j=1,\\dots,n$$\n",
    "由导数定义，有\n",
    "$$\\lim_{t\\to0}\\frac{\\mathbf{f}\\left(\\mathbf{x}_j\\right)-\\left(t\\mathbf{L}\\mathbf{e}_j+\\mathbf{f}\\left(\\mathbf{x}_0\\right)\\right)}{t}=0$$\n",
    "其中，$\\mathbf{L}\\mathbf{e}_j$是矩阵$\\mathbf{L}$的第$j$列。向量$\\mathbf{x}_j$与$\\mathbf{x}_0$仅在第$j$个元素上存在差异，该元素的差值为$t$。上式的左边等于偏导数\n",
    "$$\\frac{\\partial \\mathbf{f}}{\\partial x_j}\\left(\\mathbf{x}_0\\right)$$"
   ]
  },
  {
   "cell_type": "markdown",
   "metadata": {},
   "source": [
    "可以通过向量中每个元素求极限的方式来计算向量极限。如果\n",
    "$$\\mathbf{f}\\left(\\mathbf{x}\\right)=\\begin{bmatrix} f_1\\left(\\mathbf{x}\\right)  \\\\ \\vdots \\\\ f_m\\left(\\mathbf{x}\\right) \\end{bmatrix}$$\n",
    "则\n",
    "$$\\frac{\\partial\\mathbf{f}}{\\partial x_j}\\left(\\mathbf{x}_0\\right)=\\begin{bmatrix} \\frac{\\partial f_1}{\\partial x_j}\\left(\\mathbf{x}_0\\right)  \\\\ \\vdots \\\\ \\frac{\\partial f_m}{\\partial x_j}\\left(\\mathbf{x}_0\\right) \\end{bmatrix}$$\n",
    "矩阵$\\mathbf{L}$可写为  \n",
    "$$\\left[\\frac{\\partial\\mathbf{f}}{\\partial x_1}\\left(\\mathbf{x}_0\\right)\\dots\\frac{\\partial\\mathbf{f}}{\\partial x_n}\\left(\\mathbf{x}_0\\right)\\right]=\\begin{bmatrix} \\frac{\\partial f_1}{\\partial x_1}\\left(\\mathbf{x}_0\\right) & \\cdots & \\frac{\\partial f_1}{\\partial x_n}\\left(\\mathbf{x}_0\\right) \\\\ \\vdots & \\ddots & \\vdots \\\\ \\frac{\\partial f_m}{\\partial x_1}\\left(\\mathbf{x}_0\\right) & \\cdots & \\frac{\\partial f_m}{\\partial x_n}\\left(\\mathbf{x}_0\\right) \\end{bmatrix}$$  \n",
    "矩阵$\\mathbf{L}$称为$\\mathbf{f}$在点$\\mathbf{x}_0$的雅可比矩阵或导数矩阵，记为$\\mathbf{D f}\\left(\\mathbf{x}_0\\right)$，常用于表示$\\mathbf{f}$在点$\\mathbf{x}_0$的导数。"
   ]
  },
  {
   "cell_type": "markdown",
   "metadata": {},
   "source": [
    "定理5.5 如果函数$\\mathbf{f}:\\mathbb{R}^n\\to\\mathbb{R}^m$在点$\\mathbf{x}_0$是可微的，则$\\mathbf{f}$在点$\\mathbf{x}_0$的导数可唯一确定，并表示为$m\\times n$的导数矩阵$\\mathbf{D f}\\left(\\mathbf{x}_0\\right)$。能够在$\\mathbf{x}_0$附近对函数$\\mathbf{f}$进行最佳近似的仿射函数为\n",
    "$$\\mathcal{A}\\left(\\mathbf{x}\\right)=\\mathbf{f}\\left(\\mathbf{x}\\right)+\\mathbf{D f}\\left(\\mathbf{x}_0\\right)\\left(\\mathbf{x}-\\mathbf{x}_0\\right)$$\n",
    "即\n",
    "$$\\mathbf{f}\\left(\\mathbf{x}\\right)=\\mathcal{A}\\left(\\mathbf{x}\\right)+\\mathbf{r}\\left(\\mathbf{x}\\right)$$\n",
    "且$\\lim_{\\mathbf{x}\\to\\mathbf{x}_0}\\|\\mathbf{r}\\left(\\mathbf{x}\\right)\\|/\\|\\mathbf{x}-\\mathbf{x}_0\\|=0$。导数矩阵$\\mathbf{D f}\\left(\\mathbf{x}_0\\right)$的列为向量偏导数。向量\n",
    "$$\\frac{\\partial\\mathbf{f}}{\\partial x_j}\\left(\\mathbf{x}_0\\right)$$\n",
    "是函数曲线$\\mathbf{f}$在点$\\mathbf{x}_0$的切线向量，可通过调整$\\mathbf{x}$的第$j$个元素的值求得。"
   ]
  },
  {
   "cell_type": "markdown",
   "metadata": {},
   "source": [
    "如果函数$f:\\mathbb{R}^n\\to\\mathbb{R}$是可微的，则函数\n",
    "$$\\nabla f\\left(\\mathbf{x}\\right)=\\begin{bmatrix} \\frac{\\partial f}{\\partial x_1}\\left(\\mathbf{x}\\right)  \\\\ \\vdots \\\\ \\frac{\\partial f}{\\partial x_n}\\left(\\mathbf{x}\\right) \\end{bmatrix}=Df\\left(\\mathbf{x}\\right)^\\top$$\n",
    "称为$f$的梯度。梯度是一个从$\\mathbb{R}^n$到$\\mathbb{R}^n$的函数。如果绘制梯度向量$\\nabla f\\left(\\mathbf{x}\\right)$，其起点为$\\mathbf{x}$，箭头表示方向，如此可将梯度表示为向量场。"
   ]
  },
  {
   "cell_type": "markdown",
   "metadata": {},
   "source": [
    "给定函数$f:\\mathbb{R}^n\\to\\mathbb{R}$，如果梯度$\\nabla f$可微，则称$f$是二次可微的，$\\nabla f$的导数记为\n",
    "$$D^2 f=\\begin{bmatrix} \\frac{\\partial^2f}{\\partial x_1^2} & \\frac{\\partial^2f}{\\partial x_2\\partial x_1} & \\cdots & \\frac{\\partial^2f}{\\partial x_n\\partial x_1} \\\\ \\frac{\\partial^2f}{\\partial x_1\\partial x_2} & \\frac{\\partial^2f}{\\partial x_2^2} & \\cdots & \\frac{\\partial^2f}{\\partial x_n\\partial x_2} \\\\ \\vdots & \\vdots & \\ddots & \\vdots \\\\ \\frac{\\partial^2f}{\\partial x_1\\partial x_n} & \\frac{\\partial^2f}{\\partial x_2\\partial x_n} & \\cdots & \\frac{\\partial^2f}{\\partial x_n^2} \\end{bmatrix}$$  \n",
    "其中，$\\frac{\\partial^2f}{\\partial x_i\\partial x_j}$表示$f$先对$x_j$求导，在对$x_i$求偏导数。矩阵$D^2f\\left(\\mathbf{x}\\right)$称为$f$在点$\\mathbf{x}$的黑塞矩阵，常记为$\\mathbf{F}\\left(\\mathbf{x}\\right)$。"
   ]
  },
  {
   "cell_type": "markdown",
   "metadata": {},
   "source": [
    "给定函数$f:\\Omega\\to\\mathbb{R}^m,\\Omega\\subset\\mathbb{R}^n$，如果该函数在$\\Omega$上是可微的，且$Df:\\Omega\\to\\mathbb{R}^{m\\times m}$是连续的，则称该函数在$\\Omega$上是连续可微的，即$f$的各个元素具有连续偏导数。满足该条件的函数$f$，记为$f\\in\\mathcal{C}^1$。如果$f$中的各元素具有$p$阶连续偏导数，则记为$f\\in\\mathcal{C}^p$。"
   ]
  },
  {
   "cell_type": "markdown",
   "metadata": {},
   "source": [
    "克莱罗（施瓦茨）定理：如果$f:\\mathbb{R}^n\\to\\mathbb{R}$在点$\\mathbf{x}$是二阶连续可微的，则$f$在点$\\mathbf{x}$的黑塞矩阵是对称的。"
   ]
  },
  {
   "cell_type": "markdown",
   "metadata": {},
   "source": [
    "## 5.4 微分法则"
   ]
  },
  {
   "cell_type": "markdown",
   "metadata": {},
   "source": [
    "利用函数$\\mathbf{f}:\\mathbb{R}\\to\\mathbb{R}^n$和函数$g:\\mathbb{R}^n\\to\\mathbb{R}$可构成复合函数$g\\left(\\mathbf{f}\\left(t\\right)\\right)$。"
   ]
  },
  {
   "cell_type": "markdown",
   "metadata": {},
   "source": [
    "定理5.6 如果$g:\\mathcal{D}\\to\\mathbb{R}$在开集$\\mathcal{D}\\subset\\mathbb{R}^n$上是可微的，且$\\mathbf{f}:\\left(a,b\\right)\\to\\mathcal{D}$上可微。则它们的复合函数$h:\\left(a,b\\right)\\to\\mathbb{R},h\\left(t\\right)=g\\left(\\mathbf{f}\\left(t\\right)\\right)$在$\\left(a,b\\right)$上是可微的，且导数为\n",
    "$$h'\\left(t\\right)=Dg\\left(\\mathbf{f}\\left(t\\right)\\right)D\\mathbf{f}\\left(t\\right)=\\nabla g\\left(\\mathbf{f}\\left(t\\right)\\right)^\\top\\begin{bmatrix} f'_1\\left(t\\right)  \\\\ \\vdots \\\\ f'_n\\left(t\\right) \\end{bmatrix}$$"
   ]
  },
  {
   "cell_type": "markdown",
   "metadata": {},
   "source": [
    "乘积法则：令$\\mathbf{f}:\\mathbb{R}^n\\to\\mathbb{R}^m$和$\\mathbf{g}:\\mathbb{R}^n\\to\\mathbb{R}^m$表示两个可微函数，函数$h:\\mathbb{R}^n\\to\\mathbb{R}$定义为$h \\left(\\mathbf{x}\\right)=\\mathbf{f}\\left(\\mathbf{x}\\right)^\\top\\mathbf{g}\\left(\\mathbf{x}\\right)$，则$\\mathbf{h}$也是可微的，且\n",
    "$$Dh\\left(\\mathbf{x}\\right)=\\mathbf{f}\\left(\\mathbf{x}\\right)^\\top D\\mathbf{g}\\left(\\mathbf{x}\\right)+\\mathbf{g}\\left(\\mathbf{x}\\right)^\\top D\\mathbf{f}\\left(\\mathbf{x}\\right)$$"
   ]
  },
  {
   "cell_type": "markdown",
   "metadata": {},
   "source": [
    "给定矩阵$\\mathbf{A}\\in\\mathbb{R}^{m\\times m}$和向量$\\mathbf{y}\\in\\mathbb{R}^m$，有\n",
    "$$D\\left(\\mathbf{y}^\\top\\mathbf{A}\\mathbf{x}\\right)=\\mathbf{y}^\\top\\mathbf{A}$$\n",
    "特别的，当$m=n$时，有\n",
    "$$D\\left(\\mathbf{x}^\\top\\mathbf{A}\\mathbf{x}\\right)=\\mathbf{x}^\\top\\left(\\mathbf{A}+\\mathbf{A}^\\top\\right)$$\n",
    "如果$\\mathbf{y}\\in\\mathbb{R}^n$，则\n",
    "$$D\\left(\\mathbf{y}^\\top\\mathbf{x}\\right)=\\mathbf{y}^\\top$$\n",
    "如果$\\mathbf{Q}$是对称矩阵，则\n",
    "$$D\\left(\\mathbf{x}^\\top\\mathbf{Q}\\mathbf{x}\\right)=2\\mathbf{x}^\\top\\mathbf{Q}$$\n",
    "特别的，当$\\mathbf{Q}=\\mathbf{I}$时，有\n",
    "$$D\\left(\\mathbf{x}^\\top\\mathbf{x}\\right)=2\\mathbf{x}^\\top$$"
   ]
  },
  {
   "cell_type": "markdown",
   "metadata": {},
   "source": [
    "## 5.5 水平集与梯度"
   ]
  },
  {
   "cell_type": "markdown",
   "metadata": {},
   "source": [
    "函数$f:\\mathbb{R}^n\\to\\mathbb{R}$在水平$c$上的水平集定义为\n",
    "$$S=\\{\\mathbf{x}:f\\left(\\mathbf{x}\\right)=c\\}$$"
   ]
  },
  {
   "cell_type": "markdown",
   "metadata": {
    "collapsed": true
   },
   "source": [
    "点$\\mathbf{x}_0$位于函数$f$的水平为$c$的水平集$S$上，即$f\\left(\\mathbf{x}_0\\right)=c$。假定存在一条位于$S$中的曲线$\\gamma$，可以用一个连续可微函数$\\mathbf{g}:\\mathbb{R}\\to\\mathbb{R}^n$进行参数化，同时假定$\\mathbf{g}\\left(t_0\\right)=\\mathbf{x}_0$且$\\mathbf{D}\\mathbf{g}\\left(t_0\\right)=\\boldsymbol{\\upsilon}\\neq\\mathbf{0}$，则$\\boldsymbol{\\upsilon}$是$\\gamma$在点$\\mathbf{x}_0$的切向量。利用链式法则求函数$h\\left(t\\right)=f\\left(\\mathbf{g}\\left(t\\right)\\right)$在点$t_0$的导数，可得\n",
    "$$h'\\left(t_0\\right)=Df\\left(\\mathbf{g}\\left(t_0\\right)\\right)D\\mathbf{g}\\left(t_0\\right)=Df\\left(\\mathbf{x}_0\\right)\\boldsymbol{\\upsilon}$$\n",
    "由于$\\gamma$位于$S$内，可知\n",
    "$$h\\left(t\\right)=f\\left(\\mathbf{g}\\right)=c$$\n",
    "即$h$是常数，因此$h'\\left(t_0\\right)=0$，可得\n",
    "$$Df\\left(\\mathbf{x}_0\\right)\\boldsymbol{\\upsilon}=\\nabla f\\left(\\mathbf{x}_0\\right)^\\top\\boldsymbol{\\upsilon}=0$$"
   ]
  },
  {
   "cell_type": "markdown",
   "metadata": {},
   "source": [
    "定理5.7 对于水平为$\\mathbf{f}\\left(\\mathbf{x}\\right)=\\mathbf{f}\\left(\\mathbf{x}_0\\right)$的水平集中的任意一条经过点$\\mathbf{x}_0$的光滑曲线，其在点$\\mathbf{x}_0$的切向量与函数$\\mathbf{f}$在点$\\mathbf{x}_0$的梯度$\\nabla \\mathbf{f}\\left(\\mathbf{x}_0\\right)$正交。"
   ]
  },
  {
   "cell_type": "markdown",
   "metadata": {},
   "source": [
    "根据定理，可得$\\nabla\\mathbf{f}\\left(\\mathbf{x}_0\\right)$是水平集在点$\\mathbf{x}_0$的法向量。如果$\\nabla\\mathbf{f}\\left(\\mathbf{x}_0\\right)\\neq 0$，则满足所有$\\nabla\\mathbf{f}\\left(\\mathbf{x}_0\\right)^\\top\\left(\\mathbf{x}-\\mathbf{x}_0\\right)=0$的所有$\\mathbf{x}$组成的集合称为水平集$S$在点$\\mathbf{x}_0$的切平面（或切线）。"
   ]
  },
  {
   "cell_type": "markdown",
   "metadata": {},
   "source": [
    "由于$\\nabla\\mathbf{f}\\left(\\mathbf{x}_0\\right)$正交于水平为$\\mathbf{f}\\left(\\mathbf{x}\\right)=\\mathbf{f}\\left(\\mathbf{x}_0\\right)$的水平集，可推出：一个实值可微函数在某点增加速度最快的方向正交于函数$\\mathbf{f}$在改点的水平集。"
   ]
  },
  {
   "cell_type": "markdown",
   "metadata": {},
   "source": [
    "函数$\\mathbf{f}:\\mathbb{R}^n\\to\\mathbb{R}$的图像为集合$\\{\\left[\\mathbf{x}^\\top,\\mathbf{f}\\left(\\mathbf{x}\\right)\\right]^\\top,\\mathbf{x}\\in\\mathbb{R}^n\\}\\subset\\mathbb{R}^{n-1}$，函数$\\mathbf{f}$的梯度可以理解为函数图像的一个切平面，且是一个超平面。"
   ]
  },
  {
   "cell_type": "markdown",
   "metadata": {
    "collapsed": true
   },
   "source": [
    "令$\\mathbf{x}_0\\in\\mathbb{R}^n,\\mathbf{z}_0=\\mathbf{f}\\left(\\mathbf{x}_0\\right)$，则$\\left[\\mathbf{x}_0^\\top,\\mathbf{z}_0\\right]^\\top\\in\\mathbb{R}^{n+1}$为$\\mathbf{f}$图像中的一点。如果$\\mathbf{f}$在点$\\boldsymbol{\\xi}$处可微，则$\\mathbf{f}$的图像在$\\boldsymbol{\\xi}=\\left[\\mathbf{x}_0^\\top,\\mathbf{z}_0\\right]^\\top$处存在一个非垂直的切线超平面。经过点$\\boldsymbol{\\xi}$的超平面是所有满足\n",
    "$$u_1\\left(x_1-x_0\\right)+\\dots+u_n\\left(x_n-x_0\\right)+v\\left(z-z_0\\right)=0$$\n",
    "的点$\\left[x_1,\\dots,x_n,z\\right]^\\top\\in\\mathbb{R}^{n+1}$构成的集合。其中，向量$\\left[u_1,\\dots,u_n,v\\right]^\\top\\in\\mathbb{R}^{n+1}$正交于超平面。"
   ]
  },
  {
   "cell_type": "markdown",
   "metadata": {},
   "source": [
    "假定该超平面是非垂直的（即$v\\neq0$），令\n",
    "$$d_i=\\frac{u_i}{v}$$\n",
    "可将上面的超平面方程重写为\n",
    "$$z=d_1\\left(x_1-x_{01}\\right)+\\dots+d_n\\left(x_n-x_{0n}\\right)+z_0$$\n",
    "上式中等号右端为一个函数$\\mathbf{z}:\\mathbb{R}^n\\to\\mathbb{R}$。由于超平面与函数$\\mathbf{f}$的图像相切，函数$\\mathbf{f}$和$\\mathbf{z}$在点$\\mathbf{x}_0$有相同的偏导数。因此，如果$\\mathbf{f}$在点$\\mathbf{x}_0$处可微，则其切线超平面可由梯度表示为\n",
    "$$z-z_0=Df\\left(\\mathbf{x}_0\\right)\\left(\\mathbf{x}-\\mathbf{x}_0\\right)=\\left(\\mathbf{x}-\\mathbf{x}_0\\right)^\\top\\nabla f\\left(\\mathbf{x}_0\\right)$$"
   ]
  },
  {
   "cell_type": "markdown",
   "metadata": {},
   "source": [
    "## 5.6 泰勒级数"
   ]
  },
  {
   "cell_type": "markdown",
   "metadata": {},
   "source": [
    "定理5.8 泰勒定理　假设函数$f:\\mathbb{R}\\to\\mathbb{R}$在区间$\\left[a,b\\right]$上是$m$阶连续可微的，即$f\\in\\mathcal{C}^m$，令$h=b-a$，有\n",
    "$$f\\left(b\\right)=f\\left(a\\right)+\\frac{h}{1!}f^{\\left(1\\right)}\\left(a\\right)+\\frac{h^2}{2!}f^{\\left(2\\right)}\\left(a\\right)+\\dots+\\frac{h^{m-1}}{\\left(m-1\\right)!}f^{\\left(m-1\\right)}\\left(a\\right)+R_m$$\n",
    "其中，$f^{\\left(i\\right)}$表示$f$的$i$阶导数。"
   ]
  },
  {
   "cell_type": "markdown",
   "metadata": {},
   "source": [
    "有\n",
    "$$R_m=\\frac{h^m\\left(1-\\theta\\right)^{m-1}}{\\left(m-1\\right)!}=\\frac{h^m}{m!}f^{\\left(m\\right)}\\left(a+\\theta'h\\right)$$\n",
    "其中，$\\theta,\\theta'\\in\\left(0,1\\right)$。"
   ]
  },
  {
   "cell_type": "markdown",
   "metadata": {},
   "source": [
    "令$g$表示定义在原点$\\mathbf{0}\\in\\mathbb{R}$的领域上的一个实值函数，且有如果$\\mathbf{x}\\neq\\mathbf{0}$，则$\\mathbf{g}\\left(\\mathbf{x}\\right)\\neq\\mathbf{0}$。函数$\\mathbf{f}:\\Omega\\to\\mathbb{R}^m$的定义域为$\\Omega\\subset\\mathbb{R}^n$，包含原点$\\mathbf{0}$。有\n",
    "$1. \\mathbf{f}\\left(\\mathbf{x}\\right)=\\mathbf{O}\\left(g\\left(\\mathbf{x}\\right)\\right)$表示商$\\frac{\\|\\mathbf{f}\\left(\\mathbf{x}\\right)\\|}{|g\\left(\\mathbf{x}\\right)|}$在原点$\\mathbf{0}$附近有界，即存在$K>0$和$\\delta>0$，使得如果$\\|\\mathbf{x}\\|<\\delta,\\mathbf{x}\\in\\Omega$，那么$\\frac{\\|\\mathbf{f}\\left(\\mathbf{x}\\right)\\|}{|g\\left(\\mathbf{x}\\right)|}\\leqslant K$。　　\n",
    "$2. \\mathbf{f}\\left(\\mathbf{x}\\right)=o\\left(\\mathbf{g}\\left(\\mathbf{x}\\right)\\right)$则意味\n",
    "$$\\lim_{\\mathbf{x}\\to\\mathbf{0},\\mathbf{x}\\in\\Omega}\\frac{\\|\\mathbf{f}\\left(\\mathbf{x}\\right)\\|}{|g\\left(\\mathbf{x}\\right)|}＝０$$"
   ]
  },
  {
   "cell_type": "markdown",
   "metadata": {},
   "source": [
    "符号$O\\left(\\mathbf{g}\\left(\\mathbf{x}\\right)\\right)$表示一个在原点$\\mathbf{0}$的邻域上有界的函数，这一边界可通过对函数$\\mathbf{g}\\left(\\mathbf{x}\\right)$进行适当缩放得到。以下函数属于此类：\n",
    "* $x=O\\left(x\\right)$\n",
    "* $\\begin{bmatrix} x^3  \\\\ 2x^2+3x^4 \\end{bmatrix}=O\\left(x^2\\right)$\n",
    "* $\\cos x = O\\left(1\\right)$\n",
    "* $\\sin x = O\\left(x\\right)$"
   ]
  },
  {
   "cell_type": "markdown",
   "metadata": {},
   "source": [
    "符号$o\\left(g\\left(\\mathbf{x}\\right)\\right)$表示相对于函数$g\\left(\\mathbf{x}\\right)$能够更快地接近于零的函数，即$\\lim_{\\mathbf{x}\\to\\mathbf{0}}\\|o\\left(g\\left(\\mathbf{x}\\right)\\right)\\|/|g\\left(\\mathbf{x}\\right)|＝０$。以下函数属于此类：\n",
    "* $x^2=o\\left(x\\right)$\n",
    "* $\\begin{bmatrix} x^3  \\\\ 2x^2+3x^4 \\end{bmatrix}=o\\left(x\\right)$\n",
    "* $x^3=o\\left(x^2\\right)$\n",
    "* $x=o\\left(1\\right)$"
   ]
  },
  {
   "cell_type": "markdown",
   "metadata": {},
   "source": [
    "如果$\\mathbf{f}\\left(\\mathbf{x}\\right)=o\\left(g\\left(\\mathbf{x}\\right)\\right)$，则$\\mathbf{f}\\left(\\mathbf{x}\\right)=O\\left(g\\left(\\mathbf{x}\\right)\\right)$  \n",
    "如果$\\mathbf{f}\\left(\\mathbf{x}\\right)=O\\left(\\|\\mathbf{x}\\|^p\\right)$，则对于任意$\\varepsilon>0$，有$\\mathbf{f}\\left(\\mathbf{x}\\right)=o\\left(\\|\\mathbf{x}\\|^{p-\\varepsilon}\\right)$。"
   ]
  },
  {
   "cell_type": "markdown",
   "metadata": {},
   "source": [
    "已知函数$f\\in\\mathcal{C}^m$，泰勒定理的余项为\n",
    "$$R_m=\\frac{h^m}{m!}f^{\\left(m\\right)}\\left(a+\\theta h\\right)$$\n",
    "其中，$\\theta\\in\\left(0,1\\right)$。将其带入泰勒公式，可得\n",
    "$$f\\left(b\\right)=f\\left(a\\right)+\\frac{h}{1!}f^{\\left(1\\right)}\\left(a\\right)+\\frac{h^2}{2!}f^{\\left(2\\right)}\\left(a\\right)+\\dots+\\frac{h^{m-1}}{\\left(m-1\\right)!}f^{\\left(m-1\\right)}\\left(a\\right)+\\frac{h^m}{m!}f^{\\left(m\\right)}\\left(a+\\theta h\\right)$$"
   ]
  },
  {
   "cell_type": "markdown",
   "metadata": {},
   "source": [
    "利用$f^{\\left(m\\right)}$的连续性，可知当$h\\to 0$，有$f^{\\left(m\\right)}\\left(a+\\theta h\\right)\\to f^{\\left(m\\right)}\\left(a\\right)$，即$f^{\\left(m\\right)}\\left(a+\\theta h\\right)=f^{\\left(m\\right)}\\left(a\\right)+o\\left(1\\right)$。"
   ]
  },
  {
   "cell_type": "markdown",
   "metadata": {},
   "source": [
    "因此，\n",
    "$$\\frac{h^m}{m!}f^{\\left(m\\right)}\\left(a+\\theta h\\right)=\\frac{h^m}{m!}f^{\\left(m\\right)}\\left(a\\right)+o\\left(h^m\\right)$$\n",
    "这里用到了$h^m o\\left(1\\right)=o\\left(h^m\\right)$。因此，泰勒公式可重写为\n",
    "$$f\\left(b\\right)=f\\left(a\\right)+\\frac{h}{1!}f^{\\left(1\\right)}\\left(a\\right)+\\frac{h^2}{2!}f^{\\left(2\\right)}\\left(a\\right)+\\dots+\\frac{h^m}{m!}f^{\\left(m\\right)}\\left(a\\right)+o\\left(h^m\\right)$$"
   ]
  },
  {
   "cell_type": "markdown",
   "metadata": {},
   "source": [
    "假设$f\\in\\mathcal{C}^{m+1}$，则可将上式中$o\\left(h^m\\right)$替换为$O\\left(h^{m+1}\\right)$。因此，余项为$R_{m+1}$，对应的泰勒公式为\n",
    "$$f\\left(b\\right)=f\\left(a\\right)+\\frac{h}{1!}f^{\\left(1\\right)}\\left(a\\right)+\\frac{h^2}{2!}f^{\\left(2\\right)}\\left(a\\right)+\\dots+\\frac{h^{m-1}}{\\left(m-1\\right)!}f^{\\left(m-1\\right)}\\left(a\\right)+\\frac{h^m}{m!}f^{\\left(m\\right)}\\left(a\\right)+R_{m+1}$$\n",
    "其中，\n",
    "$$R_{m+1}=\\frac{h^{m+1}}{\\left(m+1\\right)!}f^{\\left(m+1\\right)}\\left(a+\\theta'h\\right)$$\n",
    "其中，$\\theta'\\in\\left(0,1\\right)$。"
   ]
  },
  {
   "cell_type": "markdown",
   "metadata": {},
   "source": [
    "由于$f^{\\left(m+1\\right)}$在$\\left[a,b\\right]$上是有界的，可知\n",
    "$$R_{m+1}=O\\left(h^{m+1}\\right)$$"
   ]
  },
  {
   "cell_type": "markdown",
   "metadata": {},
   "source": [
    "因此，对于函数$f\\in\\mathcal{C}^{m+1}$，泰勒公式为\n",
    "$$f\\left(b\\right)=f\\left(a\\right)+\\frac{h}{1!}f^{\\left(1\\right)}\\left(a\\right)+\\frac{h^2}{2!}f^{\\left(2\\right)}\\left(a\\right)+\\dots+\\frac{h^m}{m!}f^{\\left(m\\right)}\\left(a\\right)+O\\left(h^{m+1}\\right)$$"
   ]
  },
  {
   "cell_type": "markdown",
   "metadata": {},
   "source": [
    "实值函数$\\mathbf{f}:\\mathbb{R}^n\\to\\mathbb{R}$在点$\\mathbf{x}_0\\in\\mathbb{R}^n$的泰勒展开式:  \n",
    "假定$\\mathbf{f}\\in\\mathcal{C}^2$，令$\\mathbf{x}$和$\\mathbf{x}_0$表示$\\mathbb{R}^n$中的点，令$\\mathbf{z}\\left(\\alpha\\right)=\\mathbf{x}_0+\\alpha\\left(\\mathbf{x}-\\mathbf{x}_0\\right)/\\|\\mathbf{x}-\\mathbf{x}_0\\|$。定义函数$\\phi:\\mathbb{R}\\to\\mathbb{R}$为  \n",
    "$$\\phi\\left(\\alpha\\right)=f\\left(\\mathbf{z}\\left(\\alpha\\right)\\right)=f\\left(\\mathbf{x}_0+\\alpha\\left(\\mathbf{x}-\\mathbf{x}_0\\right)/\\|\\mathbf{x}-\\mathbf{x}_0\\|\\right)$$"
   ]
  },
  {
   "cell_type": "markdown",
   "metadata": {},
   "source": [
    "利用链式法则，可的一阶导数为\n",
    "$$\\phi'\\left(\\alpha\\right)=\\frac{\\mathrm{d}\\phi}{\\mathrm{d}\\alpha}\\left(\\alpha\\right) \\\\\n",
    "\\qquad\\qquad\\qquad\\qquad\\qquad\\qquad\\qquad=Df\\left(\\mathbf{z}\\left(\\alpha\\right)\\right)D\\mathbf{z}\\left(\\alpha\\right)=Df\\left(\\mathbf{z}\\left(\\alpha\\right)\\right)\\frac{\\left(\\mathbf{x}-\\mathbf{x}_0\\right)}{\\|\\mathbf{x}-\\mathbf{x}_0\\|} \\\\\n",
    "\\qquad\\qquad\\qquad\\qquad\\qquad=\\left(\\mathbf{x}-\\mathbf{x}_0\\right)^\\top Df\\left(\\mathbf{z}\\left(\\alpha\\right)\\right)^\\top/\\|\\mathbf{x}-\\mathbf{x}_0\\|$$"
   ]
  },
  {
   "cell_type": "markdown",
   "metadata": {},
   "source": [
    "二阶导数为\n",
    "$$\\phi''\\left(\\alpha\\right)=\\frac{\\mathrm{d}^2\\phi}{\\mathrm{d}\\alpha^2}\\left(\\alpha\\right) \\\\\n",
    "\\quad\\quad\\quad\\quad\\quad=\\frac{\\mathrm{d}}{\\mathrm{d}\\alpha}\\left(\\frac{\\mathrm{d}\\phi}{\\mathrm{d}\\alpha}\\right)\\left(\\alpha\\right)  \\\\\n",
    "\\quad\\quad\\quad\\quad\\quad\\quad\\quad\\quad=\\frac{\\left(\\mathbf{x}-\\mathbf{x}_0\\right)^\\top}{\\|\\mathbf{x}-\\mathbf{x}_0\\|}\\frac{\\mathrm{d}}{\\mathrm{d}\\alpha}Df\\left(\\mathbf{z}\\left(\\alpha\\right)\\right)^\\top \\\\\n",
    "\\quad\\quad\\quad\\quad\\quad\\quad\\quad\\quad\\quad\\quad\\quad=\\frac{\\left(\\mathbf{x}-\\mathbf{x}_0\\right)^\\top}{\\|\\mathbf{x}-\\mathbf{x}_0\\|}D\\left(Df\\right)\\left(\\mathbf{z}\\left(\\alpha\\right)\\right)^\\top\\frac{\\mathrm{d}\\mathbf{z}}{\\mathrm{d}\\alpha}\\left(\\alpha\\right) \\\\\n",
    "\\quad\\quad\\quad\\quad\\quad\\quad\\quad\\quad\\quad\\quad\\quad\\quad\\quad\\quad=\\frac{1}{\\|\\mathbf{x}-\\mathbf{x}_0\\|}\\left(\\mathbf{x}-\\mathbf{x}_0\\right)^\\top D^2f\\left(\\mathbf{z}\\left(\\alpha\\right)\\right)^\\top\\left(\\mathbf{x}-\\mathbf{x}_0\\right) \\\\\n",
    "\\quad\\quad\\quad\\quad\\quad\\quad\\quad\\quad\\quad\\quad\\quad\\quad\\quad\\quad=\\frac{1}{\\|\\mathbf{x}-\\mathbf{x}_0\\|}\\left(\\mathbf{x}-\\mathbf{x}_0\\right)^\\top D^2f\\left(\\mathbf{z}\\left(\\alpha\\right)\\right)\\left(\\mathbf{x}-\\mathbf{x}_0\\right)$$"
   ]
  },
  {
   "cell_type": "markdown",
   "metadata": {},
   "source": [
    "由于\n",
    "$$f\\left(\\mathbf{x}\\right)=\\phi\\left(\\|\\mathbf{x}-\\mathbf{x}_0\\|\\right) \\\\\n",
    "\\quad\\quad\\quad\\quad\\quad\\quad\\quad\\quad\\quad\\quad\\quad\\quad\\quad\\quad\\quad\\quad\\quad\\quad\\quad=\\phi\\left(0\\right)+\\frac{\\|\\mathbf{x}-\\mathbf{x}_0\\|}{1!}\\phi'\\left(0\\right)+\\frac{\\|\\mathbf{x}-\\mathbf{x}_0\\|^2}{2!}\\phi''\\left(0\\right)+o\\left(\\|\\mathbf{x}-\\mathbf{x}_0\\|^2\\right)$$\n",
    "则\n",
    "$$f\\left(\\mathbf{x}\\right)=f\\left(\\mathbf{x}_0\\right)+\\frac{1}{1!}Df\\left(\\mathbf{x}_0\\right)\\left(\\mathbf{x}-\\mathbf{x}_0\\right) \\\\\n",
    "\\quad\\quad\\quad\\quad\\quad\\quad\\quad\\quad\\quad\\quad+\\frac{1}{2!}\\left(\\mathbf{x}-\\mathbf{x}_0\\right)^\\top D^2f\\left(\\mathbf{x}_0\\right)\\left(\\mathbf{x}-\\mathbf{x}_0\\right)+o\\left(\\|\\mathbf{x}-\\mathbf{x}_0\\|^2\\right)$$"
   ]
  },
  {
   "cell_type": "markdown",
   "metadata": {},
   "source": [
    "如果函数$\\mathbf{f}\\in\\mathcal{C}^3$，则泰勒公式展开到余项$R_3$，即\n",
    "$$f\\left(\\mathbf{x}\\right)=f\\left(\\mathbf{x}_0\\right)+\\frac{1}{1!}Df\\left(\\mathbf{x}_0\\right)\\left(\\mathbf{x}-\\mathbf{x}_0\\right) \\\\\n",
    "\\quad\\quad\\quad\\quad\\quad\\quad\\quad\\quad\\quad\\quad+\\frac{1}{2!}\\left(\\mathbf{x}-\\mathbf{x}_0\\right)^\\top D^2f\\left(\\mathbf{x}_0\\right)\\left(\\mathbf{x}-\\mathbf{x}_0\\right)+O\\left(\\|\\mathbf{x}-\\mathbf{x}_0\\|^3\\right)$$"
   ]
  },
  {
   "cell_type": "markdown",
   "metadata": {},
   "source": [
    "定理5.9 中值定理　如果函数$\\mathbf{f}:\\mathbb{R}^n\\to\\mathbb{R}^m$在开集$\\Omega\\subset\\mathbb{R}^n$上可微，则对于任意两点$\\mathbf{x},\\mathbf{y}\\in\\Omega$，存在矩阵$\\mathbf{M}$，使得\n",
    "$$\\mathbf{f}\\left(\\mathbf{x}\\right)-\\mathbf{f}\\left(\\mathbf{y}\\right)=\\mathbf{M}\\left(\\mathbf{x}-\\mathbf{y}\\right)$$"
   ]
  },
  {
   "cell_type": "markdown",
   "metadata": {},
   "source": [
    "将泰勒公式应用与$\\mathbf{f}$中的每个元素即可得到中值定理。针对$\\mathbf{x}$和$\\mathbf{y}$之间的线段中的点计算$\\mathbf{D}\\mathbf{f}$，矩阵$\\mathbf{M}$中的各行就是直接对应$\\mathbf{D}\\mathbf{f}$中的各行。"
   ]
  }
 ],
 "metadata": {
  "kernelspec": {
   "display_name": "Python 3",
   "language": "python",
   "name": "python3"
  },
  "language_info": {
   "codemirror_mode": {
    "name": "ipython",
    "version": 3
   },
   "file_extension": ".py",
   "mimetype": "text/x-python",
   "name": "python",
   "nbconvert_exporter": "python",
   "pygments_lexer": "ipython3",
   "version": "3.7.4"
  }
 },
 "nbformat": 4,
 "nbformat_minor": 2
}

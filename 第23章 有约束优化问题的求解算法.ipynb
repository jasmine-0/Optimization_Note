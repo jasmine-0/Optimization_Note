{
 "cells": [
  {
   "cell_type": "markdown",
   "metadata": {},
   "source": [
    "第23章 有约束优化问题的求解算法"
   ]
  },
  {
   "cell_type": "markdown",
   "metadata": {},
   "source": [
    "23.1 引言"
   ]
  },
  {
   "cell_type": "markdown",
   "metadata": {},
   "source": [
    "特殊约束条件下的优化问题的求解算法。"
   ]
  },
  {
   "cell_type": "markdown",
   "metadata": {},
   "source": [
    "23.2 投影法"
   ]
  },
  {
   "cell_type": "markdown",
   "metadata": {},
   "source": [
    "优化问题的通用迭代公式\n",
    "$$\\mathbf{x}^{\\left(k+1\\right)}=\\mathbf{x}^{\\left(k\\right)}+\\alpha_k\\mathbf{d}^{\\left(k\\right)}$$\n",
    "其中，$\\mathbf{d}^{\\left(k\\right)}$是关于$\\nabla f\\left(\\mathbf{x}^{\\left(k\\right)}\\right)$的函数。"
   ]
  },
  {
   "cell_type": "markdown",
   "metadata": {},
   "source": [
    "如果$\\mathbf{x}^{\\left(k\\right)}+\\alpha_k\\mathbf{d}^{\\left(k\\right)}$在约束集$\\Omega$内，则令$\\mathbf{x}^{\\left(k+1\\right)}=\\mathbf{x}^{\\left(k\\right)}+\\alpha_k\\mathbf{d}^{\\left(k\\right)}$；否则将其投影到$\\Omega$中，并将投影结果作为$\\mathbf{x}^{\\left(k+1\\right)}$。"
   ]
  },
  {
   "cell_type": "markdown",
   "metadata": {},
   "source": [
    "在特殊约束集\n",
    "$$\\Omega=\\{\\mathbf{x}:l_i\\leqslant x_i\\leqslant u_i,i=1,\\dots,n\\}$$\n",
    "下，约束集$\\Omega$是$\\mathbb{R}^n$中的一个“方框”，称为框式约束。"
   ]
  },
  {
   "cell_type": "markdown",
   "metadata": {},
   "source": [
    "对于点$\\mathbf{x}\\in\\mathbb{R}^n$，定义$\\mathbf{y}=\\Pi\\left[\\mathbf{x}\\right]\\in\\mathbb{R}^n$\n",
    "$$y_i=\\min\\{u_i,\\max\\{l_i,x_i\\}\\}=\\left\\{\n",
    "\\begin{aligned}\n",
    "u_i,\\quad x_i> u_i \\\\\n",
    "x_i,l_i\\leqslant x_i\\leqslant u_i \\\\\n",
    "l_i,\\quad x_i<l_i\n",
    "\\end{aligned}\n",
    "\\right.$$\n",
    "则点$\\Pi\\left[\\mathbf{x}\\right]$称为$\\mathbf{x}$到$\\Omega$上的投影，$\\Pi$称为投影算子。$\\Pi\\left[\\mathbf{x}\\right]$是$\\Omega$中“最接近\"$\\mathbf{x}$的点。"
   ]
  },
  {
   "cell_type": "markdown",
   "metadata": {},
   "source": [
    "一般情况，可定义$\\mathbf{x}$到$\\Omega$上的投影\n",
    "$$\\Pi\\left[\\mathbf{x}\\right]=\\arg\\min_{\\mathbf{z}\\in\\Omega}\\|\\mathbf{z}-\\mathbf{x}\\|$$"
   ]
  },
  {
   "cell_type": "markdown",
   "metadata": {},
   "source": [
    "梯度法中使用的投影法。已知向量$-\\nabla f\\left(\\mathbf{x}\\right)$是函数$f$在$\\mathbf{x}$处的最快下降方向。其迭代公式为$\\mathbf{x}^{\\left(k+1\\right)}=\\mathbf{x}^{\\left(k\\right)}-\\alpha_k\\nabla f\\left( \\mathbf{x}^{\\left(k\\right)}\\right)$，$\\alpha_k$为步长。在最速下降法中，步长为$\\alpha_k=\\arg\\min_{\\alpha\\geqslant0}f\\left(\\mathbf{x}^{k}-\\alpha\\nabla f\\left(\\mathbf{x}^{\\left(k\\right)}\\right)\\right)$。"
   ]
  },
  {
   "cell_type": "markdown",
   "metadata": {},
   "source": [
    "将投影算子引入梯度法，可得如下迭代公式\n",
    "$$\\mathbf{x}^{\\left(k+1\\right)}=\\Pi\\left[\\mathbf{x}^{\\left(k\\right)}-\\alpha_k\\nabla f\\left( \\mathbf{x}^{\\left(k\\right)}\\right)\\right]$$\n",
    "称为投影梯度法。"
   ]
  },
  {
   "cell_type": "markdown",
   "metadata": {},
   "source": [
    "23.3 求解含线性约束优化问题的投影梯度法"
   ]
  },
  {
   "cell_type": "markdown",
   "metadata": {},
   "source": [
    "形如\n",
    "$$\\min f\\left(\\mathbf{x}\\right) \\\\\n",
    "s.t.\\quad\\mathbf{A}\\mathbf{x}=\\mathbf{b}$$\n",
    "的优化问题，其中$f:\\mathbb{R}^n\\to\\mathbb{R},f\\in\\mathcal{C}^1,\\mathbf{A}\\in\\mathbb{R}^{m\\times n},m<n,\\mathrm{rank}\\mathbf{A}=m,\\mathbf{b}\\in\\mathbb{R}^m$。约束集合$\\Omega=\\{\\mathbf{x}:\\mathbf{A}\\mathbf{x}=\\mathbf{b}\\}$。"
   ]
  },
  {
   "cell_type": "markdown",
   "metadata": {},
   "source": [
    "投影$\\Pi\\left[\\mathbf{x}\\right]$可定义为如下正交投影算子矩阵\n",
    "$$\\mathbf{P}=\\mathbf{I}_n-\\mathbf{A}^\\top\\left(\\mathbf{A}\\mathbf{A}^\\top\\right)^{-1}\\mathbf{A}$$"
   ]
  },
  {
   "cell_type": "markdown",
   "metadata": {},
   "source": [
    "命题23.1 $\\mathbf{x}^*\\in\\mathbb{R}^n$为可行点，当且仅当$\\mathbf{x}^*$满足拉格朗日条件时，$\\mathbf{P}\\nabla f\\left(\\mathbf{x}^*\\right)=\\mathbf{0}$。"
   ]
  },
  {
   "cell_type": "markdown",
   "metadata": {},
   "source": [
    "在迭代点$\\mathbf{x}^{\\left(k\\right)}\\in\\Omega$处，投影梯度算法的迭代公式为\n",
    "$$\\mathbf{x}^{\\left(k+1\\right)}=\\Pi\\left[\\mathbf{x}^{\\left(\\mathbf{k}\\right)}-\\alpha_k\\nabla f\\left( \\mathbf{x}^{\\left(\\mathbf{k}\\right)}\\right)\\right]  \\\\\n",
    "=\\mathbf{x}^{\\left(k\\right)}-\\alpha_k\\mathbf{P}\\nabla f\\left( \\mathbf{x}^{\\left(\\mathbf{k}\\right)}\\right)$$"
   ]
  },
  {
   "cell_type": "markdown",
   "metadata": {},
   "source": [
    "在有约束优化问题中，向量$-\\nabla f\\left(\\mathbf{x}\\right)$不一定是一个可行方向。可行方向集是矩阵$\\mathbf{A}$的零空间$\\mathcal{N}\\left(\\mathbf{A}\\right)$，应先将向量$-\\nabla f\\left(\\mathbf{x}\\right)$投影到$\\mathcal{N}\\left(\\mathbf{A}\\right)$上。投影等价于左乘矩阵$\\mathbf{P}$，可按上述公式更新$\\mathbf{x}^{\\left(k\\right)}$。"
   ]
  },
  {
   "cell_type": "markdown",
   "metadata": {},
   "source": [
    "命题23.2 在投影梯度算法中，如果$\\mathbf{x}^\\left(0\\right)$是可行的，则每个$\\mathbf{x}^\\left(k\\right)$都是可行的，即对于任意$k\\geqslant0$，恒有$\\mathbf{A}\\mathbf{x}^{\\left(k\\right)}=\\mathbf{b}$。"
   ]
  },
  {
   "cell_type": "markdown",
   "metadata": {},
   "source": [
    "投影梯度法沿着方向$-\\mathbf{P}\\nabla f\\left(\\mathbf{x}^{\\left(k\\right)}\\right)$更新$\\mathbf{x}^{\\left(k\\right)}$，$-\\mathbf{P}\\nabla f\\left(\\mathbf{x}^{\\left(k\\right)}\\right)$是函数$f$在$\\mathbf{A}\\mathbf{x}=\\mathbf{b}$所定义的表面上，在$\\mathbf{x}^{\\left(k\\right)}$处的最速下降方向。"
   ]
  },
  {
   "cell_type": "markdown",
   "metadata": {},
   "source": [
    "投影最速下降法是投影梯度算法的一种，其步长为\n",
    "$$\\alpha_k=\\arg\\min_{\\alpha\\geqslant0} f\\left(\\mathbf{x}^{\\left(k\\right)}-\\alpha\\mathbf{P}\\nabla f\\left(\\mathbf{x}^{\\left(k\\right)}\\right)\\right)$$"
   ]
  },
  {
   "cell_type": "markdown",
   "metadata": {},
   "source": [
    "定理23.1 设$\\{\\mathbf{x}^{\\left(k\\right)}\\}$是投影最速下降法产生的序列，如果$\\mathbf{P}\\nabla f\\left(\\mathbf{x}^k\\right)\\neq\\mathbf{0}$，则$f\\left(\\mathbf{x}^{\\left(k+1\\right)}\\right)<f\\left(\\mathbf{x}^{\\left(k\\right)}\\right)$。"
   ]
  },
  {
   "cell_type": "markdown",
   "metadata": {},
   "source": [
    "如果对于某个k，有$\\mathbf{P}\\nabla f\\left(\\mathbf{x}^{\\left(k\\right)}\\right)=\\mathbf{0}$，说明点$\\mathbf{x}^{\\left(k\\right)}$满足拉格朗日条件，可作为算法的停止准则。"
   ]
  },
  {
   "cell_type": "markdown",
   "metadata": {},
   "source": [
    "命题23.3 当且仅当$\\mathbf{P}\\nabla f\\left(\\mathbf{x}^{\\left(k\\right)}\\right)=\\mathbf{0}$时，点$\\mathbf{x}^*\\in\\mathbb{R}^n$是凸函数$f$在约束集$\\{\\mathbf{x}:\\mathbf{A}\\mathbf{x}=\\mathbf{b}\\}$上的全局极小点。"
   ]
  },
  {
   "cell_type": "markdown",
   "metadata": {},
   "source": [
    "23.4 拉格朗日法"
   ]
  },
  {
   "cell_type": "markdown",
   "metadata": {},
   "source": [
    "基于拉格朗日函数的求解方法的基本思路是利用梯度法在更新决策变量的同时更新拉格朗日乘子向量。"
   ]
  },
  {
   "cell_type": "markdown",
   "metadata": {},
   "source": [
    "仅含等式约束优化问题的拉格朗日法"
   ]
  },
  {
   "cell_type": "markdown",
   "metadata": {},
   "source": [
    "仅含等式约束的优化问题\n",
    "$$\\min f\\left(\\mathbf{x}\\right) \\\\\n",
    "s.t. \\mathbf{h}\\left(\\mathbf{x}\\right)=\\mathbf{0}$$\n",
    "其中，$\\mathbf{h}:\\mathbb{R}^n\\to\\mathbb{R}^m$。"
   ]
  },
  {
   "cell_type": "markdown",
   "metadata": {},
   "source": [
    "拉格朗日函数为\n",
    "$$l\\left(\\mathbf{x},\\boldsymbol{\\lambda}\\right)=f\\left(\\mathbf{x}\\right)+\\boldsymbol{\\lambda}^\\top\\mathbf{h}\\left(\\mathbf{x}\\right)$$"
   ]
  },
  {
   "cell_type": "markdown",
   "metadata": {},
   "source": [
    "拉格朗日法更新方程\n",
    "$$\\mathbf{x}^{\\left(k+1\\right)}=\\mathbf{x}^{\\left(k\\right)}-\\alpha\\left(\\nabla f\\left(\\mathbf{x}^{\\left(k\\right)}\\right)+D\\mathbf{h}\\left(\\mathbf{x}^{\\left(k\\right)}\\right)^\\top\\boldsymbol{\\lambda}^{\\left(k\\right)}\\right) \\\\\n",
    "\\boldsymbol{\\lambda}^{\\left(k+1\\right)}=\\boldsymbol{\\lambda}^{\\left(k\\right)}+\\beta_k\\mathbf{h}\\left(\\mathbf{x}^{\\left(k\\right)}\\right)$$"
   ]
  },
  {
   "cell_type": "markdown",
   "metadata": {},
   "source": [
    "含不等式约束优化问题的拉格朗日法"
   ]
  },
  {
   "cell_type": "markdown",
   "metadata": {},
   "source": [
    "含不等式约束的优化的优化问题\n",
    "$$\\min f\\left(\\mathbf{x}\\right) \\\\\n",
    "s.t. \\mathbf{g}\\left(\\mathbf{x}\\right)\\leqslant\\mathbf{0}$$\n",
    "其中，$\\mathbf{g}:\\mathbb{R}^n\\to\\mathbb{R}^p$。"
   ]
  },
  {
   "cell_type": "markdown",
   "metadata": {},
   "source": [
    "拉格朗日函数为\n",
    "$$l\\left(\\mathbf{x},\\boldsymbol{\\mu}\\right)=f\\left(\\mathbf{x}\\right)+\\boldsymbol{\\mu}^\\top\\mathbf{g}\\left(\\mathbf{x}\\right)$$"
   ]
  },
  {
   "cell_type": "markdown",
   "metadata": {},
   "source": [
    "拉格朗日法更新方程\n",
    "$$\\mathbf{x}^{\\left(k+1\\right)}=\\mathbf{x}^{\\left(k\\right)}-\\alpha\\left(\\nabla f\\left(\\mathbf{x}^{\\left(k\\right)}\\right)+D\\mathbf{g}\\left(\\mathbf{x}^{\\left(k\\right)}\\right)^\\top\\boldsymbol{\\mu}^{\\left(k\\right)}\\right) \\\\\n",
    "\\boldsymbol{\\mu}^{\\left(k+1\\right)}=\\left[\\boldsymbol{\\mu}^{\\left(k\\right)}+\\beta_k\\mathbf{g}\\left(\\mathbf{x}^{\\left(k\\right)}\\right)\\right]_+$$\n",
    "其中，$\\left[\\; \\cdot\\; \\right]_+=\\max\\{\\; \\cdot\\; ,0\\}$。"
   ]
  },
  {
   "cell_type": "markdown",
   "metadata": {
    "collapsed": true
   },
   "source": [
    "23.5 罚函数法"
   ]
  },
  {
   "cell_type": "markdown",
   "metadata": {},
   "source": [
    "一般形式的有约束优化问题\n",
    "$$\\min f\\left(\\mathbf{x}\\right) \\\\\n",
    "s.t. \\mathbf{x}\\in\\Omega$$"
   ]
  },
  {
   "cell_type": "markdown",
   "metadata": {},
   "source": [
    "将有约束优化问题近似处理为如下的无约束优化问题\n",
    "$$\\min f\\left(\\mathbf{x}\\right)+\\gamma\\mathbf{P}\\left(\\mathbf{x}\\right)$$\n",
    "其中，$\\gamma\\in\\mathbb{R}$是大于零的常数，$\\mathbf{P}:\\mathbb{R}^n\\to\\mathbf{R}$是给定函数。"
   ]
  },
  {
   "cell_type": "markdown",
   "metadata": {},
   "source": [
    "求解无约束优化问题，把得到的解近似作为原问题的极小点。常数$\\gamma$称为惩罚因子，函数$\\mathbf{P}\\left(\\mathbf{x}\\right)$称为罚函数。"
   ]
  },
  {
   "cell_type": "markdown",
   "metadata": {},
   "source": [
    "定义23.1 对于一般形式的有约束优化问题，如果满足下列3个条件，则称函数$\\mathbf{P}:\\mathbf{R}^n\\to\\mathbb{R}$为罚函数。\n",
    "1. 函数$\\mathbf{P}$是连续的；\n",
    "2. 对所有$\\mathbf{x}\\in\\mathbb{R}^n$，$\\mathbf{P}\\geqslant0$成立；\n",
    "3. $\\mathbf{P}=0$，当且仅当$\\mathbf{x}$是可行点（即$\\mathbf{x}\\in\\Omega$）。"
   ]
  },
  {
   "cell_type": "markdown",
   "metadata": {},
   "source": [
    "罚函数的作用在于对可行集之外的点进行“惩罚”。"
   ]
  },
  {
   "cell_type": "markdown",
   "metadata": {},
   "source": [
    "有约束优化问题\n",
    "$$\\min f\\left(\\mathbf{x}\\right) \\\\\n",
    "s.t. \\quad g_i\\left(\\mathbf{x}\\right)\\leqslant0,i=1,\\dots,p$$\n",
    "其中，$f:\\mathbb{R}^n\\to\\mathbb{R},g_i:\\mathbb{R}^n\\to\\mathbb{R},i=1,\\dots,p$"
   ]
  },
  {
   "cell_type": "markdown",
   "metadata": {},
   "source": [
    "利用约束函数$g_1,g_2,\\dots,g_p$来构造罚函数$\\mathbf{P}$，构造方式为\n",
    "$$\\mathbf{P}\\left(\\mathbf{x}\\right)=\\sum_{i=1}^{p}g_i^+\\left(\\mathbf{x}\\right)$$\n",
    "其中，\n",
    "$$g_i^+\\left(\\mathbf{x}\\right)=\\max\\{0,g_i\\left(\\mathbf{x}\\right)\\}=\n",
    "\\left\\{\n",
    "\\begin{aligned}\n",
    "0,\\quad g_i\\left(\\mathbf{x}\\right)\\leqslant0 \\\\\n",
    "g_i\\left(\\mathbf{x}\\right),\\quad g_i\\left(\\mathbf{x}\\right)>0\n",
    "\\end{aligned}\n",
    "\\right.$$\n",
    "称为绝对值罚函数，其等于$\\sum|g_i\\left(\\mathbf{x}\\right)|$，是对$\\mathbf{x}$所有无法满足的约束条件进行求和。"
   ]
  },
  {
   "cell_type": "markdown",
   "metadata": {},
   "source": [
    "库朗-贝尔特拉米罚函数能够确保可微\n",
    "$$\\mathbf{P}\\left(\\mathbf{x}\\right)=\\sum_{i=1}^{p}\\left(g_i^+\\left(\\mathbf{x}\\right)\\right)^2$$"
   ]
  },
  {
   "cell_type": "markdown",
   "metadata": {},
   "source": [
    "惩罚因子$\\gamma$越大，违反约束点受罚越重，近似解就与真正解越接近。当惩罚因子$\\gamma\\to\\infty$时，罚函数法得到的就是有约束问题的真正解。"
   ]
  }
 ],
 "metadata": {
  "kernelspec": {
   "display_name": "Python 2",
   "language": "python",
   "name": "python2"
  },
  "language_info": {
   "codemirror_mode": {
    "name": "ipython",
    "version": 2
   },
   "file_extension": ".py",
   "mimetype": "text/x-python",
   "name": "python",
   "nbconvert_exporter": "python",
   "pygments_lexer": "ipython2",
   "version": "2.7.13"
  }
 },
 "nbformat": 4,
 "nbformat_minor": 2
}

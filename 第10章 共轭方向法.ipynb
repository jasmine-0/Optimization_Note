{
 "cells": [
  {
   "cell_type": "markdown",
   "metadata": {},
   "source": [
    "# 第10章 共轭方向法"
   ]
  },
  {
   "cell_type": "markdown",
   "metadata": {},
   "source": [
    "## 10.1 引言"
   ]
  },
  {
   "cell_type": "markdown",
   "metadata": {},
   "source": [
    "一般情况下，共轭方向法的性能优于最速下降法，不如牛顿法。"
   ]
  },
  {
   "cell_type": "markdown",
   "metadata": {},
   "source": [
    "共轭方向法特性：\n",
    "1. 对于$n$维二次型问题，能够在$n$步内得到结果；\n",
    "2. 共轭方向的代表方法共轭梯度法不需要计算黑塞矩阵；\n",
    "3. 不需要存储$n\\times n$矩阵，不需要对其进行求逆。"
   ]
  },
  {
   "cell_type": "markdown",
   "metadata": {},
   "source": [
    "定义10.1 $\\mathbf{Q}$为$n\\times n$的对称实矩阵，对于方向$\\mathbf{d}^{\\left(0\\right)},\\mathbf{d}^{\\left(1\\right)},\\dots,\\mathbf{d}^{\\left(m\\right)}$对于所有的$i\\neq j$，有$\\mathbf{d}^{\\left(i\\right)\\top}\\mathbf{Q}\\mathbf{d}^{\\left(j\\right)}=0$，则称他们是关于$\\mathbf{Q}$共轭的。"
   ]
  },
  {
   "cell_type": "markdown",
   "metadata": {},
   "source": [
    "## 10.2 基本的共轭方向法"
   ]
  },
  {
   "cell_type": "markdown",
   "metadata": {},
   "source": [
    "针对$n$维二次型函数的最小化问题\n",
    "$$\\min f\\left(\\mathbf{x}\\right)=\\frac{1}{2}\\mathbf{x}^\\top\\mathbf{Q}\\mathbf{x}-\\mathbf{x}^\\top\\mathbf{b}$$\n",
    "其中，$\\mathbf{Q}=\\mathbf{Q}^\\top,\\mathbf{x}\\in\\mathbb{R}^n$。由于$\\mathbf{Q}>0$，因此函数$f$有一个全局极小点，可通过求解方程$\\mathbf{Q}\\mathbf{x}=\\mathbf{b}$得到。"
   ]
  },
  {
   "cell_type": "markdown",
   "metadata": {},
   "source": [
    "基本的共轭方向法：  \n",
    "给定初始点$\\mathbf{x}^{\\left(0\\right)}$和一组关于$\\mathbf{Q}$共轭的方向$\\mathbf{d}^{\\left(0\\right)},\\mathbf{d}^{\\left(1\\right)},\\dots,\\mathbf{d}^{\\left(n-1\\right)}$，迭代公式为\n",
    "$$\\mathbf{g}^{\\left(k\\right)}=\\nabla f\\left(\\mathbf{x}^{\\left(k\\right)}\\right)=\\mathbf{Q}\\mathbf{x}^{\\left(k\\right)}-\\mathbf{b} \\\\\n",
    "\\alpha_k=\\frac{\\mathbf{g}^{\\left(k\\right)\\top}\\mathbf{d}^{\\left(k\\right)}}{\\mathbf{d}^{\\left(k\\right)\\top}\\mathbf{Q}\\mathbf{d}^{\\left(k\\right)}} \\\\\n",
    "\\mathbf{x}^{\\left(k+1\\right)}=\\mathbf{x}^{\\left(k\\right)}+\\alpha_k\\mathbf{d}^{\\left(k\\right)}$$"
   ]
  },
  {
   "cell_type": "markdown",
   "metadata": {},
   "source": [
    "定理10.1 对于任意初始点$\\mathbf{x}^{\\left(0\\right)}$，基本共轭方向法都能在$n$次迭代之内收敛到唯一全局极小点$\\mathbf{x}^*$，即$\\mathbf{x}^{\\left(n\\right)}=\\mathbf{x}^*$。"
   ]
  },
  {
   "cell_type": "markdown",
   "metadata": {
    "collapsed": true
   },
   "source": [
    "## 10.3 共轭梯度法"
   ]
  },
  {
   "cell_type": "markdown",
   "metadata": {},
   "source": [
    "共轭梯度法算法：\n",
    "1. 令$k=0$；选择初始值$\\mathbf{x}^{\\left(0\\right)}$。\n",
    "2. 计算$\\mathbf{g}^{\\left(0\\right)}=\\nabla f\\left(\\mathbf{x}^{\\left(0\\right)}\\right)$，如果$\\mathbf{g}^{\\left(0\\right)}=\\mathbf{0}$，停止迭代；否则，令$\\mathbf{d}^{\\left(0\\right)}=\\mathbf{g}^{\\left(0\\right)}$。\n",
    "3. 计算$\\alpha_k=-\\frac{\\mathbf{g}^{\\left(k\\right)\\top}\\mathbf{d}^{\\left(k\\right)}}{\\mathbf{d}^{\\left(k\\right)\\top}\\mathbf{Q}\\mathbf{d}^{\\left(k\\right)}}$。\n",
    "4. 计算$\\mathbf{x}^{\\left(k+1\\right)}=\\mathbf{x}^{\\left(k\\right)}+\\alpha_k\\mathbf{d}^{\\left(k\\right)}$。\n",
    "5. 计算$\\mathbf{g}^{\\left(k+1\\right)}=\\nabla f\\left(\\mathbf{x}^{\\left(k+1\\right)}\\right)$，如果$\\mathbf{g}^{\\left(k+1\\right)}=\\mathbf{0}$，停止迭代。\n",
    "6. 计算$\\beta_k=-\\frac{\\mathbf{g}^{\\left(k+1\\right)\\top}\\mathbf{Q}\\mathbf{d}^{\\left(k\\right)}}{\\mathbf{d}^{\\left(k\\right)\\top}\\mathbf{Q}\\mathbf{d}^{\\left(k\\right)}}$。\n",
    "7. 计算$\\mathbf{d}^{\\left(k+1\\right)}=-\\mathbf{g}^{\\left(k+1\\right)}+\\beta_k\\mathbf{d}^{\\left(k\\right)}$。\n",
    "8. 令$k=k+1$，返回第3步。"
   ]
  },
  {
   "cell_type": "markdown",
   "metadata": {},
   "source": [
    "命题10.1 共轭梯度法中的搜索方向$\\mathbf{d}^{\\left(0\\right)},\\mathbf{d}^{\\left(1\\right)},\\dots,\\mathbf{d}^{\\left(n-1\\right)}$是$\\mathbf{Q}$共轭方向。"
   ]
  },
  {
   "cell_type": "markdown",
   "metadata": {},
   "source": [
    "## 10.4 非二次型问题中的共轭梯度法"
   ]
  },
  {
   "cell_type": "markdown",
   "metadata": {},
   "source": [
    "Hestenes-Stiefel公式：共轭梯度法中\n",
    "$$\\beta_k=\\frac{\\mathbf{g}^{\\left(k+1\\right)\\top}\\left[\\mathbf{g}^{\\left(k+1\\right)}-\\mathbf{g}^{\\left(k\\right)\\top}\\right]}{\\mathbf{d}^{\\left(k\\right)\\top}\\left[\\mathbf{g}^{\\left(k+1\\right)}-\\mathbf{g}^{\\left(k\\right)\\top}\\right]}$$"
   ]
  },
  {
   "cell_type": "markdown",
   "metadata": {},
   "source": [
    "Polak-Ribiere公式：Hestenes-Stiefel公式中分母展开，可得\n",
    "$$\\beta_k=\\frac{\\mathbf{g}^{\\left(k+1\\right)\\top}\\left[\\mathbf{g}^{\\left(k+1\\right)}-\\mathbf{g}^{\\left(k\\right)\\top}\\right]}{\\mathbf{g}^{\\left(k\\right)\\top}\\mathbf{g}^{\\left(k\\right)}}$$"
   ]
  },
  {
   "cell_type": "markdown",
   "metadata": {},
   "source": [
    "Polak-Ribiere公式：Hestenes-Stiefel公式中分子展开，可得\n",
    "$$\\beta_k=\\frac{\\mathbf{g}^{\\left(k+1\\right)\\top}\\mathbf{g}^{\\left(k+1\\right)}}{\\mathbf{g}^{\\left(k\\right)\\top}\\mathbf{g}^{\\left(k\\right)}}$$"
   ]
  },
  {
   "cell_type": "code",
   "execution_count": null,
   "metadata": {
    "collapsed": true
   },
   "outputs": [],
   "source": []
  }
 ],
 "metadata": {
  "kernelspec": {
   "display_name": "Python 3",
   "language": "python",
   "name": "python3"
  },
  "language_info": {
   "codemirror_mode": {
    "name": "ipython",
    "version": 3
   },
   "file_extension": ".py",
   "mimetype": "text/x-python",
   "name": "python",
   "nbconvert_exporter": "python",
   "pygments_lexer": "ipython3",
   "version": "3.7.4"
  }
 },
 "nbformat": 4,
 "nbformat_minor": 2
}

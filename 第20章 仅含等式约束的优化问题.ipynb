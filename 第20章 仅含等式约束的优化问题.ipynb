{
 "cells": [
  {
   "cell_type": "markdown",
   "metadata": {},
   "source": [
    "第20章 仅含等式约束的优化问题"
   ]
  },
  {
   "cell_type": "markdown",
   "metadata": {},
   "source": [
    "20.1 引言"
   ]
  },
  {
   "cell_type": "markdown",
   "metadata": {},
   "source": [
    "有约束非线性优化问题\n",
    "$$\\min f\\left(\\mathbf{x}\\right) \\\\\n",
    "s.t. \\quad h_i\\left(\\mathbf{x}\\right)=0, i=1,\\dots,m \\\\\n",
    "\\quad g_j\\left(\\mathbf{x}\\right)\\leqslant0,j=1,\\dots,p$$\n",
    "其中，$\\mathbf{x}\\in\\mathbb{R}^n,f:\\mathbb{R}^n\\to\\mathbb{R},h_i:\\mathbb{R}^n\\to\\mathbb{R},g_j:\\mathbb{R}^n\\to\\mathbb{R},m\\leqslant n$。"
   ]
  },
  {
   "cell_type": "markdown",
   "metadata": {},
   "source": [
    "向量表示的标准型\n",
    "$$\\min f\\left(\\mathbf{x}\\right) \\\\\n",
    "s.t. \\mathbf{h}\\left(\\mathbf{x}\\right)=\\mathbf{0}  \\\\\n",
    "\\quad \\mathbf{g}\\left(\\mathbf{x}\\right)\\leqslant \\mathbf{0}$$\n",
    "其中，$\\mathbf{h}:\\mathbb{R}^n\\to\\mathbb{R}^m,\\mathbf{g}:\\mathbb{R}^n\\to\\mathbb{R}^p$。"
   ]
  },
  {
   "cell_type": "markdown",
   "metadata": {},
   "source": [
    "定义20.1 满足所有约束条件的点称为可行点，所有可行点组成的集合\n",
    "$$\\{\\mathbf{x}\\in\\mathbb{R}^n:\\mathbf{h}\\left(\\mathbf{x}\\right)=\\mathbf{0},\\mathbf{g}\\leqslant\\mathbf{0}\\}$$\n",
    "称为可行集。"
   ]
  },
  {
   "cell_type": "markdown",
   "metadata": {},
   "source": [
    "极大化问题可转化为极小划问题\n",
    "$$\\max f\\left(x\\right)=\\min\\;-f\\left(x\\right)$$"
   ]
  },
  {
   "cell_type": "markdown",
   "metadata": {},
   "source": [
    "20.2 问题描述"
   ]
  },
  {
   "cell_type": "markdown",
   "metadata": {},
   "source": [
    "仅含等式约束的优化问题\n",
    "$$\\min f\\left(\\mathbf{x}\\right) \\\\\n",
    "s.t. \\mathbf{h}\\left(\\mathbf{x}\\right)=\\mathbf{0} $$\n",
    "其中，$\\mathbf{x}\\in\\mathbb{R}^n,f:\\mathbb{R}^n\\to\\mathbb{R},\\mathbf{h}:\\mathbb{R}^n\\to\\mathbb{R}^m,\\mathbf{h}=\\left[h_1,\\dots,h_m\\right]^\\top,m\\leqslant n$。"
   ]
  },
  {
   "cell_type": "markdown",
   "metadata": {},
   "source": [
    "定义20.2 对于满足约束$h_1\\left(\\mathbf{x}^*\\right)=0,\\dots,h_m\\left(\\mathbf{x}^*\\right)=0$的点$\\mathbf{x}^*$，如果梯度向量$\\nabla h_1\\left(\\mathbf{x}^*\\right),\\dots,\\nabla h_m\\left(\\mathbf{x}^*\\right)$是线性无关的，则称点$\\mathbf{x}$为该约束的一个正则点。其中假定函数$\\mathbf{h}$连续可微，即$\\mathbf{h}\\in\\mathcal{C}^1$。"
   ]
  },
  {
   "cell_type": "markdown",
   "metadata": {},
   "source": [
    "令$D\\mathbf{h}\\left(\\mathbf{x}^*\\right)$为向量$\\mathbf{h}=\\left[h_1,\\dots,h_m\\right]^\\top$在$\\mathbf{x}^*$处的雅可比矩阵\n",
    "$$D\\mathbf{h}\\left(\\mathbf{x}^*\\right)=\\begin{bmatrix} Dh_1\\left(\\mathbf{x}^*\\right) \\\\ \\vdots \\\\ Dh_m\\left(\\mathbf{x}^*\\right) \\end{bmatrix}=\\begin{bmatrix} \\nabla h_1\\left(\\mathbf{x}^*\\right)^\\top \\\\ \\vdots \\\\ \\nabla h_m\\left(\\mathbf{x}^*\\right)^\\top \\end{bmatrix}$$\n",
    "则，当且仅当$\\mathrm{rank}D\\mathbf{h}\\left(\\mathbf{x}^*\\right)=m$（即雅可比矩阵行满秩）时，$\\mathbf{x}^*$是正则的。"
   ]
  },
  {
   "cell_type": "markdown",
   "metadata": {},
   "source": [
    "线性约束的集合$h_1\\left(\\mathbf{x}\\right)=0,\\dots,h_m\\left(\\mathbf{x}\\right)=0,h_i:\\mathbb{R}^n\\to\\mathbb{R}$定义的是一个曲面：\n",
    "$$S=\\{\\mathbf{x}\\in\\mathbb{R}^n:h_1\\left(\\mathbf{x}\\right)=0,\\dots,h_m\\left(\\mathbf{x}\\right)=0\\}$$\n",
    "如果$S$上的所有点都是正则点，则曲面$S$的维数为$n-m$。"
   ]
  },
  {
   "cell_type": "markdown",
   "metadata": {},
   "source": [
    "20.3 切线空间和法线空间"
   ]
  },
  {
   "cell_type": "markdown",
   "metadata": {},
   "source": [
    "定义20.3 曲面$S$上的曲线$C$，是由$t\\in\\left(a,b\\right)$连续参数化的一组点构成的集合$\\{\\mathbf{x}\\left(t\\right)\\in S:t\\in\\left(a,b\\right)\\}$，即$\\mathbf{x}:\\left(a,b\\right)\\to S$是连续函数。"
   ]
  },
  {
   "cell_type": "markdown",
   "metadata": {},
   "source": [
    "由曲线定义可知，曲线上的所有点都满足曲面方程。如果曲线$C$通过一个点$\\mathbf{x}^*$，则必然存在$t^*\\in\\left(a,b\\right)$，使得$\\mathbf{x}\\left(t^*\\right)=\\mathbf{x}^*$。"
   ]
  },
  {
   "cell_type": "markdown",
   "metadata": {},
   "source": [
    "可以把曲线$C=\\{\\mathbf{x}\\left(t\\right):t\\in\\left(a,b\\right)\\}$当作某个点在曲面$S$上运动是经过点$\\mathbf{x}$的路径，$\\mathbf{x}\\left(t\\right)$表示点在$t$时刻的位置。"
   ]
  },
  {
   "cell_type": "markdown",
   "metadata": {},
   "source": [
    "定义20.4 如果对于所有$t\\in\\left(a,b\\right)$，\n",
    "$$\\dot{\\mathbf{x}}\\left(t\\right)=\\frac{\\mathrm{d}\\mathbf{x}}{\\mathrm{d}t}\\left(t\\right)=\\begin{bmatrix} \\dot{x}_1\\left(t\\right) \\\\ \\vdots \\\\ \\dot{x}_n\\left(t\\right) \\end{bmatrix}$$\n",
    "都存在，则曲线$C=\\{\\mathbf{x}\\left(t\\right):t\\in\\left(a,b\\right)\\}$是线性可微的。"
   ]
  },
  {
   "cell_type": "markdown",
   "metadata": {},
   "source": [
    "如果对于所有$t\\in\\left(a,b\\right)$，\n",
    "$$\\ddot{\\mathbf{x}}\\left(t\\right)=\\frac{\\mathrm{d}^2\\mathbf{x}}{\\mathrm{d}t^2}\\left(t\\right)=\\begin{bmatrix} \\ddot{x}_1\\left(t\\right) \\\\ \\vdots \\\\ \\ddot{x}_n\\left(t\\right) \\end{bmatrix}$$\n",
    "都存在，则曲线$C=\\{\\mathbf{x}\\left(t\\right):t\\in\\left(a,b\\right)\\}$是二次可微的。"
   ]
  },
  {
   "cell_type": "markdown",
   "metadata": {},
   "source": [
    "$\\dot{\\mathbf{x}}\\left(t\\right)$和$\\ddot{\\mathbf{x}}\\left(t\\right)$均是$n$维向量。可以把$\\dot{\\mathbf{x}}\\left(t\\right)$和$\\ddot{\\mathbf{x}}\\left(t\\right)$分别视为运动路径为$C$的某个点$\\mathbf{x}\\left(t\\right)$在$t$时刻的速度和加速度。向量$\\dot{\\mathbf{x}}\\left(t\\right)$指向$\\mathbf{x}\\left(t\\right)$的瞬时运动方向。因此向量$\\dot{\\mathbf{x}}\\left(t^*\\right)$在$\\mathbf{x}^*$处与曲线$C$相切。"
   ]
  },
  {
   "cell_type": "markdown",
   "metadata": {},
   "source": [
    "定义20.5 曲面$S=\\{\\mathbf{x}\\in\\mathbb{R}^n:\\mathbf{h}\\left(\\mathbf{x}\\right)=\\mathbf{0}\\}$中的点$\\mathbf{x}^*$处的切线空间为集合$T\\left(\\mathbf{x^*}\\right)=\\{\\mathbf{y}:D\\mathbf{h}\\left(\\mathbf{x}^*\\right)\\mathbf{y}=\\mathbf{0}\\}$"
   ]
  },
  {
   "cell_type": "markdown",
   "metadata": {},
   "source": [
    "切线空间$T\\left(\\mathbf{x}^*\\right)$是矩阵$D\\mathbf{h}\\left(\\mathbf{x}^*\\right)$的零空间\n",
    "$$T\\left(\\mathbf{x}^*\\right)=\\mathcal{N}\\left(D\\mathbf{h}\\left(\\mathbf{x}^*\\right)\\right)$$\n",
    "因此，切线空间是$\\mathbb{R}^n$的子空间。"
   ]
  },
  {
   "cell_type": "markdown",
   "metadata": {},
   "source": [
    "假设$\\mathbf{x}^*$是正则点，则切线空间的维数为$n-m$，$m$是等式约束$h_i\\left(\\mathbf{x}^*\\right)=0$的数量。"
   ]
  },
  {
   "cell_type": "markdown",
   "metadata": {},
   "source": [
    "切线空间经过原点，但常被描绘为一个经过点$\\mathbf{x}^*$的平面。点$\\mathbf{x}^*$处的切平面定义为\n",
    "$$TP\\left(\\mathbf{x}^*\\right)=T\\left(\\mathbf{x}^*\\right)+\\mathbf{x}^*=\\{\\mathbf{x}+\\mathbf{x}^*:\\mathbf{x}\\in T\\left(\\mathbf{x}^*\\right)\\}$$"
   ]
  },
  {
   "cell_type": "markdown",
   "metadata": {},
   "source": [
    "定理20.1 假设$\\mathbf{x}^*\\in S$是一个正则点且$T\\left(\\mathbf{x}^*\\right)$是$\\mathbf{x}^*$处的切线空间，当且仅当曲面$S$中存在一条经过点$\\mathbf{x}^*$的可微曲线，其在$\\mathbf{x}^*$处的导数为$\\mathbf{y}$时，有$\\mathbf{y}\\in T\\left(\\mathbf{x}^*\\right)$成立。"
   ]
  },
  {
   "cell_type": "markdown",
   "metadata": {},
   "source": [
    "定义20.6 曲面$S=\\{\\mathbf{x}\\in\\mathbb{R}^n:\\mathbf{h}\\left(\\mathbf{x}\\right)=\\mathbf{0}\\}$中的点$\\mathbf{x}^*$处的法向量空间$N\\left(\\mathbf{x}^*\\right)$定义为$N\\left(\\mathbf{x}^*\\right)=\\{\\mathbf{x}\\in\\mathbb{R}^n:\\mathbf{x}=D\\mathbf{h}\\left(\\mathbf{x}^*\\right)^\\top\\mathbf{z},\\mathbf{z}\\in\\mathbb{R}^m\\}$"
   ]
  },
  {
   "cell_type": "markdown",
   "metadata": {},
   "source": [
    "法线空间可表示为\n",
    "$$N\\left(\\mathbf{x}^*\\right)=\\mathcal{R}\\left(D\\mathbf{h}\\left(\\mathbf{x}^*\\right)^\\top\\right)$$\n",
    "即法线空间是矩阵$D\\mathbf{h}\\left(\\mathbf{x}^*\\right)^\\top$的值域。"
   ]
  },
  {
   "cell_type": "markdown",
   "metadata": {},
   "source": [
    "法线空间$N\\left(\\mathbf{x}^*\\right)$是由向量$\\nabla h_1\\left(\\mathbf{x}^*\\right),\\dots,\\nabla h_m\\left(\\mathbf{x}^*\\right)$张成的子空间，即\n",
    "$$N\\left(\\mathbf{x}^*\\right)=span\\left[\\nabla h_1\\left(\\mathbf{x}^*\\right),\\dots,\\nabla h_m\\left(\\mathbf{x}^*\\right)\\right] \\\\\n",
    "\\quad\\quad\\quad\\quad\\quad\\quad\\quad\\quad\\quad\\quad\\quad\\quad\\quad\\quad=\\{\\mathbf{x}\\in\\mathbb{R}^n:\\mathbf{x}=z_1\\nabla h_1\\left(\\mathbf{x}^*\\right)+\\dots+z_m\\nabla h_m\\left(\\mathbf{x}^*\\right),z_1,\\dots,z_m\\in\\mathbb{R}\\}$$"
   ]
  },
  {
   "cell_type": "markdown",
   "metadata": {},
   "source": [
    "当$\\mathbf{x}^*$是正则点时，法线空间$N\\left(\\mathbf{x}^*\\right)$的维数为$m$。"
   ]
  },
  {
   "cell_type": "markdown",
   "metadata": {},
   "source": [
    "$\\mathbf{x}^*$处的法平面为\n",
    "$$NP\\left(\\mathbf{x}^*\\right)=N\\left(\\mathbf{x}^*\\right)+\\mathbf{x}^*=\\{\\mathbf{x}+\\mathbf{x}^*:\\mathbf{x}\\in N\\left(\\mathbf{x}^*\\right)\\}$$"
   ]
  },
  {
   "cell_type": "markdown",
   "metadata": {},
   "source": [
    "切线空间和法线空间互为正交补。"
   ]
  },
  {
   "cell_type": "markdown",
   "metadata": {},
   "source": [
    "可以对$\\mathbb{R}^n$进行直和分解\n",
    "$$\\mathbb{R}^n=N\\left(\\mathbf{x}^*\\right)\\oplus T\\left(\\mathbf{x}^*\\right)$$\n",
    "即对于任意向量$\\mathbf{v}\\in\\mathbb{R}^n$，存在仅有的一对向量$\\mathbf{w}\\in N\\left(\\mathbf{x}^*\\right)$和$\\mathbf{y}\\in T\\left(\\mathbf{x}^*\\right)$，使得$\\mathbf{v}=\\mathbf{w}+\\mathbf{y}$。"
   ]
  },
  {
   "cell_type": "markdown",
   "metadata": {
    "collapsed": true
   },
   "source": [
    "20.4 拉格朗日条件"
   ]
  },
  {
   "cell_type": "markdown",
   "metadata": {},
   "source": [
    "令$\\mathbf{h}:\\mathbb{R}^2\\to\\mathbb{R}$为约束函数，一直函数定义域中的点$\\mathbf{x}$处的梯度$\\nabla\\mathbf{h}\\left(\\mathbf{x}\\right)$与通过该点的$\\mathbf{h}\\left(\\mathbf{x}\\right)$水平集正交。选择点$\\mathbf{x}^*=\\left[x_1^*,x_2^*\\right]^\\top$，使得$\\mathbf{h}\\left(\\mathbf{x^*}\\right)=0$，且$\\nabla\\mathbf{h}\\left(\\mathbf{x}\\right)\\neq0$，经过点$\\mathbf{x}^*$的水平集为集合$\\{\\mathbf{x}:\\mathbf{h}\\left(\\mathbf{x}\\right)=\\mathbf{0}\\}$。"
   ]
  },
  {
   "cell_type": "markdown",
   "metadata": {},
   "source": [
    "利用曲线$\\{\\mathbf{x}\\left(t\\right)\\}$在$\\mathbf{x}^*$邻域内对水平集进行参数化，$\\mathbf{x}\\left(t\\right)$为一个连续可微的向量函数$\\mathbf{x}:\\mathbb{R}\\to\\mathbb{R}^2$\n",
    "$$\\mathbf{x}\\left(t\\right)=\\begin{bmatrix} x_1\\left(t\\right) \\\\ x_2\\left(t\\right) \\end{bmatrix},t\\in\\left(a,b\\right),\\mathbf{x}^*=\\mathbf{x}\\left(t^*\\right),\\dot{\\mathbf{x}}\\left(t^*\\right)\\neq\\mathbf{0},t^*\\in\\left(a,b\\right)$$"
   ]
  },
  {
   "cell_type": "markdown",
   "metadata": {},
   "source": [
    "由于$\\mathbf{h}$在曲线$\\{\\mathbf{x}\\left(t\\right):t\\in\\left(a,b\\right)\\}$上是常数，即对于任意$t\\in\\left(a,b\\right)$，有\n",
    "$$\\mathbf{h}\\left(\\mathbf{x}\\left(t\\right)\\right)=0$$\n",
    "因此，对于任意$t\\in\\left(a,b\\right)$有\n",
    "$$\\frac{\\mathrm{d}}{\\mathrm{d}t}\\mathbf{h}\\left(\\mathbf{x}\\left(t\\right)\\right)=0$$"
   ]
  },
  {
   "cell_type": "markdown",
   "metadata": {},
   "source": [
    "利用链式法则，可得\n",
    "$$\\frac{\\mathrm{d}}{\\mathrm{d}t}\\mathbf{h}\\left(\\mathbf{x}\\left(t\\right)\\right)=\\nabla\\mathbf{h}\\left(\\mathbf{x}\\left(t\\right)\\right)^\\top\\dot{\\mathbf{x}}\\left(t\\right)=0$$\n",
    "因此，$\\nabla\\mathbf{h}\\left(\\mathbf{x}\\left(t\\right)\\right)^\\top\\dot{\\mathbf{x}}\\left(t\\right)=0$，即$\\nabla\\mathbf{h}\\left(\\mathbf{x^*}\\right)$与$\\dot{\\mathbf{x}}\\left(t^*\\right)$正交。"
   ]
  },
  {
   "cell_type": "markdown",
   "metadata": {},
   "source": [
    "构造关于$t$的复合函数\n",
    "$$\\phi\\left(t\\right)=\\mathbf{f}\\left(\\mathbf{x}\\left(t\\right)\\right)$$"
   ]
  },
  {
   "cell_type": "markdown",
   "metadata": {},
   "source": [
    "该函数在$t=t^*$时取得极小值。根据无约束极值问题的一阶必要条件可知\n",
    "$$\\frac{\\mathrm{d}\\phi}{\\mathrm{d}t}\\left(t^*\\right)=0$$"
   ]
  },
  {
   "cell_type": "markdown",
   "metadata": {},
   "source": [
    "利用链式法则，可得\n",
    "$$\\frac{\\mathrm{d}}{\\mathrm{d}t}\\phi\\left(t^*\\right)=\\nabla\\mathbf{f}\\left(\\mathbf{x}\\left(t^*\\right)\\right)^\\top\\dot{\\mathbf{x}}\\left(t^*\\right)=0$$\n",
    "因此，$\\nabla\\mathbf{f}\\left(\\mathbf{x}^*\\right)$与$\\dot{\\mathbf{x}}\\left(t^*\\right)$正交。"
   ]
  },
  {
   "cell_type": "markdown",
   "metadata": {},
   "source": [
    "由于$\\dot{\\mathbf{x}}\\left(t^*\\right)$与曲线$\\{\\mathbf{x}\\left(t\\right)\\}$在点$\\mathbf{x}^*$处相切，因此$\\nabla\\mathbf{f}\\left(\\mathbf{x}^*\\right)$与曲线$\\{\\mathbf{x}\\left(t\\right)\\}$在点$\\mathbf{x}^*$处正交。"
   ]
  },
  {
   "cell_type": "markdown",
   "metadata": {},
   "source": [
    "由于，$\\nabla\\mathbf{h}\\left(\\mathbf{x^*}\\right)$与$\\dot{\\mathbf{x}}\\left(t^*\\right)$正交，且$\\nabla\\mathbf{f}\\left(\\mathbf{x}^*\\right)$与$\\dot{\\mathbf{x}}\\left(t^*\\right)$正交，因此$\\nabla\\mathbf{h}\\left(\\mathbf{x^*}\\right)$与$\\nabla\\mathbf{f}\\left(\\mathbf{x}^*\\right)$平行，即$\\nabla\\mathbf{f}\\left(\\mathbf{x}^*\\right)$等于$\\nabla\\mathbf{h}\\left(\\mathbf{x^*}\\right)$与一个标量之积。"
   ]
  },
  {
   "cell_type": "markdown",
   "metadata": {},
   "source": [
    "定理20.2 $n=2,m=1$时的拉格朗日定理  \n",
    "设点$\\mathbf{x}^*$是函数$\\mathbf{f}:\\mathbb{R}^2\\to\\mathbb{R}$的一个极小点，约束条件是$\\mathbf{h}\\left(\\mathbf{x}\\right)=0,\\mathbf{h}:\\mathbb{R}^2\\to\\mathbb{R}$，那么$\\nabla\\mathbf{h}\\left(\\mathbf{x^*}\\right)$与$\\nabla\\mathbf{f}\\left(\\mathbf{x}^*\\right)$平行，即如果$\\nabla\\mathbf{h}\\left(\\mathbf{x^*}\\right)\\neq0$，则存在标量$\\lambda^*$，使得\n",
    "$$\\nabla\\mathbf{f}\\left(\\mathbf{x}^*\\right)+\\lambda^*\\nabla\\mathbf{h}\\left(\\mathbf{x^*}\\right)=\\mathbf{0}$$\n",
    "其中，$\\lambda^*$称为拉格朗日乘子。"
   ]
  },
  {
   "cell_type": "markdown",
   "metadata": {},
   "source": [
    "定理20.3 拉格朗日定理  \n",
    "设点$\\mathbf{x}^*$是函数$\\mathbf{f}:\\mathbb{R}^n\\to\\mathbb{R}$的一个极小点，约束条件是$\\mathbf{h}\\left(\\mathbf{x}\\right)=0,\\mathbf{h}:\\mathbb{R}^n\\to\\mathbb{R}^m,m\\leqslant n$。如果$\\mathbf{x}^*$是正则点，那么存在$\\boldsymbol{\\lambda}^*\\in\\mathbb{R}^m$，使得\n",
    "$$D\\mathbf{f}\\left(\\mathbf{x}^*\\right)+\\boldsymbol{\\lambda}^{*\\top}D\\mathbf{h}\\left(\\mathbf{x^*}\\right)=\\mathbf{0}^\\top$$"
   ]
  },
  {
   "cell_type": "markdown",
   "metadata": {},
   "source": [
    "拉格朗日定理表明，如果$\\mathbf{x}^*$是极值点，则目标函数$\\mathbf{f}$在该店处梯度可表示为关于约束函数在该点处梯度的线性组合。向量$\\boldsymbol{\\lambda}^*$称为拉格朗日乘子向量。拉格朗日条件是必要条件，而不是充分条件。"
   ]
  },
  {
   "cell_type": "markdown",
   "metadata": {},
   "source": [
    "引入拉格朗日函数$l:\\mathbb{R}^n\\times\\mathbb{R}^m\\to\\mathbb{R}$\n",
    "$$l\\left(\\mathbf{x},\\boldsymbol{\\lambda}\\right)\\triangleq\\mathbf{f}\\left(\\mathbf{x}\\right)+\\boldsymbol{\\lambda}^\\top\n",
    "\\mathbf{h}\\left(\\mathbf{x}\\right)$$"
   ]
  },
  {
   "cell_type": "markdown",
   "metadata": {},
   "source": [
    "令$D_{\\mathbf{x}}l$表示$l$关于$\\mathbf{x}$的导数，$D_{\\mathbf{x}}l\\left(\\mathbf{x},\\boldsymbol{\\lambda}\\right)=D\\mathbf{f}\\left(\\mathbf{x}\\right)+\\boldsymbol{\\lambda}^\\top D\\mathbf{h}\\left(\\mathbf{x}\\right)$；$D_{\\boldsymbol{\\lambda}}l$表示$l$关于$\\boldsymbol{\\lambda}$的导数，$D_{\\boldsymbol{\\lambda}}l\\left(\\mathbf{x},\\boldsymbol{\\lambda}\\right)=\\mathbf{h}\\left(\\mathbf{x}\\right)^\\top$，有\n",
    "$$Dl\\left(\\mathbf{x},\\boldsymbol{\\lambda}\\right)=\\left[D_{\\mathbf{x}}l\\left(\\mathbf{x},\\boldsymbol{\\lambda}\\right),D_{\\boldsymbol{\\lambda}}l\\left(\\mathbf{x},\\boldsymbol{\\lambda}\\right)\\right]$$"
   ]
  },
  {
   "cell_type": "markdown",
   "metadata": {},
   "source": [
    "局部极小点$\\mathbf{x}^*$的拉格朗日条件可以表达为存在$\\boldsymbol{\\lambda}^*$，满足\n",
    "$$D_{\\mathbf{x}}l\\left(\\mathbf{x},\\boldsymbol{\\lambda}\\right)=D\\mathbf{f}\\left(\\mathbf{x}\\right)+\\boldsymbol{\\lambda}^\\top D\\mathbf{h}\\left(\\mathbf{x}\\right)=\\mathbf{0}^\\top \\\\\n",
    "D_{\\boldsymbol{\\lambda}}l\\left(\\mathbf{x},\\boldsymbol{\\lambda}\\right)=\\mathbf{h}\\left(\\mathbf{x}\\right)^\\top=\\mathbf{0}^\\top$$\n",
    "即\n",
    "$$Dl\\left(\\mathbf{x}^*,\\boldsymbol{\\lambda}^*\\right)=\\mathbf{0}^\\top$$\n",
    "拉格朗日定理给定的必要条件，等价于将拉格朗日方程视为无约束优化问题的目标函数对应的一阶必要条件。"
   ]
  },
  {
   "cell_type": "markdown",
   "metadata": {},
   "source": [
    "通过求解拉格朗日条件\n",
    "$$D_{\\mathbf{x}}l\\left(\\mathbf{x},\\boldsymbol{\\lambda}\\right)=\\mathbf{0}^\\top \\\\\n",
    "D_{\\boldsymbol{\\lambda}}l\\left(\\mathbf{x},\\boldsymbol{\\lambda}\\right)=\\mathbf{0}^\\top$$\n",
    "可找出可能的极值点。拉格朗日条件是必要非充分条件，即满足上述方程的点$\\mathbf{x}^*$不一定是极值点。"
   ]
  },
  {
   "cell_type": "markdown",
   "metadata": {},
   "source": [
    "20.5 二阶条件"
   ]
  },
  {
   "cell_type": "markdown",
   "metadata": {},
   "source": [
    "已知$f:\\mathbb{R}^n\\to\\mathbb{R}$和$\\mathbf{h}:\\mathbb{R}^n\\to\\mathbb{R}^m$是二次连续可微函数，即$f,\\mathbf{h}\\in\\mathcal{C}^2$。拉格朗日函数为\n",
    "$$l\\left(\\mathbf{x},\\boldsymbol{\\lambda}\\right)=f\\left(\\mathbf{x}\\right)+\\boldsymbol{\\lambda}^\\top\\mathbf{h}\\left(\\mathbf{x}\\right)=f\\left(\\mathbf{x}\\right)+\\lambda_1h_1\\left(\\mathbf{x}\\right)+\\dots+\\lambda_mh_m\\left(\\mathbf{x}\\right)$$"
   ]
  },
  {
   "cell_type": "markdown",
   "metadata": {},
   "source": [
    "记$\\mathbf{L}\\left(\\mathbf{x},\\boldsymbol{\\lambda}\\right)$是$l\\left(\\mathbf{x},\\boldsymbol{\\lambda}\\right)$关于$\\mathbf{x}$的黑塞矩阵\n",
    "$$\\mathbf{L}\\left(\\mathbf{x},\\boldsymbol{\\lambda}\\right)=\\mathbf{F}\\left(\\mathbf{x}\\right)+\\lambda_1\\mathbf{H}_1\\left(\\mathbf{x}\\right)+\\dots+\\lambda_m\\mathbf{H}_m\\left(\\mathbf{x}\\right)$$\n",
    "其中，$\\mathbf{F}\\left(\\mathbf{x}\\right)$是$f$在$\\mathbf{x}$处的黑塞矩阵；$\\mathbf{H}_k\\left(\\mathbf{x}\\right)$是$h_k,k=1,\\dots,m$在$\\mathbf{x}$处的黑塞矩阵\n",
    "$$\\mathbf{H}_k\\left(\\mathbf{x}\\right)=\\begin{bmatrix} \\frac{\\partial^2h_k}{\\partial x_1^2}\\left(\\mathbf{x}\\right) & \\cdots & \\frac{\\partial^2h_k}{\\partial x_n \\partial x_1}\\left(\\mathbf{x}\\right) \\\\ \\vdots  &  & \\vdots\\\\  \\frac{\\partial^2h_k}{\\partial x_1 \\partial x_n}\\left(\\mathbf{x}\\right) & \\cdots &  \\frac{\\partial^2h_k}{\\partial x_n^2 }\\left(\\mathbf{x}\\right) \\end{bmatrix}$$"
   ]
  },
  {
   "cell_type": "markdown",
   "metadata": {},
   "source": [
    "记\n",
    "$$\\left[\\boldsymbol{\\lambda}\\mathbf{H}\\left(\\mathbf{x}\\right)\\right]=\\lambda_1\\mathbf{H}_1\\left(\\mathbf{x}\\right)+\\dots+\\lambda_m\\mathbf{H}_m\\left(\\mathbf{x}\\right)$$"
   ]
  },
  {
   "cell_type": "markdown",
   "metadata": {},
   "source": [
    "可将拉格朗日函数写为\n",
    "$$\\mathbf{L}\\left(\\mathbf{x},\\boldsymbol{\\lambda}\\right)=\\mathbf{F}\\left(\\mathbf{x}\\right)+\\left[\\boldsymbol{\\lambda}\\mathbf{H}\\left(\\mathbf{x}\\right)\\right]$$"
   ]
  },
  {
   "cell_type": "markdown",
   "metadata": {},
   "source": [
    "定理20.4 二阶必要条件  \n",
    "设$\\mathbf{x}^*$是$f:\\mathbb{R}^n\\to\\mathbb{R}$在约束条件$\\mathbf{h}\\left(\\mathbf{x}\\right)=\\mathbf{0},\\mathbf{h}:\\mathbb{R}^n\\to\\mathbb{R}^m,m\\leqslant n,f,\\mathbf{h}\\in\\mathcal{C}^2$下的局部极小点。如果$\\mathbf{x}^*$是正则点，那么存在$\\boldsymbol{\\lambda}^*\\in\\mathbb{R}^m$使得\n",
    "1. $Df\\left(\\mathbf{x}\\right)+\\boldsymbol{\\lambda}^{*\\top}D\\mathbf{h}\\left(\\mathbf{x}^*\\right)=\\mathbf{0}^\\top$  \n",
    "2. 对于所有$\\mathbf{y}\\in\\mathbf{T}\\left(\\mathbf{x}^*\\right)$，都有$\\mathbf{y}^\\top\\mathbf{L}\\left(\\mathbf{x}^*,\\boldsymbol{\\lambda}^*\\right)\\mathbf{y}\\geqslant0$"
   ]
  },
  {
   "cell_type": "markdown",
   "metadata": {},
   "source": [
    "定理20.5 二阶充分条件  \n",
    "函数$f,\\mathbf{h}\\in\\mathcal{C}^2$，如果存在点$\\mathbf{x}^*\\in\\mathbf{R}^n$和$\\boldsymbol{\\lambda}^*\\in\\mathbb{R}^m$使得\n",
    "1. $Df\\left(\\mathbf{x}\\right)+\\boldsymbol{\\lambda}^{*\\top}D\\mathbf{h}\\left(\\mathbf{x}^*\\right)=\\mathbf{0}^\\top$  \n",
    "2. 对于所有$\\mathbf{y}\\in\\mathbf{T}\\left(\\mathbf{x}^*\\right)，\\mathbf{y}\\neq\\mathbf{0}$，都有$\\mathbf{y}^\\top\\mathbf{L}\\left(\\mathbf{x}^*,\\boldsymbol{\\lambda}^*\\right)\\mathbf{y}\\geqslant0$  \n",
    "\n",
    "那么，$\\mathbf{x}^*$是$f$在约束条件$\\mathbf{h}\\left(\\mathbf{x}\\right)=\\mathbf{0}$下的严格局部极小点。"
   ]
  },
  {
   "cell_type": "markdown",
   "metadata": {},
   "source": [
    "20.6 线性约束下二次型函数的极小化"
   ]
  },
  {
   "cell_type": "markdown",
   "metadata": {},
   "source": [
    "$$\\min\\frac{1}{2}\\mathbf{x}^\\top\\mathbf{Q}\\mathbf{x}  \\\\\n",
    "s.t.\\mathbf{A}\\mathbf{x}=\\mathbf{b}$$\n",
    "其中，$\\mathbf{Q}>\\mathbf{0},\\mathbf{A}\\in\\mathbb{R}^{m\\times n},m<n,\\mathrm{rank}\\mathbf{A}=m$。"
   ]
  },
  {
   "cell_type": "markdown",
   "metadata": {},
   "source": [
    "构造蓝格朗日函数\n",
    "$$l\\left(\\mathbf{x},\\boldsymbol{\\lambda}\\right)=\\frac{1}{2}\\mathbf{x}^\\top\\mathbf{Q}\\mathbf{x}+\\boldsymbol{\\lambda}^\\top\\left(\\mathbf{b}-\\mathbf{A}\\mathbf{x}\\right)$$"
   ]
  },
  {
   "cell_type": "markdown",
   "metadata": {},
   "source": [
    "导出拉格朗日条件\n",
    "$$D_{\\mathbf{x}}l\\left(\\mathbf{x}^*,\\boldsymbol{\\lambda}^*\\right)=\\mathbf{x}^{*\\top}\\mathbf{Q}-\\boldsymbol{\\lambda}^*\\mathbf{A}=\\mathbf{0}^\\top$$"
   ]
  },
  {
   "cell_type": "markdown",
   "metadata": {},
   "source": [
    "整理得\n",
    "$$\\mathbf{x}^*=\\mathbf{Q}^{-1}\\mathbf{A}^\\top\\boldsymbol{\\lambda}^*$$"
   ]
  },
  {
   "cell_type": "markdown",
   "metadata": {},
   "source": [
    "等式两边同时左乘矩阵$\\mathbf{A}$，有\n",
    "$$\\mathbf{A}\\mathbf{x}^*=\\mathbf{A}\\mathbf{Q}^{-1}\\mathbf{A}^\\top\\boldsymbol{\\lambda}^*=\\mathbf{b}$$"
   ]
  },
  {
   "cell_type": "markdown",
   "metadata": {},
   "source": [
    "由于$\\mathbf{Q}>0$，且$\\mathbf{A}$的秩为$m$，可得\n",
    "$$\\boldsymbol{\\lambda}^*=\\left(\\mathbf{A}\\mathbf{Q}^{-1}\\mathbf{A}^\\top\\boldsymbol{\\lambda}^*\\right)^{-1}\\mathbf{b}$$"
   ]
  },
  {
   "cell_type": "markdown",
   "metadata": {},
   "source": [
    "由此可得\n",
    "$$\\mathbf{x}^*=\\mathbf{Q}^{-1}\\mathbf{A}^\\top\\left(\\mathbf{A}\\mathbf{Q}^{-1}\\mathbf{A}^\\top\\boldsymbol{\\lambda}^*\\right)^{-1}\\mathbf{b}$$"
   ]
  },
  {
   "cell_type": "markdown",
   "metadata": {},
   "source": [
    "由于拉格朗日函数在$\\left(\\mathbf{x}^*,\\boldsymbol{\\lambda}^*\\right)$处的黑塞矩阵\n",
    "$$\\mathbf{L}\\left(\\mathbf{x}^*,\\boldsymbol{\\lambda}^*\\right)=\\mathbf{Q}$$\n",
    "黑塞矩阵正定，因此$\\mathbf{x}^*$是严格局部极小点。"
   ]
  },
  {
   "cell_type": "code",
   "execution_count": null,
   "metadata": {
    "collapsed": true
   },
   "outputs": [],
   "source": []
  }
 ],
 "metadata": {
  "kernelspec": {
   "display_name": "Python 2",
   "language": "python",
   "name": "python2"
  },
  "language_info": {
   "codemirror_mode": {
    "name": "ipython",
    "version": 2
   },
   "file_extension": ".py",
   "mimetype": "text/x-python",
   "name": "python",
   "nbconvert_exporter": "python",
   "pygments_lexer": "ipython2",
   "version": "2.7.13"
  }
 },
 "nbformat": 4,
 "nbformat_minor": 2
}
